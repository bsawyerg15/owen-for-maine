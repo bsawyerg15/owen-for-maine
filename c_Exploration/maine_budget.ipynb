{
 "cells": [
  {
   "cell_type": "markdown",
   "id": "6bfd5a74",
   "metadata": {},
   "source": [
    "# Imports"
   ]
  },
  {
   "cell_type": "code",
   "execution_count": 24,
   "id": "55b95567",
   "metadata": {},
   "outputs": [],
   "source": [
    "import pdfplumber\n",
    "import pandas as pd\n",
    "import matplotlib.pyplot as plt\n",
    "import re\n",
    "import plotly.express as px\n",
    "import plotly.graph_objects as go\n",
    "import numpy as np\n",
    "\n",
    "plt.style.use('default')"
   ]
  },
  {
   "cell_type": "code",
   "execution_count": 25,
   "id": "66cdf575",
   "metadata": {},
   "outputs": [],
   "source": [
    "from fredapi import Fred\n",
    "\n",
    "api_key = \"902a2e4cf2100e3f1045cfbec0139940\"\n",
    "fred = Fred(api_key=api_key)"
   ]
  },
  {
   "cell_type": "markdown",
   "id": "a55896db",
   "metadata": {},
   "source": [
    "## Ingest Category Mapping"
   ]
  },
  {
   "cell_type": "code",
   "execution_count": 26,
   "id": "ef9523d3",
   "metadata": {},
   "outputs": [],
   "source": [
    "category_mapping_df = pd.read_csv('../a_Configs/department_mapping.csv')"
   ]
  },
  {
   "cell_type": "markdown",
   "id": "5fb08537",
   "metadata": {},
   "source": [
    "## Ingest Maine Budget Data"
   ]
  },
  {
   "cell_type": "code",
   "execution_count": 27,
   "id": "99aacd52",
   "metadata": {},
   "outputs": [],
   "source": [
    "budget_to_end_page = {\n",
    "    \"2026-2027\": 8,\n",
    "    \"2024-2025\": 9,\n",
    "    \"2022-2023\": 8,\n",
    "    \"2020-2021\": 8,\n",
    "    \"2018-2019\": 8,\n",
    "    \"2016-2017\": 8\n",
    "}"
   ]
  },
  {
   "cell_type": "code",
   "execution_count": 28,
   "id": "d0c23741",
   "metadata": {},
   "outputs": [],
   "source": [
    "def parse_headline_table(headline_table, first_year, second_year):\n",
    "    \"\"\"\n",
    "    Parse the headline_table text into a DataFrame with columns:\n",
    "    Department | Funding Source | first_year | second_year\n",
    "\n",
    "    Args:\n",
    "        headline_table (str): The text containing budget information\n",
    "\n",
    "    Returns:\n",
    "        pd.DataFrame: DataFrame with parsed budget data\n",
    "    \"\"\"\n",
    "    lines = headline_table.strip().split('\\n')\n",
    "    data = []\n",
    "    current_dept = None\n",
    "    funding_pattern = re.compile(r'^(.+?)\\s+(\\(?\\d{1,3}(?:,\\d{3})*\\)?)\\s+(\\(?\\d{1,3}(?:,\\d{3})*\\)?)$')\n",
    "\n",
    "    for line in lines:\n",
    "        line = line.strip()\n",
    "        if not line:\n",
    "            continue\n",
    "\n",
    "        if line[0].isdigit():\n",
    "            # New department\n",
    "            parts = line.split(' ', 1)\n",
    "            if len(parts) > 1:\n",
    "                current_dept = parts[1]\n",
    "            else:\n",
    "                current_dept = line\n",
    "        else:\n",
    "            match = funding_pattern.match(line)\n",
    "            if match:\n",
    "                # Funding source\n",
    "                funding_source = match.group(1).strip()\n",
    "                amt_first_year_str = match.group(2).replace(',', '')\n",
    "                amt_second_year_str = match.group(3).replace(',', '')\n",
    "\n",
    "                try:\n",
    "                    amt_first_year = float(amt_first_year_str)\n",
    "                except ValueError:\n",
    "                    amt_first_year = 0.0\n",
    "\n",
    "                try:\n",
    "                    amt_second_year = float(amt_second_year_str)\n",
    "                except ValueError:\n",
    "                    amt_second_year = 0.0\n",
    "\n",
    "                data.append({\n",
    "                    'Department': current_dept,\n",
    "                    'Funding Source': funding_source,\n",
    "                    first_year: amt_first_year,\n",
    "                    second_year: amt_second_year\n",
    "                })\n",
    "\n",
    "    df = pd.DataFrame(data)\n",
    "    df = df.set_index(['Department', 'Funding Source'])\n",
    "    \n",
    "    return df"
   ]
  },
  {
   "cell_type": "code",
   "execution_count": 29,
   "id": "e767fc6e",
   "metadata": {},
   "outputs": [],
   "source": [
    "# Ingest all budgets and concatenate into a single DataFrame\n",
    "me_as_reported_df = pd.DataFrame()\n",
    "\n",
    "for budget in budget_to_end_page.keys():\n",
    "    end_page = budget_to_end_page[budget]\n",
    "    first_year, second_year = budget.split('-')\n",
    "    with pdfplumber.open(f\"../z_Data/ME/{budget} ME State Budget.pdf\") as pdf:\n",
    "        pages = pdf.pages[1:end_page]\n",
    "        text_list = [page.extract_text() for page in pages]\n",
    "        headline_table = '\\n'.join(text_list)\n",
    "    budget_df = parse_headline_table(headline_table, first_year, second_year)\n",
    "    me_as_reported_df = pd.concat([me_as_reported_df, budget_df], axis=1)\n",
    "\n",
    "me_as_reported_df = me_as_reported_df.sort_index(axis=1)"
   ]
  },
  {
   "cell_type": "code",
   "execution_count": 30,
   "id": "cbad8868",
   "metadata": {},
   "outputs": [
    {
     "data": {
      "text/html": [
       "<div>\n",
       "<style scoped>\n",
       "    .dataframe tbody tr th:only-of-type {\n",
       "        vertical-align: middle;\n",
       "    }\n",
       "\n",
       "    .dataframe tbody tr th {\n",
       "        vertical-align: top;\n",
       "    }\n",
       "\n",
       "    .dataframe thead th {\n",
       "        text-align: right;\n",
       "    }\n",
       "</style>\n",
       "<table border=\"1\" class=\"dataframe\">\n",
       "  <thead>\n",
       "    <tr style=\"text-align: right;\">\n",
       "      <th></th>\n",
       "      <th>2016</th>\n",
       "      <th>2017</th>\n",
       "      <th>2018</th>\n",
       "      <th>2019</th>\n",
       "      <th>2020</th>\n",
       "      <th>2021</th>\n",
       "      <th>2022</th>\n",
       "      <th>2023</th>\n",
       "      <th>2024</th>\n",
       "      <th>2025</th>\n",
       "      <th>2026</th>\n",
       "      <th>2027</th>\n",
       "    </tr>\n",
       "    <tr>\n",
       "      <th>Funding Source</th>\n",
       "      <th></th>\n",
       "      <th></th>\n",
       "      <th></th>\n",
       "      <th></th>\n",
       "      <th></th>\n",
       "      <th></th>\n",
       "      <th></th>\n",
       "      <th></th>\n",
       "      <th></th>\n",
       "      <th></th>\n",
       "      <th></th>\n",
       "      <th></th>\n",
       "    </tr>\n",
       "  </thead>\n",
       "  <tbody>\n",
       "    <tr>\n",
       "      <th>GENERAL FUND</th>\n",
       "      <td>NaN</td>\n",
       "      <td>NaN</td>\n",
       "      <td>0.0</td>\n",
       "      <td>0.0</td>\n",
       "      <td>NaN</td>\n",
       "      <td>NaN</td>\n",
       "      <td>NaN</td>\n",
       "      <td>NaN</td>\n",
       "      <td>NaN</td>\n",
       "      <td>NaN</td>\n",
       "      <td>NaN</td>\n",
       "      <td>NaN</td>\n",
       "    </tr>\n",
       "    <tr>\n",
       "      <th>FEDERAL EXPENDITURES FUND</th>\n",
       "      <td>NaN</td>\n",
       "      <td>NaN</td>\n",
       "      <td>0.0</td>\n",
       "      <td>0.0</td>\n",
       "      <td>NaN</td>\n",
       "      <td>NaN</td>\n",
       "      <td>NaN</td>\n",
       "      <td>NaN</td>\n",
       "      <td>NaN</td>\n",
       "      <td>NaN</td>\n",
       "      <td>NaN</td>\n",
       "      <td>NaN</td>\n",
       "    </tr>\n",
       "    <tr>\n",
       "      <th>OTHER SPECIAL REVENUE</th>\n",
       "      <td>NaN</td>\n",
       "      <td>NaN</td>\n",
       "      <td>0.0</td>\n",
       "      <td>0.0</td>\n",
       "      <td>NaN</td>\n",
       "      <td>NaN</td>\n",
       "      <td>NaN</td>\n",
       "      <td>NaN</td>\n",
       "      <td>NaN</td>\n",
       "      <td>NaN</td>\n",
       "      <td>NaN</td>\n",
       "      <td>NaN</td>\n",
       "    </tr>\n",
       "    <tr>\n",
       "      <th>STATEWIDE RADIO &amp; NETWORK FUND</th>\n",
       "      <td>NaN</td>\n",
       "      <td>NaN</td>\n",
       "      <td>0.0</td>\n",
       "      <td>0.0</td>\n",
       "      <td>NaN</td>\n",
       "      <td>NaN</td>\n",
       "      <td>NaN</td>\n",
       "      <td>NaN</td>\n",
       "      <td>NaN</td>\n",
       "      <td>NaN</td>\n",
       "      <td>NaN</td>\n",
       "      <td>NaN</td>\n",
       "    </tr>\n",
       "    <tr>\n",
       "      <th>DEPARTMENT TOTAL</th>\n",
       "      <td>NaN</td>\n",
       "      <td>NaN</td>\n",
       "      <td>0.0</td>\n",
       "      <td>0.0</td>\n",
       "      <td>NaN</td>\n",
       "      <td>NaN</td>\n",
       "      <td>NaN</td>\n",
       "      <td>NaN</td>\n",
       "      <td>NaN</td>\n",
       "      <td>NaN</td>\n",
       "      <td>NaN</td>\n",
       "      <td>NaN</td>\n",
       "    </tr>\n",
       "  </tbody>\n",
       "</table>\n",
       "</div>"
      ],
      "text/plain": [
       "                                2016  2017  2018  2019  2020  2021  2022  \\\n",
       "Funding Source                                                             \n",
       "GENERAL FUND                     NaN   NaN   0.0   0.0   NaN   NaN   NaN   \n",
       "FEDERAL EXPENDITURES FUND        NaN   NaN   0.0   0.0   NaN   NaN   NaN   \n",
       "OTHER SPECIAL REVENUE            NaN   NaN   0.0   0.0   NaN   NaN   NaN   \n",
       "STATEWIDE RADIO & NETWORK FUND   NaN   NaN   0.0   0.0   NaN   NaN   NaN   \n",
       "DEPARTMENT TOTAL                 NaN   NaN   0.0   0.0   NaN   NaN   NaN   \n",
       "\n",
       "                                2023  2024  2025  2026  2027  \n",
       "Funding Source                                                \n",
       "GENERAL FUND                     NaN   NaN   NaN   NaN   NaN  \n",
       "FEDERAL EXPENDITURES FUND        NaN   NaN   NaN   NaN   NaN  \n",
       "OTHER SPECIAL REVENUE            NaN   NaN   NaN   NaN   NaN  \n",
       "STATEWIDE RADIO & NETWORK FUND   NaN   NaN   NaN   NaN   NaN  \n",
       "DEPARTMENT TOTAL                 NaN   NaN   NaN   NaN   NaN  "
      ]
     },
     "execution_count": 30,
     "metadata": {},
     "output_type": "execute_result"
    }
   ],
   "source": [
    "me_as_reported_df.xs('DEPARTMENT OF TECHNOLOGY SERVICES', level='Department')  # Example lookup"
   ]
  },
  {
   "cell_type": "code",
   "execution_count": 31,
   "id": "d17f0599",
   "metadata": {},
   "outputs": [],
   "source": [
    "# Create standardized df for comparison with NH\n",
    "\n",
    "me_mapping_df = category_mapping_df[category_mapping_df['State'] == 'Maine'][['As Reported', 'Standardized']]\n",
    "\n",
    "me_standardized_df = me_as_reported_df.reset_index().merge(me_mapping_df, left_on='Department', right_on='As Reported', how='left')\n",
    "me_standardized_df['Standardized'] = me_standardized_df['Standardized']#.fillna(me_standardized_df['Department'])\n",
    "me_standardized_df['Standardized'] = me_standardized_df['Standardized'].str.upper()\n",
    "me_standardized_df.drop(columns=['Department', 'As Reported'], inplace=True)\n",
    "me_standardized_df.rename(columns={'Standardized': 'Department'}, inplace=True)\n",
    "me_standardized_df = me_standardized_df.groupby(['Department', 'Funding Source']).sum()\n",
    "# me_standardized_df = me_standardized_df.set_index(['Department', 'Funding Source'])"
   ]
  },
  {
   "cell_type": "code",
   "execution_count": 32,
   "id": "1123d989",
   "metadata": {},
   "outputs": [],
   "source": [
    "#me_standardized_df.xs('GRAND TOTALS - ALL DEPARTMENTS', level='Department').sort_values(by='2025', ascending=False).head()"
   ]
  },
  {
   "cell_type": "code",
   "execution_count": 33,
   "id": "b1bfc610",
   "metadata": {},
   "outputs": [],
   "source": [
    "department_total_df = me_as_reported_df.xs('GENERAL FUND', level='Funding Source').fillna(0)\n",
    "department_total_df = department_total_df[department_total_df.index != 'GRAND TOTALS - ALL DEPARTMENTS']"
   ]
  },
  {
   "cell_type": "code",
   "execution_count": 34,
   "id": "100ee479",
   "metadata": {},
   "outputs": [
    {
     "data": {
      "text/html": [
       "<div>\n",
       "<style scoped>\n",
       "    .dataframe tbody tr th:only-of-type {\n",
       "        vertical-align: middle;\n",
       "    }\n",
       "\n",
       "    .dataframe tbody tr th {\n",
       "        vertical-align: top;\n",
       "    }\n",
       "\n",
       "    .dataframe thead th {\n",
       "        text-align: right;\n",
       "    }\n",
       "</style>\n",
       "<table border=\"1\" class=\"dataframe\">\n",
       "  <thead>\n",
       "    <tr style=\"text-align: right;\">\n",
       "      <th></th>\n",
       "      <th>2016</th>\n",
       "      <th>2017</th>\n",
       "      <th>2018</th>\n",
       "      <th>2019</th>\n",
       "      <th>2020</th>\n",
       "      <th>2021</th>\n",
       "      <th>2022</th>\n",
       "      <th>2023</th>\n",
       "      <th>2024</th>\n",
       "      <th>2025</th>\n",
       "      <th>2026</th>\n",
       "      <th>2027</th>\n",
       "    </tr>\n",
       "    <tr>\n",
       "      <th>Department</th>\n",
       "      <th></th>\n",
       "      <th></th>\n",
       "      <th></th>\n",
       "      <th></th>\n",
       "      <th></th>\n",
       "      <th></th>\n",
       "      <th></th>\n",
       "      <th></th>\n",
       "      <th></th>\n",
       "      <th></th>\n",
       "      <th></th>\n",
       "      <th></th>\n",
       "    </tr>\n",
       "  </thead>\n",
       "  <tbody>\n",
       "    <tr>\n",
       "      <th>DEPARTMENT OF HEALTH AND HUMAN SERVICES (Formerly DHS)</th>\n",
       "      <td>8.116299e+08</td>\n",
       "      <td>8.082864e+08</td>\n",
       "      <td>1.168639e+09</td>\n",
       "      <td>1.247538e+09</td>\n",
       "      <td>1.326124e+09</td>\n",
       "      <td>1.266190e+09</td>\n",
       "      <td>1.265339e+09</td>\n",
       "      <td>1.638181e+09</td>\n",
       "      <td>1.750752e+09</td>\n",
       "      <td>2.077100e+09</td>\n",
       "      <td>2.183727e+09</td>\n",
       "      <td>2.164550e+09</td>\n",
       "    </tr>\n",
       "    <tr>\n",
       "      <th>DEPARTMENT OF EDUCATION</th>\n",
       "      <td>1.172391e+09</td>\n",
       "      <td>1.185229e+09</td>\n",
       "      <td>1.255456e+09</td>\n",
       "      <td>1.345719e+09</td>\n",
       "      <td>1.438616e+09</td>\n",
       "      <td>1.513040e+09</td>\n",
       "      <td>1.618803e+09</td>\n",
       "      <td>1.695441e+09</td>\n",
       "      <td>1.796801e+09</td>\n",
       "      <td>1.864988e+09</td>\n",
       "      <td>1.938654e+09</td>\n",
       "      <td>1.977930e+09</td>\n",
       "    </tr>\n",
       "    <tr>\n",
       "      <th>DEPARTMENT OF ADMINISTRATIVE AND FINANCIAL SERVICES</th>\n",
       "      <td>1.376243e+08</td>\n",
       "      <td>1.493829e+08</td>\n",
       "      <td>1.650539e+08</td>\n",
       "      <td>1.922312e+08</td>\n",
       "      <td>2.010628e+08</td>\n",
       "      <td>2.153061e+08</td>\n",
       "      <td>1.463696e+08</td>\n",
       "      <td>1.524649e+08</td>\n",
       "      <td>3.033649e+08</td>\n",
       "      <td>2.905584e+08</td>\n",
       "      <td>2.684863e+08</td>\n",
       "      <td>2.790483e+08</td>\n",
       "    </tr>\n",
       "    <tr>\n",
       "      <th>BOARD OF TRUSTEES OF THE UNIVERSITY OF MAINE SYSTEM</th>\n",
       "      <td>2.006770e+08</td>\n",
       "      <td>2.016380e+08</td>\n",
       "      <td>2.104711e+08</td>\n",
       "      <td>2.124881e+08</td>\n",
       "      <td>2.244670e+08</td>\n",
       "      <td>2.226500e+08</td>\n",
       "      <td>2.323788e+08</td>\n",
       "      <td>2.571796e+08</td>\n",
       "      <td>2.693140e+08</td>\n",
       "      <td>2.797700e+08</td>\n",
       "      <td>2.893515e+08</td>\n",
       "      <td>3.014966e+08</td>\n",
       "    </tr>\n",
       "    <tr>\n",
       "      <th>DEPARTMENT OF CORRECTIONS</th>\n",
       "      <td>1.778720e+08</td>\n",
       "      <td>1.785551e+08</td>\n",
       "      <td>1.855766e+08</td>\n",
       "      <td>1.861504e+08</td>\n",
       "      <td>1.944268e+08</td>\n",
       "      <td>1.302934e+08</td>\n",
       "      <td>2.067333e+08</td>\n",
       "      <td>2.097895e+08</td>\n",
       "      <td>2.304604e+08</td>\n",
       "      <td>2.367201e+08</td>\n",
       "      <td>2.578415e+08</td>\n",
       "      <td>2.591156e+08</td>\n",
       "    </tr>\n",
       "  </tbody>\n",
       "</table>\n",
       "</div>"
      ],
      "text/plain": [
       "                                                            2016  \\\n",
       "Department                                                         \n",
       "DEPARTMENT OF HEALTH AND HUMAN SERVICES (Former...  8.116299e+08   \n",
       "DEPARTMENT OF EDUCATION                             1.172391e+09   \n",
       "DEPARTMENT OF ADMINISTRATIVE AND FINANCIAL SERV...  1.376243e+08   \n",
       "BOARD OF TRUSTEES OF THE UNIVERSITY OF MAINE SY...  2.006770e+08   \n",
       "DEPARTMENT OF CORRECTIONS                           1.778720e+08   \n",
       "\n",
       "                                                            2017  \\\n",
       "Department                                                         \n",
       "DEPARTMENT OF HEALTH AND HUMAN SERVICES (Former...  8.082864e+08   \n",
       "DEPARTMENT OF EDUCATION                             1.185229e+09   \n",
       "DEPARTMENT OF ADMINISTRATIVE AND FINANCIAL SERV...  1.493829e+08   \n",
       "BOARD OF TRUSTEES OF THE UNIVERSITY OF MAINE SY...  2.016380e+08   \n",
       "DEPARTMENT OF CORRECTIONS                           1.785551e+08   \n",
       "\n",
       "                                                            2018  \\\n",
       "Department                                                         \n",
       "DEPARTMENT OF HEALTH AND HUMAN SERVICES (Former...  1.168639e+09   \n",
       "DEPARTMENT OF EDUCATION                             1.255456e+09   \n",
       "DEPARTMENT OF ADMINISTRATIVE AND FINANCIAL SERV...  1.650539e+08   \n",
       "BOARD OF TRUSTEES OF THE UNIVERSITY OF MAINE SY...  2.104711e+08   \n",
       "DEPARTMENT OF CORRECTIONS                           1.855766e+08   \n",
       "\n",
       "                                                            2019  \\\n",
       "Department                                                         \n",
       "DEPARTMENT OF HEALTH AND HUMAN SERVICES (Former...  1.247538e+09   \n",
       "DEPARTMENT OF EDUCATION                             1.345719e+09   \n",
       "DEPARTMENT OF ADMINISTRATIVE AND FINANCIAL SERV...  1.922312e+08   \n",
       "BOARD OF TRUSTEES OF THE UNIVERSITY OF MAINE SY...  2.124881e+08   \n",
       "DEPARTMENT OF CORRECTIONS                           1.861504e+08   \n",
       "\n",
       "                                                            2020  \\\n",
       "Department                                                         \n",
       "DEPARTMENT OF HEALTH AND HUMAN SERVICES (Former...  1.326124e+09   \n",
       "DEPARTMENT OF EDUCATION                             1.438616e+09   \n",
       "DEPARTMENT OF ADMINISTRATIVE AND FINANCIAL SERV...  2.010628e+08   \n",
       "BOARD OF TRUSTEES OF THE UNIVERSITY OF MAINE SY...  2.244670e+08   \n",
       "DEPARTMENT OF CORRECTIONS                           1.944268e+08   \n",
       "\n",
       "                                                            2021  \\\n",
       "Department                                                         \n",
       "DEPARTMENT OF HEALTH AND HUMAN SERVICES (Former...  1.266190e+09   \n",
       "DEPARTMENT OF EDUCATION                             1.513040e+09   \n",
       "DEPARTMENT OF ADMINISTRATIVE AND FINANCIAL SERV...  2.153061e+08   \n",
       "BOARD OF TRUSTEES OF THE UNIVERSITY OF MAINE SY...  2.226500e+08   \n",
       "DEPARTMENT OF CORRECTIONS                           1.302934e+08   \n",
       "\n",
       "                                                            2022  \\\n",
       "Department                                                         \n",
       "DEPARTMENT OF HEALTH AND HUMAN SERVICES (Former...  1.265339e+09   \n",
       "DEPARTMENT OF EDUCATION                             1.618803e+09   \n",
       "DEPARTMENT OF ADMINISTRATIVE AND FINANCIAL SERV...  1.463696e+08   \n",
       "BOARD OF TRUSTEES OF THE UNIVERSITY OF MAINE SY...  2.323788e+08   \n",
       "DEPARTMENT OF CORRECTIONS                           2.067333e+08   \n",
       "\n",
       "                                                            2023  \\\n",
       "Department                                                         \n",
       "DEPARTMENT OF HEALTH AND HUMAN SERVICES (Former...  1.638181e+09   \n",
       "DEPARTMENT OF EDUCATION                             1.695441e+09   \n",
       "DEPARTMENT OF ADMINISTRATIVE AND FINANCIAL SERV...  1.524649e+08   \n",
       "BOARD OF TRUSTEES OF THE UNIVERSITY OF MAINE SY...  2.571796e+08   \n",
       "DEPARTMENT OF CORRECTIONS                           2.097895e+08   \n",
       "\n",
       "                                                            2024  \\\n",
       "Department                                                         \n",
       "DEPARTMENT OF HEALTH AND HUMAN SERVICES (Former...  1.750752e+09   \n",
       "DEPARTMENT OF EDUCATION                             1.796801e+09   \n",
       "DEPARTMENT OF ADMINISTRATIVE AND FINANCIAL SERV...  3.033649e+08   \n",
       "BOARD OF TRUSTEES OF THE UNIVERSITY OF MAINE SY...  2.693140e+08   \n",
       "DEPARTMENT OF CORRECTIONS                           2.304604e+08   \n",
       "\n",
       "                                                            2025  \\\n",
       "Department                                                         \n",
       "DEPARTMENT OF HEALTH AND HUMAN SERVICES (Former...  2.077100e+09   \n",
       "DEPARTMENT OF EDUCATION                             1.864988e+09   \n",
       "DEPARTMENT OF ADMINISTRATIVE AND FINANCIAL SERV...  2.905584e+08   \n",
       "BOARD OF TRUSTEES OF THE UNIVERSITY OF MAINE SY...  2.797700e+08   \n",
       "DEPARTMENT OF CORRECTIONS                           2.367201e+08   \n",
       "\n",
       "                                                            2026          2027  \n",
       "Department                                                                      \n",
       "DEPARTMENT OF HEALTH AND HUMAN SERVICES (Former...  2.183727e+09  2.164550e+09  \n",
       "DEPARTMENT OF EDUCATION                             1.938654e+09  1.977930e+09  \n",
       "DEPARTMENT OF ADMINISTRATIVE AND FINANCIAL SERV...  2.684863e+08  2.790483e+08  \n",
       "BOARD OF TRUSTEES OF THE UNIVERSITY OF MAINE SY...  2.893515e+08  3.014966e+08  \n",
       "DEPARTMENT OF CORRECTIONS                           2.578415e+08  2.591156e+08  "
      ]
     },
     "execution_count": 34,
     "metadata": {},
     "output_type": "execute_result"
    }
   ],
   "source": [
    "department_total_df.sort_values(by='2025', ascending=False).head()"
   ]
  },
  {
   "cell_type": "markdown",
   "id": "bf5e6f8d",
   "metadata": {},
   "source": [
    "## Ingest NH Budget Data"
   ]
  },
  {
   "cell_type": "code",
   "execution_count": 35,
   "id": "387660de",
   "metadata": {},
   "outputs": [
    {
     "name": "stderr",
     "output_type": "stream",
     "text": [
      "<>:9: SyntaxWarning:\n",
      "\n",
      "invalid escape sequence '\\d'\n",
      "\n",
      "<>:9: SyntaxWarning:\n",
      "\n",
      "invalid escape sequence '\\d'\n",
      "\n",
      "/var/folders/jd/b78nww_n7txgdhyclm8vq1180000gn/T/ipykernel_22647/87115543.py:9: SyntaxWarning:\n",
      "\n",
      "invalid escape sequence '\\d'\n",
      "\n"
     ]
    }
   ],
   "source": [
    "nh_as_reported_df = pd.DataFrame()\n",
    "\n",
    "budget_years = [str(year) for year in range(2016, 2026)]\n",
    "\n",
    "for year in budget_years:\n",
    "    df = pd.read_csv(f\"../z_Data/NH/{year} NH State Expenditure.csv\")\n",
    "    df_cleaned = df.dropna(axis=0, how='all').dropna(axis=1, how='all')\n",
    "    df_cleaned.columns = [col.upper().replace(\"\\n\", \"\").replace(\"JUNE \", \"\").replace(r'FY\\d{2}', \"\") for col in df_cleaned.columns]\n",
    "    df_cleaned.columns = [re.sub(\"FY\\d{2} \", \"\", col).lstrip() for col in df_cleaned.columns]\n",
    "    df_appr = df_cleaned[['DEPARTMENT', 'APPROPRIATION']]\n",
    "    df_appr = df_appr.rename(columns={'APPROPRIATION': year})\n",
    "    df_appr[year] = df_appr[year].astype(str).str.replace(\",\", \"\").astype(float)\n",
    "    df_appr['DEPARTMENT'] = df_appr['DEPARTMENT'].str.strip()\n",
    "\n",
    "    df_appr.set_index('DEPARTMENT', inplace=True)\n",
    "    nh_as_reported_df = pd.concat([nh_as_reported_df, df_appr], axis=1)"
   ]
  },
  {
   "cell_type": "code",
   "execution_count": 36,
   "id": "dbb622b6",
   "metadata": {},
   "outputs": [],
   "source": [
    "# Create standardized df for NH\n",
    "\n",
    "nh_mapping_df = category_mapping_df[category_mapping_df['State'] == 'New Hampshire'][['As Reported', 'Standardized']]\n",
    "\n",
    "nh_standardized_df = nh_as_reported_df.reset_index().merge(nh_mapping_df, left_on='DEPARTMENT', right_on='As Reported', how='left')\n",
    "nh_standardized_df['Standardized'] = nh_standardized_df['Standardized'].str.upper()\n",
    "nh_standardized_df.drop(columns=['DEPARTMENT', 'As Reported'], inplace=True)\n",
    "nh_standardized_df.rename(columns={'Standardized': 'DEPARTMENT'}, inplace=True)\n",
    "nh_standardized_df = nh_standardized_df.groupby('DEPARTMENT').sum()"
   ]
  },
  {
   "cell_type": "code",
   "execution_count": 37,
   "id": "247111cd",
   "metadata": {},
   "outputs": [
    {
     "data": {
      "text/html": [
       "<div>\n",
       "<style scoped>\n",
       "    .dataframe tbody tr th:only-of-type {\n",
       "        vertical-align: middle;\n",
       "    }\n",
       "\n",
       "    .dataframe tbody tr th {\n",
       "        vertical-align: top;\n",
       "    }\n",
       "\n",
       "    .dataframe thead th {\n",
       "        text-align: right;\n",
       "    }\n",
       "</style>\n",
       "<table border=\"1\" class=\"dataframe\">\n",
       "  <thead>\n",
       "    <tr style=\"text-align: right;\">\n",
       "      <th></th>\n",
       "      <th>2016</th>\n",
       "      <th>2017</th>\n",
       "      <th>2018</th>\n",
       "      <th>2019</th>\n",
       "      <th>2020</th>\n",
       "      <th>2021</th>\n",
       "      <th>2022</th>\n",
       "      <th>2023</th>\n",
       "      <th>2024</th>\n",
       "      <th>2025</th>\n",
       "    </tr>\n",
       "    <tr>\n",
       "      <th>DEPARTMENT</th>\n",
       "      <th></th>\n",
       "      <th></th>\n",
       "      <th></th>\n",
       "      <th></th>\n",
       "      <th></th>\n",
       "      <th></th>\n",
       "      <th></th>\n",
       "      <th></th>\n",
       "      <th></th>\n",
       "      <th></th>\n",
       "    </tr>\n",
       "  </thead>\n",
       "  <tbody>\n",
       "    <tr>\n",
       "      <th>ADMINISTRATION &amp; FINANCE</th>\n",
       "      <td>127730602.0</td>\n",
       "      <td>151119266.0</td>\n",
       "      <td>159431614.0</td>\n",
       "      <td>139674078.0</td>\n",
       "      <td>143259269.0</td>\n",
       "      <td>129600713.0</td>\n",
       "      <td>160843503.0</td>\n",
       "      <td>249304450.0</td>\n",
       "      <td>254087760.0</td>\n",
       "      <td>232674051.0</td>\n",
       "    </tr>\n",
       "    <tr>\n",
       "      <th>AGRICULTURE &amp; CONSERVATION</th>\n",
       "      <td>279256049.0</td>\n",
       "      <td>167572912.0</td>\n",
       "      <td>228419721.0</td>\n",
       "      <td>244848711.0</td>\n",
       "      <td>321991165.0</td>\n",
       "      <td>280184515.0</td>\n",
       "      <td>508730343.0</td>\n",
       "      <td>384907726.0</td>\n",
       "      <td>489104643.0</td>\n",
       "      <td>412960668.0</td>\n",
       "    </tr>\n",
       "    <tr>\n",
       "      <th>ATTORNEY GENERAL</th>\n",
       "      <td>96539215.0</td>\n",
       "      <td>42714487.0</td>\n",
       "      <td>40375583.0</td>\n",
       "      <td>40983942.0</td>\n",
       "      <td>50898654.0</td>\n",
       "      <td>49905343.0</td>\n",
       "      <td>65767064.0</td>\n",
       "      <td>192669456.0</td>\n",
       "      <td>236173389.0</td>\n",
       "      <td>153186333.0</td>\n",
       "    </tr>\n",
       "    <tr>\n",
       "      <th>COMMUNITY COLLEGES</th>\n",
       "      <td>0.0</td>\n",
       "      <td>43778775.0</td>\n",
       "      <td>46475000.0</td>\n",
       "      <td>47075000.0</td>\n",
       "      <td>57255000.0</td>\n",
       "      <td>55360000.0</td>\n",
       "      <td>57500000.0</td>\n",
       "      <td>63500000.0</td>\n",
       "      <td>69830000.0</td>\n",
       "      <td>68542851.0</td>\n",
       "    </tr>\n",
       "    <tr>\n",
       "      <th>CORRECTIONS</th>\n",
       "      <td>0.0</td>\n",
       "      <td>113870177.0</td>\n",
       "      <td>120484090.0</td>\n",
       "      <td>130814573.0</td>\n",
       "      <td>138586353.0</td>\n",
       "      <td>139084131.0</td>\n",
       "      <td>156013362.0</td>\n",
       "      <td>183965049.0</td>\n",
       "      <td>194716271.0</td>\n",
       "      <td>197373739.0</td>\n",
       "    </tr>\n",
       "  </tbody>\n",
       "</table>\n",
       "</div>"
      ],
      "text/plain": [
       "                                   2016         2017         2018  \\\n",
       "DEPARTMENT                                                          \n",
       "ADMINISTRATION & FINANCE    127730602.0  151119266.0  159431614.0   \n",
       "AGRICULTURE & CONSERVATION  279256049.0  167572912.0  228419721.0   \n",
       "ATTORNEY GENERAL             96539215.0   42714487.0   40375583.0   \n",
       "COMMUNITY COLLEGES                  0.0   43778775.0   46475000.0   \n",
       "CORRECTIONS                         0.0  113870177.0  120484090.0   \n",
       "\n",
       "                                   2019         2020         2021  \\\n",
       "DEPARTMENT                                                          \n",
       "ADMINISTRATION & FINANCE    139674078.0  143259269.0  129600713.0   \n",
       "AGRICULTURE & CONSERVATION  244848711.0  321991165.0  280184515.0   \n",
       "ATTORNEY GENERAL             40983942.0   50898654.0   49905343.0   \n",
       "COMMUNITY COLLEGES           47075000.0   57255000.0   55360000.0   \n",
       "CORRECTIONS                 130814573.0  138586353.0  139084131.0   \n",
       "\n",
       "                                   2022         2023         2024         2025  \n",
       "DEPARTMENT                                                                      \n",
       "ADMINISTRATION & FINANCE    160843503.0  249304450.0  254087760.0  232674051.0  \n",
       "AGRICULTURE & CONSERVATION  508730343.0  384907726.0  489104643.0  412960668.0  \n",
       "ATTORNEY GENERAL             65767064.0  192669456.0  236173389.0  153186333.0  \n",
       "COMMUNITY COLLEGES           57500000.0   63500000.0   69830000.0   68542851.0  \n",
       "CORRECTIONS                 156013362.0  183965049.0  194716271.0  197373739.0  "
      ]
     },
     "execution_count": 37,
     "metadata": {},
     "output_type": "execute_result"
    }
   ],
   "source": [
    "nh_standardized_df.head()"
   ]
  },
  {
   "cell_type": "code",
   "execution_count": 38,
   "id": "229e6cff",
   "metadata": {},
   "outputs": [
    {
     "data": {
      "text/html": [
       "<div>\n",
       "<style scoped>\n",
       "    .dataframe tbody tr th:only-of-type {\n",
       "        vertical-align: middle;\n",
       "    }\n",
       "\n",
       "    .dataframe tbody tr th {\n",
       "        vertical-align: top;\n",
       "    }\n",
       "\n",
       "    .dataframe thead th {\n",
       "        text-align: right;\n",
       "    }\n",
       "</style>\n",
       "<table border=\"1\" class=\"dataframe\">\n",
       "  <thead>\n",
       "    <tr style=\"text-align: right;\">\n",
       "      <th></th>\n",
       "      <th>As Reported</th>\n",
       "      <th>Standardized</th>\n",
       "    </tr>\n",
       "  </thead>\n",
       "  <tbody>\n",
       "    <tr>\n",
       "      <th>112</th>\n",
       "      <td>TRANSPORTATION</td>\n",
       "      <td>Transportation</td>\n",
       "    </tr>\n",
       "  </tbody>\n",
       "</table>\n",
       "</div>"
      ],
      "text/plain": [
       "        As Reported    Standardized\n",
       "112  TRANSPORTATION  Transportation"
      ]
     },
     "execution_count": 38,
     "metadata": {},
     "output_type": "execute_result"
    }
   ],
   "source": [
    "nh_mapping_df[nh_mapping_df['As Reported'] == 'TRANSPORTATION']"
   ]
  },
  {
   "cell_type": "code",
   "execution_count": 39,
   "id": "698f8238",
   "metadata": {},
   "outputs": [
    {
     "data": {
      "text/html": [
       "<div>\n",
       "<style scoped>\n",
       "    .dataframe tbody tr th:only-of-type {\n",
       "        vertical-align: middle;\n",
       "    }\n",
       "\n",
       "    .dataframe tbody tr th {\n",
       "        vertical-align: top;\n",
       "    }\n",
       "\n",
       "    .dataframe thead th {\n",
       "        text-align: right;\n",
       "    }\n",
       "</style>\n",
       "<table border=\"1\" class=\"dataframe\">\n",
       "  <thead>\n",
       "    <tr style=\"text-align: right;\">\n",
       "      <th></th>\n",
       "      <th>2016</th>\n",
       "      <th>2017</th>\n",
       "      <th>2018</th>\n",
       "      <th>2019</th>\n",
       "      <th>2020</th>\n",
       "      <th>2021</th>\n",
       "      <th>2022</th>\n",
       "      <th>2023</th>\n",
       "      <th>2024</th>\n",
       "      <th>2025</th>\n",
       "    </tr>\n",
       "    <tr>\n",
       "      <th>DEPARTMENT</th>\n",
       "      <th></th>\n",
       "      <th></th>\n",
       "      <th></th>\n",
       "      <th></th>\n",
       "      <th></th>\n",
       "      <th></th>\n",
       "      <th></th>\n",
       "      <th></th>\n",
       "      <th></th>\n",
       "      <th></th>\n",
       "    </tr>\n",
       "  </thead>\n",
       "  <tbody>\n",
       "    <tr>\n",
       "      <th>HEALTH &amp; HUMAN SERVICES</th>\n",
       "      <td>2.705395e+09</td>\n",
       "      <td>3.061726e+09</td>\n",
       "      <td>2.960404e+09</td>\n",
       "      <td>2.995991e+09</td>\n",
       "      <td>3.276286e+09</td>\n",
       "      <td>4.136201e+09</td>\n",
       "      <td>4.420079e+09</td>\n",
       "      <td>4.420877e+09</td>\n",
       "      <td>4.600524e+09</td>\n",
       "      <td>4.809140e+09</td>\n",
       "    </tr>\n",
       "    <tr>\n",
       "      <th>EDUCATION</th>\n",
       "      <td>1.244818e+09</td>\n",
       "      <td>1.283613e+09</td>\n",
       "      <td>1.317492e+09</td>\n",
       "      <td>1.355369e+09</td>\n",
       "      <td>1.449941e+09</td>\n",
       "      <td>1.953677e+09</td>\n",
       "      <td>2.104823e+09</td>\n",
       "      <td>2.055884e+09</td>\n",
       "      <td>2.025101e+09</td>\n",
       "      <td>1.759922e+09</td>\n",
       "    </tr>\n",
       "    <tr>\n",
       "      <th>TRANSPORTATION</th>\n",
       "      <td>1.520177e+09</td>\n",
       "      <td>1.541065e+09</td>\n",
       "      <td>1.433324e+09</td>\n",
       "      <td>1.407295e+09</td>\n",
       "      <td>1.382176e+09</td>\n",
       "      <td>1.399799e+09</td>\n",
       "      <td>1.446914e+09</td>\n",
       "      <td>1.715776e+09</td>\n",
       "      <td>1.641726e+09</td>\n",
       "      <td>1.619087e+09</td>\n",
       "    </tr>\n",
       "    <tr>\n",
       "      <th>AGRICULTURE &amp; CONSERVATION</th>\n",
       "      <td>2.792560e+08</td>\n",
       "      <td>1.675729e+08</td>\n",
       "      <td>2.284197e+08</td>\n",
       "      <td>2.448487e+08</td>\n",
       "      <td>3.219912e+08</td>\n",
       "      <td>2.801845e+08</td>\n",
       "      <td>5.087303e+08</td>\n",
       "      <td>3.849077e+08</td>\n",
       "      <td>4.891046e+08</td>\n",
       "      <td>4.129607e+08</td>\n",
       "    </tr>\n",
       "    <tr>\n",
       "      <th>POLICING</th>\n",
       "      <td>2.085139e+08</td>\n",
       "      <td>2.111859e+08</td>\n",
       "      <td>2.414273e+08</td>\n",
       "      <td>2.295179e+08</td>\n",
       "      <td>2.244728e+08</td>\n",
       "      <td>3.304987e+08</td>\n",
       "      <td>3.372759e+08</td>\n",
       "      <td>4.698367e+08</td>\n",
       "      <td>4.814869e+08</td>\n",
       "      <td>3.644418e+08</td>\n",
       "    </tr>\n",
       "    <tr>\n",
       "      <th>TREASURY</th>\n",
       "      <td>2.039418e+08</td>\n",
       "      <td>1.989782e+08</td>\n",
       "      <td>2.027828e+08</td>\n",
       "      <td>2.029611e+08</td>\n",
       "      <td>2.566642e+08</td>\n",
       "      <td>2.472603e+08</td>\n",
       "      <td>2.722911e+08</td>\n",
       "      <td>3.071551e+08</td>\n",
       "      <td>2.872914e+08</td>\n",
       "      <td>2.734485e+08</td>\n",
       "    </tr>\n",
       "    <tr>\n",
       "      <th>ADMINISTRATION &amp; FINANCE</th>\n",
       "      <td>1.277306e+08</td>\n",
       "      <td>1.511193e+08</td>\n",
       "      <td>1.594316e+08</td>\n",
       "      <td>1.396741e+08</td>\n",
       "      <td>1.432593e+08</td>\n",
       "      <td>1.296007e+08</td>\n",
       "      <td>1.608435e+08</td>\n",
       "      <td>2.493044e+08</td>\n",
       "      <td>2.540878e+08</td>\n",
       "      <td>2.326741e+08</td>\n",
       "    </tr>\n",
       "    <tr>\n",
       "      <th>CORRECTIONS</th>\n",
       "      <td>0.000000e+00</td>\n",
       "      <td>1.138702e+08</td>\n",
       "      <td>1.204841e+08</td>\n",
       "      <td>1.308146e+08</td>\n",
       "      <td>1.385864e+08</td>\n",
       "      <td>1.390841e+08</td>\n",
       "      <td>1.560134e+08</td>\n",
       "      <td>1.839650e+08</td>\n",
       "      <td>1.947163e+08</td>\n",
       "      <td>1.973737e+08</td>\n",
       "    </tr>\n",
       "    <tr>\n",
       "      <th>ECONOMIC DEVELOPMENT</th>\n",
       "      <td>0.000000e+00</td>\n",
       "      <td>0.000000e+00</td>\n",
       "      <td>4.198000e+07</td>\n",
       "      <td>3.967425e+07</td>\n",
       "      <td>2.800789e+07</td>\n",
       "      <td>2.766386e+07</td>\n",
       "      <td>1.577735e+08</td>\n",
       "      <td>2.816203e+08</td>\n",
       "      <td>1.886149e+08</td>\n",
       "      <td>1.618568e+08</td>\n",
       "    </tr>\n",
       "    <tr>\n",
       "      <th>ATTORNEY GENERAL</th>\n",
       "      <td>9.653922e+07</td>\n",
       "      <td>4.271449e+07</td>\n",
       "      <td>4.037558e+07</td>\n",
       "      <td>4.098394e+07</td>\n",
       "      <td>5.089865e+07</td>\n",
       "      <td>4.990534e+07</td>\n",
       "      <td>6.576706e+07</td>\n",
       "      <td>1.926695e+08</td>\n",
       "      <td>2.361734e+08</td>\n",
       "      <td>1.531863e+08</td>\n",
       "    </tr>\n",
       "  </tbody>\n",
       "</table>\n",
       "</div>"
      ],
      "text/plain": [
       "                                    2016          2017          2018  \\\n",
       "DEPARTMENT                                                             \n",
       "HEALTH & HUMAN SERVICES     2.705395e+09  3.061726e+09  2.960404e+09   \n",
       "EDUCATION                   1.244818e+09  1.283613e+09  1.317492e+09   \n",
       "TRANSPORTATION              1.520177e+09  1.541065e+09  1.433324e+09   \n",
       "AGRICULTURE & CONSERVATION  2.792560e+08  1.675729e+08  2.284197e+08   \n",
       "POLICING                    2.085139e+08  2.111859e+08  2.414273e+08   \n",
       "TREASURY                    2.039418e+08  1.989782e+08  2.027828e+08   \n",
       "ADMINISTRATION & FINANCE    1.277306e+08  1.511193e+08  1.594316e+08   \n",
       "CORRECTIONS                 0.000000e+00  1.138702e+08  1.204841e+08   \n",
       "ECONOMIC DEVELOPMENT        0.000000e+00  0.000000e+00  4.198000e+07   \n",
       "ATTORNEY GENERAL            9.653922e+07  4.271449e+07  4.037558e+07   \n",
       "\n",
       "                                    2019          2020          2021  \\\n",
       "DEPARTMENT                                                             \n",
       "HEALTH & HUMAN SERVICES     2.995991e+09  3.276286e+09  4.136201e+09   \n",
       "EDUCATION                   1.355369e+09  1.449941e+09  1.953677e+09   \n",
       "TRANSPORTATION              1.407295e+09  1.382176e+09  1.399799e+09   \n",
       "AGRICULTURE & CONSERVATION  2.448487e+08  3.219912e+08  2.801845e+08   \n",
       "POLICING                    2.295179e+08  2.244728e+08  3.304987e+08   \n",
       "TREASURY                    2.029611e+08  2.566642e+08  2.472603e+08   \n",
       "ADMINISTRATION & FINANCE    1.396741e+08  1.432593e+08  1.296007e+08   \n",
       "CORRECTIONS                 1.308146e+08  1.385864e+08  1.390841e+08   \n",
       "ECONOMIC DEVELOPMENT        3.967425e+07  2.800789e+07  2.766386e+07   \n",
       "ATTORNEY GENERAL            4.098394e+07  5.089865e+07  4.990534e+07   \n",
       "\n",
       "                                    2022          2023          2024  \\\n",
       "DEPARTMENT                                                             \n",
       "HEALTH & HUMAN SERVICES     4.420079e+09  4.420877e+09  4.600524e+09   \n",
       "EDUCATION                   2.104823e+09  2.055884e+09  2.025101e+09   \n",
       "TRANSPORTATION              1.446914e+09  1.715776e+09  1.641726e+09   \n",
       "AGRICULTURE & CONSERVATION  5.087303e+08  3.849077e+08  4.891046e+08   \n",
       "POLICING                    3.372759e+08  4.698367e+08  4.814869e+08   \n",
       "TREASURY                    2.722911e+08  3.071551e+08  2.872914e+08   \n",
       "ADMINISTRATION & FINANCE    1.608435e+08  2.493044e+08  2.540878e+08   \n",
       "CORRECTIONS                 1.560134e+08  1.839650e+08  1.947163e+08   \n",
       "ECONOMIC DEVELOPMENT        1.577735e+08  2.816203e+08  1.886149e+08   \n",
       "ATTORNEY GENERAL            6.576706e+07  1.926695e+08  2.361734e+08   \n",
       "\n",
       "                                    2025  \n",
       "DEPARTMENT                                \n",
       "HEALTH & HUMAN SERVICES     4.809140e+09  \n",
       "EDUCATION                   1.759922e+09  \n",
       "TRANSPORTATION              1.619087e+09  \n",
       "AGRICULTURE & CONSERVATION  4.129607e+08  \n",
       "POLICING                    3.644418e+08  \n",
       "TREASURY                    2.734485e+08  \n",
       "ADMINISTRATION & FINANCE    2.326741e+08  \n",
       "CORRECTIONS                 1.973737e+08  \n",
       "ECONOMIC DEVELOPMENT        1.618568e+08  \n",
       "ATTORNEY GENERAL            1.531863e+08  "
      ]
     },
     "execution_count": 39,
     "metadata": {},
     "output_type": "execute_result"
    }
   ],
   "source": [
    "nh_standardized_df.sort_values(by='2025', ascending=False).head(10)"
   ]
  },
  {
   "cell_type": "code",
   "execution_count": 40,
   "id": "7334f72f",
   "metadata": {},
   "outputs": [
    {
     "data": {
      "text/html": [
       "<div>\n",
       "<style scoped>\n",
       "    .dataframe tbody tr th:only-of-type {\n",
       "        vertical-align: middle;\n",
       "    }\n",
       "\n",
       "    .dataframe tbody tr th {\n",
       "        vertical-align: top;\n",
       "    }\n",
       "\n",
       "    .dataframe thead th {\n",
       "        text-align: right;\n",
       "    }\n",
       "</style>\n",
       "<table border=\"1\" class=\"dataframe\">\n",
       "  <thead>\n",
       "    <tr style=\"text-align: right;\">\n",
       "      <th></th>\n",
       "      <th>2016</th>\n",
       "      <th>2017</th>\n",
       "      <th>2018</th>\n",
       "      <th>2019</th>\n",
       "      <th>2020</th>\n",
       "      <th>2021</th>\n",
       "      <th>2022</th>\n",
       "      <th>2023</th>\n",
       "      <th>2024</th>\n",
       "      <th>2025</th>\n",
       "    </tr>\n",
       "    <tr>\n",
       "      <th>DEPARTMENT</th>\n",
       "      <th></th>\n",
       "      <th></th>\n",
       "      <th></th>\n",
       "      <th></th>\n",
       "      <th></th>\n",
       "      <th></th>\n",
       "      <th></th>\n",
       "      <th></th>\n",
       "      <th></th>\n",
       "      <th></th>\n",
       "    </tr>\n",
       "  </thead>\n",
       "  <tbody>\n",
       "    <tr>\n",
       "      <th>STATE TOTALS</th>\n",
       "      <td>7.298789e+09</td>\n",
       "      <td>7.609597e+09</td>\n",
       "      <td>7.573334e+09</td>\n",
       "      <td>7.649197e+09</td>\n",
       "      <td>9.851111e+09</td>\n",
       "      <td>1.070392e+10</td>\n",
       "      <td>1.116340e+10</td>\n",
       "      <td>1.184435e+10</td>\n",
       "      <td>1.178858e+10</td>\n",
       "      <td>1.132454e+10</td>\n",
       "    </tr>\n",
       "    <tr>\n",
       "      <th>HHS: COMMISSIONER'S OFFICE</th>\n",
       "      <td>NaN</td>\n",
       "      <td>3.061307e+09</td>\n",
       "      <td>2.959969e+09</td>\n",
       "      <td>2.995259e+09</td>\n",
       "      <td>3.275300e+09</td>\n",
       "      <td>4.135133e+09</td>\n",
       "      <td>4.419217e+09</td>\n",
       "      <td>4.419964e+09</td>\n",
       "      <td>4.600629e+09</td>\n",
       "      <td>4.808592e+09</td>\n",
       "    </tr>\n",
       "    <tr>\n",
       "      <th>EDUCATION DEPT OF</th>\n",
       "      <td>1.244818e+09</td>\n",
       "      <td>1.283613e+09</td>\n",
       "      <td>1.317492e+09</td>\n",
       "      <td>1.355369e+09</td>\n",
       "      <td>1.449941e+09</td>\n",
       "      <td>1.953677e+09</td>\n",
       "      <td>2.104823e+09</td>\n",
       "      <td>2.055884e+09</td>\n",
       "      <td>2.025101e+09</td>\n",
       "      <td>1.759922e+09</td>\n",
       "    </tr>\n",
       "    <tr>\n",
       "      <th>TRANSPORTATION</th>\n",
       "      <td>NaN</td>\n",
       "      <td>1.541065e+09</td>\n",
       "      <td>1.433324e+09</td>\n",
       "      <td>1.407295e+09</td>\n",
       "      <td>1.382176e+09</td>\n",
       "      <td>1.399799e+09</td>\n",
       "      <td>1.446914e+09</td>\n",
       "      <td>1.715776e+09</td>\n",
       "      <td>1.641726e+09</td>\n",
       "      <td>1.619087e+09</td>\n",
       "    </tr>\n",
       "    <tr>\n",
       "      <th>ENVIRONMENTAL SERV</th>\n",
       "      <td>NaN</td>\n",
       "      <td>1.601342e+08</td>\n",
       "      <td>2.228025e+08</td>\n",
       "      <td>2.389943e+08</td>\n",
       "      <td>3.155704e+08</td>\n",
       "      <td>2.649165e+08</td>\n",
       "      <td>4.990219e+08</td>\n",
       "      <td>3.730181e+08</td>\n",
       "      <td>4.649689e+08</td>\n",
       "      <td>3.950457e+08</td>\n",
       "    </tr>\n",
       "    <tr>\n",
       "      <th>SAFETY</th>\n",
       "      <td>NaN</td>\n",
       "      <td>2.078791e+08</td>\n",
       "      <td>2.380131e+08</td>\n",
       "      <td>2.261781e+08</td>\n",
       "      <td>2.215786e+08</td>\n",
       "      <td>3.276996e+08</td>\n",
       "      <td>3.322634e+08</td>\n",
       "      <td>4.628774e+08</td>\n",
       "      <td>4.712151e+08</td>\n",
       "      <td>3.568663e+08</td>\n",
       "    </tr>\n",
       "    <tr>\n",
       "      <th>TREASURY</th>\n",
       "      <td>NaN</td>\n",
       "      <td>1.989782e+08</td>\n",
       "      <td>2.027828e+08</td>\n",
       "      <td>2.029611e+08</td>\n",
       "      <td>2.566642e+08</td>\n",
       "      <td>2.472603e+08</td>\n",
       "      <td>2.722911e+08</td>\n",
       "      <td>3.071551e+08</td>\n",
       "      <td>2.872914e+08</td>\n",
       "      <td>2.734485e+08</td>\n",
       "    </tr>\n",
       "    <tr>\n",
       "      <th>ADMINISTRATIVE SERV</th>\n",
       "      <td>NaN</td>\n",
       "      <td>1.511193e+08</td>\n",
       "      <td>1.594316e+08</td>\n",
       "      <td>1.396741e+08</td>\n",
       "      <td>1.432593e+08</td>\n",
       "      <td>1.296007e+08</td>\n",
       "      <td>1.608435e+08</td>\n",
       "      <td>2.493044e+08</td>\n",
       "      <td>2.540878e+08</td>\n",
       "      <td>2.326741e+08</td>\n",
       "    </tr>\n",
       "    <tr>\n",
       "      <th>CORRECTIONS</th>\n",
       "      <td>NaN</td>\n",
       "      <td>1.138702e+08</td>\n",
       "      <td>1.204841e+08</td>\n",
       "      <td>1.308146e+08</td>\n",
       "      <td>1.385864e+08</td>\n",
       "      <td>1.390841e+08</td>\n",
       "      <td>1.560134e+08</td>\n",
       "      <td>1.839650e+08</td>\n",
       "      <td>1.947163e+08</td>\n",
       "      <td>1.973737e+08</td>\n",
       "    </tr>\n",
       "    <tr>\n",
       "      <th>BUS &amp; ECON AFFAIRS</th>\n",
       "      <td>NaN</td>\n",
       "      <td>0.000000e+00</td>\n",
       "      <td>4.198000e+07</td>\n",
       "      <td>3.967425e+07</td>\n",
       "      <td>2.800789e+07</td>\n",
       "      <td>2.766386e+07</td>\n",
       "      <td>1.577735e+08</td>\n",
       "      <td>2.816203e+08</td>\n",
       "      <td>1.886149e+08</td>\n",
       "      <td>1.618568e+08</td>\n",
       "    </tr>\n",
       "  </tbody>\n",
       "</table>\n",
       "</div>"
      ],
      "text/plain": [
       "                                    2016          2017          2018  \\\n",
       "DEPARTMENT                                                             \n",
       "STATE TOTALS                7.298789e+09  7.609597e+09  7.573334e+09   \n",
       "HHS: COMMISSIONER'S OFFICE           NaN  3.061307e+09  2.959969e+09   \n",
       "EDUCATION DEPT OF           1.244818e+09  1.283613e+09  1.317492e+09   \n",
       "TRANSPORTATION                       NaN  1.541065e+09  1.433324e+09   \n",
       "ENVIRONMENTAL SERV                   NaN  1.601342e+08  2.228025e+08   \n",
       "SAFETY                               NaN  2.078791e+08  2.380131e+08   \n",
       "TREASURY                             NaN  1.989782e+08  2.027828e+08   \n",
       "ADMINISTRATIVE SERV                  NaN  1.511193e+08  1.594316e+08   \n",
       "CORRECTIONS                          NaN  1.138702e+08  1.204841e+08   \n",
       "BUS & ECON AFFAIRS                   NaN  0.000000e+00  4.198000e+07   \n",
       "\n",
       "                                    2019          2020          2021  \\\n",
       "DEPARTMENT                                                             \n",
       "STATE TOTALS                7.649197e+09  9.851111e+09  1.070392e+10   \n",
       "HHS: COMMISSIONER'S OFFICE  2.995259e+09  3.275300e+09  4.135133e+09   \n",
       "EDUCATION DEPT OF           1.355369e+09  1.449941e+09  1.953677e+09   \n",
       "TRANSPORTATION              1.407295e+09  1.382176e+09  1.399799e+09   \n",
       "ENVIRONMENTAL SERV          2.389943e+08  3.155704e+08  2.649165e+08   \n",
       "SAFETY                      2.261781e+08  2.215786e+08  3.276996e+08   \n",
       "TREASURY                    2.029611e+08  2.566642e+08  2.472603e+08   \n",
       "ADMINISTRATIVE SERV         1.396741e+08  1.432593e+08  1.296007e+08   \n",
       "CORRECTIONS                 1.308146e+08  1.385864e+08  1.390841e+08   \n",
       "BUS & ECON AFFAIRS          3.967425e+07  2.800789e+07  2.766386e+07   \n",
       "\n",
       "                                    2022          2023          2024  \\\n",
       "DEPARTMENT                                                             \n",
       "STATE TOTALS                1.116340e+10  1.184435e+10  1.178858e+10   \n",
       "HHS: COMMISSIONER'S OFFICE  4.419217e+09  4.419964e+09  4.600629e+09   \n",
       "EDUCATION DEPT OF           2.104823e+09  2.055884e+09  2.025101e+09   \n",
       "TRANSPORTATION              1.446914e+09  1.715776e+09  1.641726e+09   \n",
       "ENVIRONMENTAL SERV          4.990219e+08  3.730181e+08  4.649689e+08   \n",
       "SAFETY                      3.322634e+08  4.628774e+08  4.712151e+08   \n",
       "TREASURY                    2.722911e+08  3.071551e+08  2.872914e+08   \n",
       "ADMINISTRATIVE SERV         1.608435e+08  2.493044e+08  2.540878e+08   \n",
       "CORRECTIONS                 1.560134e+08  1.839650e+08  1.947163e+08   \n",
       "BUS & ECON AFFAIRS          1.577735e+08  2.816203e+08  1.886149e+08   \n",
       "\n",
       "                                    2025  \n",
       "DEPARTMENT                                \n",
       "STATE TOTALS                1.132454e+10  \n",
       "HHS: COMMISSIONER'S OFFICE  4.808592e+09  \n",
       "EDUCATION DEPT OF           1.759922e+09  \n",
       "TRANSPORTATION              1.619087e+09  \n",
       "ENVIRONMENTAL SERV          3.950457e+08  \n",
       "SAFETY                      3.568663e+08  \n",
       "TREASURY                    2.734485e+08  \n",
       "ADMINISTRATIVE SERV         2.326741e+08  \n",
       "CORRECTIONS                 1.973737e+08  \n",
       "BUS & ECON AFFAIRS          1.618568e+08  "
      ]
     },
     "execution_count": 40,
     "metadata": {},
     "output_type": "execute_result"
    }
   ],
   "source": [
    "nh_as_reported_df.sort_values(by='2025', ascending=False).head(10)"
   ]
  },
  {
   "cell_type": "code",
   "execution_count": 41,
   "id": "171b352f",
   "metadata": {},
   "outputs": [],
   "source": [
    "def create_comparison_df(year):\n",
    "    me_totals = me_standardized_df.xs('DEPARTMENT TOTAL', level='Funding Source')[year]\n",
    "    nh_totals = nh_standardized_df[year]\n",
    "    comparison_df = pd.DataFrame({\n",
    "        'ME': me_totals,\n",
    "        'NH': nh_totals\n",
    "    }).fillna(0)\n",
    "    return comparison_df\n"
   ]
  },
  {
   "cell_type": "code",
   "execution_count": 42,
   "id": "632e4cb1",
   "metadata": {},
   "outputs": [
    {
     "data": {
      "application/vnd.plotly.v1+json": {
       "config": {
        "plotlyServerURL": "https://plot.ly"
       },
       "data": [
        {
         "mode": "markers",
         "name": "2025",
         "text": [
          "ADMINISTRATION & FINANCE",
          "AGRICULTURE & CONSERVATION",
          "APPLIED EDUCATION",
          "ARTS & CULTURE",
          "ATTORNEY GENERAL",
          "CHILD WELFARE",
          "COMMUNITY COLLEGES",
          "COMMUNITY DEVELOPMENT",
          "CORRECTIONS",
          "ECONOMIC DEVELOPMENT",
          "EDUCATION",
          "ENERGY",
          "ETHICS & ELECTIONS",
          "EXECUTIVE",
          "EXECUTIVE COUNCIL",
          "FINANCIAL & PROFESSIONAL REGULATION",
          "FIRE",
          "FISH & WILDLIFE",
          "GOVERNMENT OVERSIGHT",
          "HEALTH & HUMAN SERVICES",
          "HOUSING",
          "HUMAN RIGHTS",
          "INDUSTRY PROMOTION",
          "INFORMATION TECHNOLOGY",
          "JUDICIAL",
          "JUDICIAL COUNCIL",
          "LABOR",
          "LEGISLATIVE",
          "LIQUOR COMMISSION",
          "LOTTERY COMMISSION",
          "MEDICAL RESEARCH",
          "MILITARY & VETERANS",
          "NATURAL & CULTURAL RESOURCES",
          "POLICING",
          "RETIREMENT SYSTEM",
          "REVENUE ADMINISTRATION",
          "SECRETARY OF STATE",
          "STATE HOUSE",
          "STATE LIBRARIES",
          "STATE RUN ENTITIES",
          "TELECOM",
          "TRANSPORTATION",
          "TREASURY",
          "UNIVERSITY SYSTEM"
         ],
         "type": "scatter",
         "x": {
          "bdata": "AAAAAAAghUAAAAAAAEB7QAAAAAAAADFAAAAAAAAAIEAAAAAAAABMQAAAAAAAAAAAAAAAAAAAWkAAAAAAAAAAAAAAAAAAwG9AAAAAAABAXEAAAAAAADihQAAAAAAAgERAAAAAAAAAEEAAAAAAAAA9QAAAAAAAAAAAAAAAAACARUAAAAAAAAAAQAAAAAAAgFFAAAAAAAAAHEAAAAAAAHe6QAAAAAAAIGJAAAAAAAAAEEAAAAAAAAAYQAAAAAAAAAAAAAAAAAAAYEAAAAAAAABIQAAAAAAAoHlAAAAAAAAAQkAAAAAAAAAAAAAAAAAAAAAAAAAAAAAAAAAAAAAAAABYQAAAAAAAACBAAAAAAADgZEAAAAAAAAAAQAAAAAAAAAAAAAAAAABAUUAAAAAAAADwPwAAAAAAACJAAAAAAAAAAAAAAAAAAAAAQAAAAAAA4JRAAAAAAABgeEAAAAAAAAByQA==",
          "dtype": "f8"
         },
         "y": {
          "bdata": "AAAAAAAgbUAAAAAAANB5QAAAAAAAAAAAAAAAAAAAAAAAAAAAACBjQAAAAAAAAAAAAAAAAABAUUAAAAAAAAAAAAAAAAAAoGhAAAAAAABAZEAAAAAAAICbQAAAAAAAQGJAAAAAAAAAAAAAAAAAAIBHQAAAAAAAAAAAAAAAAACAQkAAAAAAAAAAAAAAAAAAgElAAAAAAAAAAAAAAAAAAMmyQAAAAAAAAAAAAAAAAAAAAAAAAAAAAAAAAAAAAAAAQGFAAAAAAAAgYkAAAAAAAIBGQAAAAAAAwF9AAAAAAAAAR0AAAAAAAEBcQAAAAAAAACxAAAAAAAAAAAAAAAAAAIBOQAAAAAAAwFxAAAAAAADAdkAAAAAAAABEQAAAAAAAADxAAAAAAAAAM0AAAAAAAAAAAAAAAAAAAAAAAAAAAAAACEAAAAAAAAAAAAAAAAAATJlAAAAAAAAQcUAAAAAAAMBXQA==",
          "dtype": "f8"
         }
        },
        {
         "hovertext": [
          "ADMINISTRATION & FINANCE",
          "AGRICULTURE & CONSERVATION",
          "APPLIED EDUCATION",
          "ARTS & CULTURE",
          "ATTORNEY GENERAL",
          "CHILD WELFARE",
          "COMMUNITY COLLEGES",
          "COMMUNITY DEVELOPMENT",
          "CORRECTIONS",
          "ECONOMIC DEVELOPMENT",
          "EDUCATION",
          "ENERGY",
          "ETHICS & ELECTIONS",
          "EXECUTIVE",
          "EXECUTIVE COUNCIL",
          "FINANCIAL & PROFESSIONAL REGULATION",
          "FIRE",
          "FISH & WILDLIFE",
          "GOVERNMENT OVERSIGHT",
          "HEALTH & HUMAN SERVICES",
          "HOUSING",
          "HUMAN RIGHTS",
          "INDUSTRY PROMOTION",
          "INFORMATION TECHNOLOGY",
          "JUDICIAL",
          "JUDICIAL COUNCIL",
          "LABOR",
          "LEGISLATIVE",
          "LIQUOR COMMISSION",
          "LOTTERY COMMISSION",
          "MEDICAL RESEARCH",
          "MILITARY & VETERANS",
          "NATURAL & CULTURAL RESOURCES",
          "POLICING",
          "RETIREMENT SYSTEM",
          "REVENUE ADMINISTRATION",
          "SECRETARY OF STATE",
          "STATE HOUSE",
          "STATE LIBRARIES",
          "STATE RUN ENTITIES",
          "TELECOM",
          "TRANSPORTATION",
          "TREASURY",
          "UNIVERSITY SYSTEM"
         ],
         "marker": {
          "color": "gray",
          "opacity": 0
         },
         "mode": "markers",
         "name": "2018",
         "type": "scatter",
         "x": {
          "bdata": "AAAAAAAwfEAAAAAAACBoQAAAAAAAACRAAAAAAAAAGEAAAAAAAABEQAAAAAAAAAAAAAAAAABAUUAAAAAAAAAAAAAAAAAAQGhAAAAAAAAAXUAAAAAAAOiXQAAAAAAAADhAAAAAAAAAGEAAAAAAAAAiQAAAAAAAAAAAAAAAAAAAP0AAAAAAAAAAAAAAAAAAgEhAAAAAAAAAFEAAAAAAAG6vQAAAAAAAADJAAAAAAAAA8D8AAAAAAAAYQAAAAAAAAAAAAAAAAADAVEAAAAAAAAA3QAAAAAAAQHJAAAAAAAAAOkAAAAAAAAAAAAAAAAAAAAAAAAAAAAAAAAAAAAAAAABqQAAAAAAAABhAAAAAAADAXEAAAAAAAAAAAAAAAAAAAAAAAAAAAAAAR0AAAAAAAADwPwAAAAAAABxAAAAAAAAAAAAAAAAAAAAAAAAAAAAAkIFAAAAAAACAY0AAAAAAAOBqQA==",
          "dtype": "f8"
         },
         "y": {
          "bdata": "AAAAAADgY0AAAAAAAIBsQAAAAAAAAAAAAAAAAAAAAAAAAAAAAABEQAAAAAAAAAAAAAAAAAAAR0AAAAAAAAAAAAAAAAAAAF5AAAAAAAAARUAAAAAAAJSUQAAAAAAAAAAAAAAAAAAAAAAAAAAAAABEQAAAAAAAAAAAAAAAAAAAOUAAAAAAAAAAAAAAAAAAAEBAAAAAAAAAAAAAAAAAACCnQAAAAAAAAAAAAAAAAAAAAAAAAAAAAAAAAAAAAAAAQFJAAAAAAABAVkAAAAAAAAA9QAAAAAAAAFxAAAAAAAAAO0AAAAAAAMBRQAAAAAAAACJAAAAAAAAAAAAAAAAAAIBBQAAAAAAAAAAAAAAAAAAgbkAAAAAAAAAgQAAAAAAAADNAAAAAAAAAJEAAAAAAAAAAAAAAAAAAAAAAAAAAAAAA8D8AAAAAAAAAAAAAAAAAZJZAAAAAAABgaUAAAAAAAEBUQA==",
          "dtype": "f8"
         }
        },
        {
         "line": {
          "color": "gray",
          "dash": "dot"
         },
         "mode": "lines",
         "name": "ADMINISTRATION & FINANCE connection",
         "showlegend": false,
         "type": "scatter",
         "x": [
          676,
          451
         ],
         "y": [
          233,
          159
         ]
        },
        {
         "line": {
          "color": "gray",
          "dash": "dot"
         },
         "mode": "lines",
         "name": "AGRICULTURE & CONSERVATION connection",
         "showlegend": false,
         "type": "scatter",
         "x": [
          436,
          193
         ],
         "y": [
          413,
          228
         ]
        },
        {
         "line": {
          "color": "gray",
          "dash": "dot"
         },
         "mode": "lines",
         "name": "APPLIED EDUCATION connection",
         "showlegend": false,
         "type": "scatter",
         "x": [
          17,
          10
         ],
         "y": [
          0,
          0
         ]
        },
        {
         "line": {
          "color": "gray",
          "dash": "dot"
         },
         "mode": "lines",
         "name": "ARTS & CULTURE connection",
         "showlegend": false,
         "type": "scatter",
         "x": [
          8,
          6
         ],
         "y": [
          0,
          0
         ]
        },
        {
         "line": {
          "color": "gray",
          "dash": "dot"
         },
         "mode": "lines",
         "name": "ATTORNEY GENERAL connection",
         "showlegend": false,
         "type": "scatter",
         "x": [
          56,
          40
         ],
         "y": [
          153,
          40
         ]
        },
        {
         "line": {
          "color": "gray",
          "dash": "dot"
         },
         "mode": "lines",
         "name": "CHILD WELFARE connection",
         "showlegend": false,
         "type": "scatter",
         "x": [
          0,
          0
         ],
         "y": [
          0,
          0
         ]
        },
        {
         "line": {
          "color": "gray",
          "dash": "dot"
         },
         "mode": "lines",
         "name": "COMMUNITY COLLEGES connection",
         "showlegend": false,
         "type": "scatter",
         "x": [
          104,
          69
         ],
         "y": [
          69,
          46
         ]
        },
        {
         "line": {
          "color": "gray",
          "dash": "dot"
         },
         "mode": "lines",
         "name": "COMMUNITY DEVELOPMENT connection",
         "showlegend": false,
         "type": "scatter",
         "x": [
          0,
          0
         ],
         "y": [
          0,
          0
         ]
        },
        {
         "line": {
          "color": "gray",
          "dash": "dot"
         },
         "mode": "lines",
         "name": "CORRECTIONS connection",
         "showlegend": false,
         "type": "scatter",
         "x": [
          254,
          194
         ],
         "y": [
          197,
          120
         ]
        },
        {
         "line": {
          "color": "gray",
          "dash": "dot"
         },
         "mode": "lines",
         "name": "ECONOMIC DEVELOPMENT connection",
         "showlegend": false,
         "type": "scatter",
         "x": [
          113,
          116
         ],
         "y": [
          162,
          42
         ]
        },
        {
         "line": {
          "color": "gray",
          "dash": "dot"
         },
         "mode": "lines",
         "name": "EDUCATION connection",
         "showlegend": false,
         "type": "scatter",
         "x": [
          2204,
          1530
         ],
         "y": [
          1760,
          1317
         ]
        },
        {
         "line": {
          "color": "gray",
          "dash": "dot"
         },
         "mode": "lines",
         "name": "ENERGY connection",
         "showlegend": false,
         "type": "scatter",
         "x": [
          41,
          24
         ],
         "y": [
          146,
          0
         ]
        },
        {
         "line": {
          "color": "gray",
          "dash": "dot"
         },
         "mode": "lines",
         "name": "ETHICS & ELECTIONS connection",
         "showlegend": false,
         "type": "scatter",
         "x": [
          4,
          6
         ],
         "y": [
          0,
          0
         ]
        },
        {
         "line": {
          "color": "gray",
          "dash": "dot"
         },
         "mode": "lines",
         "name": "EXECUTIVE connection",
         "showlegend": false,
         "type": "scatter",
         "x": [
          29,
          9
         ],
         "y": [
          47,
          40
         ]
        },
        {
         "line": {
          "color": "gray",
          "dash": "dot"
         },
         "mode": "lines",
         "name": "EXECUTIVE COUNCIL connection",
         "showlegend": false,
         "type": "scatter",
         "x": [
          0,
          0
         ],
         "y": [
          0,
          0
         ]
        },
        {
         "line": {
          "color": "gray",
          "dash": "dot"
         },
         "mode": "lines",
         "name": "FINANCIAL & PROFESSIONAL REGULATION connection",
         "showlegend": false,
         "type": "scatter",
         "x": [
          43,
          31
         ],
         "y": [
          37,
          25
         ]
        },
        {
         "line": {
          "color": "gray",
          "dash": "dot"
         },
         "mode": "lines",
         "name": "FIRE connection",
         "showlegend": false,
         "type": "scatter",
         "x": [
          2,
          0
         ],
         "y": [
          0,
          0
         ]
        },
        {
         "line": {
          "color": "gray",
          "dash": "dot"
         },
         "mode": "lines",
         "name": "FISH & WILDLIFE connection",
         "showlegend": false,
         "type": "scatter",
         "x": [
          70,
          49
         ],
         "y": [
          51,
          32
         ]
        },
        {
         "line": {
          "color": "gray",
          "dash": "dot"
         },
         "mode": "lines",
         "name": "GOVERNMENT OVERSIGHT connection",
         "showlegend": false,
         "type": "scatter",
         "x": [
          7,
          5
         ],
         "y": [
          0,
          0
         ]
        },
        {
         "line": {
          "color": "gray",
          "dash": "dot"
         },
         "mode": "lines",
         "name": "HEALTH & HUMAN SERVICES connection",
         "showlegend": false,
         "type": "scatter",
         "x": [
          6775,
          4023
         ],
         "y": [
          4809,
          2960
         ]
        },
        {
         "line": {
          "color": "gray",
          "dash": "dot"
         },
         "mode": "lines",
         "name": "HOUSING connection",
         "showlegend": false,
         "type": "scatter",
         "x": [
          145,
          18
         ],
         "y": [
          0,
          0
         ]
        },
        {
         "line": {
          "color": "gray",
          "dash": "dot"
         },
         "mode": "lines",
         "name": "HUMAN RIGHTS connection",
         "showlegend": false,
         "type": "scatter",
         "x": [
          4,
          1
         ],
         "y": [
          0,
          0
         ]
        },
        {
         "line": {
          "color": "gray",
          "dash": "dot"
         },
         "mode": "lines",
         "name": "INDUSTRY PROMOTION connection",
         "showlegend": false,
         "type": "scatter",
         "x": [
          6,
          6
         ],
         "y": [
          0,
          0
         ]
        },
        {
         "line": {
          "color": "gray",
          "dash": "dot"
         },
         "mode": "lines",
         "name": "INFORMATION TECHNOLOGY connection",
         "showlegend": false,
         "type": "scatter",
         "x": [
          0,
          0
         ],
         "y": [
          138,
          73
         ]
        },
        {
         "line": {
          "color": "gray",
          "dash": "dot"
         },
         "mode": "lines",
         "name": "JUDICIAL connection",
         "showlegend": false,
         "type": "scatter",
         "x": [
          128,
          83
         ],
         "y": [
          145,
          89
         ]
        },
        {
         "line": {
          "color": "gray",
          "dash": "dot"
         },
         "mode": "lines",
         "name": "JUDICIAL COUNCIL connection",
         "showlegend": false,
         "type": "scatter",
         "x": [
          48,
          23
         ],
         "y": [
          45,
          29
         ]
        },
        {
         "line": {
          "color": "gray",
          "dash": "dot"
         },
         "mode": "lines",
         "name": "LABOR connection",
         "showlegend": false,
         "type": "scatter",
         "x": [
          410,
          292
         ],
         "y": [
          127,
          112
         ]
        },
        {
         "line": {
          "color": "gray",
          "dash": "dot"
         },
         "mode": "lines",
         "name": "LEGISLATIVE connection",
         "showlegend": false,
         "type": "scatter",
         "x": [
          36,
          26
         ],
         "y": [
          46,
          27
         ]
        },
        {
         "line": {
          "color": "gray",
          "dash": "dot"
         },
         "mode": "lines",
         "name": "LIQUOR COMMISSION connection",
         "showlegend": false,
         "type": "scatter",
         "x": [
          0,
          0
         ],
         "y": [
          113,
          71
         ]
        },
        {
         "line": {
          "color": "gray",
          "dash": "dot"
         },
         "mode": "lines",
         "name": "LOTTERY COMMISSION connection",
         "showlegend": false,
         "type": "scatter",
         "x": [
          0,
          0
         ],
         "y": [
          14,
          9
         ]
        },
        {
         "line": {
          "color": "gray",
          "dash": "dot"
         },
         "mode": "lines",
         "name": "MEDICAL RESEARCH connection",
         "showlegend": false,
         "type": "scatter",
         "x": [
          0,
          0
         ],
         "y": [
          0,
          0
         ]
        },
        {
         "line": {
          "color": "gray",
          "dash": "dot"
         },
         "mode": "lines",
         "name": "MILITARY & VETERANS connection",
         "showlegend": false,
         "type": "scatter",
         "x": [
          96,
          208
         ],
         "y": [
          61,
          35
         ]
        },
        {
         "line": {
          "color": "gray",
          "dash": "dot"
         },
         "mode": "lines",
         "name": "NATURAL & CULTURAL RESOURCES connection",
         "showlegend": false,
         "type": "scatter",
         "x": [
          8,
          6
         ],
         "y": [
          115,
          0
         ]
        },
        {
         "line": {
          "color": "gray",
          "dash": "dot"
         },
         "mode": "lines",
         "name": "POLICING connection",
         "showlegend": false,
         "type": "scatter",
         "x": [
          167,
          115
         ],
         "y": [
          364,
          241
         ]
        },
        {
         "line": {
          "color": "gray",
          "dash": "dot"
         },
         "mode": "lines",
         "name": "RETIREMENT SYSTEM connection",
         "showlegend": false,
         "type": "scatter",
         "x": [
          2,
          0
         ],
         "y": [
          40,
          8
         ]
        },
        {
         "line": {
          "color": "gray",
          "dash": "dot"
         },
         "mode": "lines",
         "name": "REVENUE ADMINISTRATION connection",
         "showlegend": false,
         "type": "scatter",
         "x": [
          0,
          0
         ],
         "y": [
          28,
          19
         ]
        },
        {
         "line": {
          "color": "gray",
          "dash": "dot"
         },
         "mode": "lines",
         "name": "SECRETARY OF STATE connection",
         "showlegend": false,
         "type": "scatter",
         "x": [
          69,
          46
         ],
         "y": [
          19,
          10
         ]
        },
        {
         "line": {
          "color": "gray",
          "dash": "dot"
         },
         "mode": "lines",
         "name": "STATE HOUSE connection",
         "showlegend": false,
         "type": "scatter",
         "x": [
          1,
          1
         ],
         "y": [
          0,
          0
         ]
        },
        {
         "line": {
          "color": "gray",
          "dash": "dot"
         },
         "mode": "lines",
         "name": "STATE LIBRARIES connection",
         "showlegend": false,
         "type": "scatter",
         "x": [
          9,
          7
         ],
         "y": [
          0,
          0
         ]
        },
        {
         "line": {
          "color": "gray",
          "dash": "dot"
         },
         "mode": "lines",
         "name": "STATE RUN ENTITIES connection",
         "showlegend": false,
         "type": "scatter",
         "x": [
          0,
          0
         ],
         "y": [
          3,
          1
         ]
        },
        {
         "line": {
          "color": "gray",
          "dash": "dot"
         },
         "mode": "lines",
         "name": "TELECOM connection",
         "showlegend": false,
         "type": "scatter",
         "x": [
          2,
          0
         ],
         "y": [
          0,
          0
         ]
        },
        {
         "line": {
          "color": "gray",
          "dash": "dot"
         },
         "mode": "lines",
         "name": "TRANSPORTATION connection",
         "showlegend": false,
         "type": "scatter",
         "x": [
          1336,
          562
         ],
         "y": [
          1619,
          1433
         ]
        },
        {
         "line": {
          "color": "gray",
          "dash": "dot"
         },
         "mode": "lines",
         "name": "TREASURY connection",
         "showlegend": false,
         "type": "scatter",
         "x": [
          390,
          156
         ],
         "y": [
          273,
          203
         ]
        },
        {
         "line": {
          "color": "gray",
          "dash": "dot"
         },
         "mode": "lines",
         "name": "UNIVERSITY SYSTEM connection",
         "showlegend": false,
         "type": "scatter",
         "x": [
          288,
          215
         ],
         "y": [
          95,
          81
         ]
        },
        {
         "line": {
          "color": "gray",
          "dash": "dash"
         },
         "mode": "lines",
         "name": "y=x",
         "type": "scatter",
         "x": {
          "bdata": "AAAAAAAAAAAxb2dIzBtRQDFvZ0jMG2FAyiabbLKpaUAxb2dIzBtxQP1KgVq/YnVAyiabbLKpeUCWArV+pfB9QDFvZ0jMG4FAF1100UU/g0D9SoFav2KFQOM4juM4hodAyiabbLKpiUCwFKj1K82LQJYCtX6l8I1APvjggw8KkEAxb2dIzBuRQCTm7QyJLZJAF1100UU/k0AK1PqVAlGUQP1KgVq/YpVA8MEHH3x0lkDjOI7jOIaXQNavFKj1l5hAyiabbLKpmUC9nSExb7uaQLAUqPUrzZtAo4suuujenECWArV+pfCdQIl5O0NiAp9APvjggw8KoEC3MyTm7ZKgQDFvZ0jMG6FAq6qqqqqkoUAk5u0MiS2iQJ4hMW9ntqJAF1100UU/o0CRmLczJMijQArU+pUCUaRAhA8++ODZpED9SoFav2KlQHeGxLyd66VA8MEHH3x0pkBq/UqBWv2mQOM4juM4hqdAXXTRRRcPqEDWrxSo9ZeoQFDrVwrUIKlAyiabbLKpqUBDYt7OkDKqQL2dITFvu6pANtlkk01Eq0CwFKj1K82rQClQ61cKVqxAo4suuujerEAcx3Ecx2etQJYCtX6l8K1ADz744IN5rkCJeTtDYgKvQAK1fqVAi69APvjggw8KsED7lQK1fk6wQLczJObtkrBAdNFFF13XsEAxb2dIzBuxQO4MiXk7YLFAq6qqqqqksUBnSMzbGemxQCTm7QyJLbJA4YMPPvhxskCeITFvZ7ayQFq/UqDW+rJAF1100UU/s0DU+pUCtYOzQJGYtzMkyLNATTbZZJMMtEAK1PqVAlG0QMdxHMdxlbRAhA8++ODZtEBArV8pUB61QP1KgVq/YrVAuuiiiy6ntUB3hsS8neu1QDQk5u0MMLZA8MEHH3x0tkCtXylQ67i2QGr9SoFa/bZAJ5tssslBt0DjOI7jOIa3QKDWrxSoyrdAXXTRRRcPuEAaEvN2hlO4QNavFKj1l7hAk0022WTcuEBQ61cK1CC5QA2JeTtDZblAyiabbLKpuUCGxLydIe65QENi3s6QMrpAAAAAAAB3ukA=",
          "dtype": "f8"
         },
         "y": {
          "bdata": "AAAAAAAAAAAxb2dIzBtRQDFvZ0jMG2FAyiabbLKpaUAxb2dIzBtxQP1KgVq/YnVAyiabbLKpeUCWArV+pfB9QDFvZ0jMG4FAF1100UU/g0D9SoFav2KFQOM4juM4hodAyiabbLKpiUCwFKj1K82LQJYCtX6l8I1APvjggw8KkEAxb2dIzBuRQCTm7QyJLZJAF1100UU/k0AK1PqVAlGUQP1KgVq/YpVA8MEHH3x0lkDjOI7jOIaXQNavFKj1l5hAyiabbLKpmUC9nSExb7uaQLAUqPUrzZtAo4suuujenECWArV+pfCdQIl5O0NiAp9APvjggw8KoEC3MyTm7ZKgQDFvZ0jMG6FAq6qqqqqkoUAk5u0MiS2iQJ4hMW9ntqJAF1100UU/o0CRmLczJMijQArU+pUCUaRAhA8++ODZpED9SoFav2KlQHeGxLyd66VA8MEHH3x0pkBq/UqBWv2mQOM4juM4hqdAXXTRRRcPqEDWrxSo9ZeoQFDrVwrUIKlAyiabbLKpqUBDYt7OkDKqQL2dITFvu6pANtlkk01Eq0CwFKj1K82rQClQ61cKVqxAo4suuujerEAcx3Ecx2etQJYCtX6l8K1ADz744IN5rkCJeTtDYgKvQAK1fqVAi69APvjggw8KsED7lQK1fk6wQLczJObtkrBAdNFFF13XsEAxb2dIzBuxQO4MiXk7YLFAq6qqqqqksUBnSMzbGemxQCTm7QyJLbJA4YMPPvhxskCeITFvZ7ayQFq/UqDW+rJAF1100UU/s0DU+pUCtYOzQJGYtzMkyLNATTbZZJMMtEAK1PqVAlG0QMdxHMdxlbRAhA8++ODZtEBArV8pUB61QP1KgVq/YrVAuuiiiy6ntUB3hsS8neu1QDQk5u0MMLZA8MEHH3x0tkCtXylQ67i2QGr9SoFa/bZAJ5tssslBt0DjOI7jOIa3QKDWrxSoyrdAXXTRRRcPuEAaEvN2hlO4QNavFKj1l7hAk0022WTcuEBQ61cK1CC5QA2JeTtDZblAyiabbLKpuUCGxLydIe65QENi3s6QMrpAAAAAAAB3ukA=",
          "dtype": "f8"
         }
        }
       ],
       "layout": {
        "height": 600,
        "template": {
         "data": {
          "bar": [
           {
            "error_x": {
             "color": "#2a3f5f"
            },
            "error_y": {
             "color": "#2a3f5f"
            },
            "marker": {
             "line": {
              "color": "#E5ECF6",
              "width": 0.5
             },
             "pattern": {
              "fillmode": "overlay",
              "size": 10,
              "solidity": 0.2
             }
            },
            "type": "bar"
           }
          ],
          "barpolar": [
           {
            "marker": {
             "line": {
              "color": "#E5ECF6",
              "width": 0.5
             },
             "pattern": {
              "fillmode": "overlay",
              "size": 10,
              "solidity": 0.2
             }
            },
            "type": "barpolar"
           }
          ],
          "carpet": [
           {
            "aaxis": {
             "endlinecolor": "#2a3f5f",
             "gridcolor": "white",
             "linecolor": "white",
             "minorgridcolor": "white",
             "startlinecolor": "#2a3f5f"
            },
            "baxis": {
             "endlinecolor": "#2a3f5f",
             "gridcolor": "white",
             "linecolor": "white",
             "minorgridcolor": "white",
             "startlinecolor": "#2a3f5f"
            },
            "type": "carpet"
           }
          ],
          "choropleth": [
           {
            "colorbar": {
             "outlinewidth": 0,
             "ticks": ""
            },
            "type": "choropleth"
           }
          ],
          "contour": [
           {
            "colorbar": {
             "outlinewidth": 0,
             "ticks": ""
            },
            "colorscale": [
             [
              0,
              "#0d0887"
             ],
             [
              0.1111111111111111,
              "#46039f"
             ],
             [
              0.2222222222222222,
              "#7201a8"
             ],
             [
              0.3333333333333333,
              "#9c179e"
             ],
             [
              0.4444444444444444,
              "#bd3786"
             ],
             [
              0.5555555555555556,
              "#d8576b"
             ],
             [
              0.6666666666666666,
              "#ed7953"
             ],
             [
              0.7777777777777778,
              "#fb9f3a"
             ],
             [
              0.8888888888888888,
              "#fdca26"
             ],
             [
              1,
              "#f0f921"
             ]
            ],
            "type": "contour"
           }
          ],
          "contourcarpet": [
           {
            "colorbar": {
             "outlinewidth": 0,
             "ticks": ""
            },
            "type": "contourcarpet"
           }
          ],
          "heatmap": [
           {
            "colorbar": {
             "outlinewidth": 0,
             "ticks": ""
            },
            "colorscale": [
             [
              0,
              "#0d0887"
             ],
             [
              0.1111111111111111,
              "#46039f"
             ],
             [
              0.2222222222222222,
              "#7201a8"
             ],
             [
              0.3333333333333333,
              "#9c179e"
             ],
             [
              0.4444444444444444,
              "#bd3786"
             ],
             [
              0.5555555555555556,
              "#d8576b"
             ],
             [
              0.6666666666666666,
              "#ed7953"
             ],
             [
              0.7777777777777778,
              "#fb9f3a"
             ],
             [
              0.8888888888888888,
              "#fdca26"
             ],
             [
              1,
              "#f0f921"
             ]
            ],
            "type": "heatmap"
           }
          ],
          "histogram": [
           {
            "marker": {
             "pattern": {
              "fillmode": "overlay",
              "size": 10,
              "solidity": 0.2
             }
            },
            "type": "histogram"
           }
          ],
          "histogram2d": [
           {
            "colorbar": {
             "outlinewidth": 0,
             "ticks": ""
            },
            "colorscale": [
             [
              0,
              "#0d0887"
             ],
             [
              0.1111111111111111,
              "#46039f"
             ],
             [
              0.2222222222222222,
              "#7201a8"
             ],
             [
              0.3333333333333333,
              "#9c179e"
             ],
             [
              0.4444444444444444,
              "#bd3786"
             ],
             [
              0.5555555555555556,
              "#d8576b"
             ],
             [
              0.6666666666666666,
              "#ed7953"
             ],
             [
              0.7777777777777778,
              "#fb9f3a"
             ],
             [
              0.8888888888888888,
              "#fdca26"
             ],
             [
              1,
              "#f0f921"
             ]
            ],
            "type": "histogram2d"
           }
          ],
          "histogram2dcontour": [
           {
            "colorbar": {
             "outlinewidth": 0,
             "ticks": ""
            },
            "colorscale": [
             [
              0,
              "#0d0887"
             ],
             [
              0.1111111111111111,
              "#46039f"
             ],
             [
              0.2222222222222222,
              "#7201a8"
             ],
             [
              0.3333333333333333,
              "#9c179e"
             ],
             [
              0.4444444444444444,
              "#bd3786"
             ],
             [
              0.5555555555555556,
              "#d8576b"
             ],
             [
              0.6666666666666666,
              "#ed7953"
             ],
             [
              0.7777777777777778,
              "#fb9f3a"
             ],
             [
              0.8888888888888888,
              "#fdca26"
             ],
             [
              1,
              "#f0f921"
             ]
            ],
            "type": "histogram2dcontour"
           }
          ],
          "mesh3d": [
           {
            "colorbar": {
             "outlinewidth": 0,
             "ticks": ""
            },
            "type": "mesh3d"
           }
          ],
          "parcoords": [
           {
            "line": {
             "colorbar": {
              "outlinewidth": 0,
              "ticks": ""
             }
            },
            "type": "parcoords"
           }
          ],
          "pie": [
           {
            "automargin": true,
            "type": "pie"
           }
          ],
          "scatter": [
           {
            "fillpattern": {
             "fillmode": "overlay",
             "size": 10,
             "solidity": 0.2
            },
            "type": "scatter"
           }
          ],
          "scatter3d": [
           {
            "line": {
             "colorbar": {
              "outlinewidth": 0,
              "ticks": ""
             }
            },
            "marker": {
             "colorbar": {
              "outlinewidth": 0,
              "ticks": ""
             }
            },
            "type": "scatter3d"
           }
          ],
          "scattercarpet": [
           {
            "marker": {
             "colorbar": {
              "outlinewidth": 0,
              "ticks": ""
             }
            },
            "type": "scattercarpet"
           }
          ],
          "scattergeo": [
           {
            "marker": {
             "colorbar": {
              "outlinewidth": 0,
              "ticks": ""
             }
            },
            "type": "scattergeo"
           }
          ],
          "scattergl": [
           {
            "marker": {
             "colorbar": {
              "outlinewidth": 0,
              "ticks": ""
             }
            },
            "type": "scattergl"
           }
          ],
          "scattermap": [
           {
            "marker": {
             "colorbar": {
              "outlinewidth": 0,
              "ticks": ""
             }
            },
            "type": "scattermap"
           }
          ],
          "scattermapbox": [
           {
            "marker": {
             "colorbar": {
              "outlinewidth": 0,
              "ticks": ""
             }
            },
            "type": "scattermapbox"
           }
          ],
          "scatterpolar": [
           {
            "marker": {
             "colorbar": {
              "outlinewidth": 0,
              "ticks": ""
             }
            },
            "type": "scatterpolar"
           }
          ],
          "scatterpolargl": [
           {
            "marker": {
             "colorbar": {
              "outlinewidth": 0,
              "ticks": ""
             }
            },
            "type": "scatterpolargl"
           }
          ],
          "scatterternary": [
           {
            "marker": {
             "colorbar": {
              "outlinewidth": 0,
              "ticks": ""
             }
            },
            "type": "scatterternary"
           }
          ],
          "surface": [
           {
            "colorbar": {
             "outlinewidth": 0,
             "ticks": ""
            },
            "colorscale": [
             [
              0,
              "#0d0887"
             ],
             [
              0.1111111111111111,
              "#46039f"
             ],
             [
              0.2222222222222222,
              "#7201a8"
             ],
             [
              0.3333333333333333,
              "#9c179e"
             ],
             [
              0.4444444444444444,
              "#bd3786"
             ],
             [
              0.5555555555555556,
              "#d8576b"
             ],
             [
              0.6666666666666666,
              "#ed7953"
             ],
             [
              0.7777777777777778,
              "#fb9f3a"
             ],
             [
              0.8888888888888888,
              "#fdca26"
             ],
             [
              1,
              "#f0f921"
             ]
            ],
            "type": "surface"
           }
          ],
          "table": [
           {
            "cells": {
             "fill": {
              "color": "#EBF0F8"
             },
             "line": {
              "color": "white"
             }
            },
            "header": {
             "fill": {
              "color": "#C8D4E3"
             },
             "line": {
              "color": "white"
             }
            },
            "type": "table"
           }
          ]
         },
         "layout": {
          "annotationdefaults": {
           "arrowcolor": "#2a3f5f",
           "arrowhead": 0,
           "arrowwidth": 1
          },
          "autotypenumbers": "strict",
          "coloraxis": {
           "colorbar": {
            "outlinewidth": 0,
            "ticks": ""
           }
          },
          "colorscale": {
           "diverging": [
            [
             0,
             "#8e0152"
            ],
            [
             0.1,
             "#c51b7d"
            ],
            [
             0.2,
             "#de77ae"
            ],
            [
             0.3,
             "#f1b6da"
            ],
            [
             0.4,
             "#fde0ef"
            ],
            [
             0.5,
             "#f7f7f7"
            ],
            [
             0.6,
             "#e6f5d0"
            ],
            [
             0.7,
             "#b8e186"
            ],
            [
             0.8,
             "#7fbc41"
            ],
            [
             0.9,
             "#4d9221"
            ],
            [
             1,
             "#276419"
            ]
           ],
           "sequential": [
            [
             0,
             "#0d0887"
            ],
            [
             0.1111111111111111,
             "#46039f"
            ],
            [
             0.2222222222222222,
             "#7201a8"
            ],
            [
             0.3333333333333333,
             "#9c179e"
            ],
            [
             0.4444444444444444,
             "#bd3786"
            ],
            [
             0.5555555555555556,
             "#d8576b"
            ],
            [
             0.6666666666666666,
             "#ed7953"
            ],
            [
             0.7777777777777778,
             "#fb9f3a"
            ],
            [
             0.8888888888888888,
             "#fdca26"
            ],
            [
             1,
             "#f0f921"
            ]
           ],
           "sequentialminus": [
            [
             0,
             "#0d0887"
            ],
            [
             0.1111111111111111,
             "#46039f"
            ],
            [
             0.2222222222222222,
             "#7201a8"
            ],
            [
             0.3333333333333333,
             "#9c179e"
            ],
            [
             0.4444444444444444,
             "#bd3786"
            ],
            [
             0.5555555555555556,
             "#d8576b"
            ],
            [
             0.6666666666666666,
             "#ed7953"
            ],
            [
             0.7777777777777778,
             "#fb9f3a"
            ],
            [
             0.8888888888888888,
             "#fdca26"
            ],
            [
             1,
             "#f0f921"
            ]
           ]
          },
          "colorway": [
           "#636efa",
           "#EF553B",
           "#00cc96",
           "#ab63fa",
           "#FFA15A",
           "#19d3f3",
           "#FF6692",
           "#B6E880",
           "#FF97FF",
           "#FECB52"
          ],
          "font": {
           "color": "#2a3f5f"
          },
          "geo": {
           "bgcolor": "white",
           "lakecolor": "white",
           "landcolor": "#E5ECF6",
           "showlakes": true,
           "showland": true,
           "subunitcolor": "white"
          },
          "hoverlabel": {
           "align": "left"
          },
          "hovermode": "closest",
          "mapbox": {
           "style": "light"
          },
          "paper_bgcolor": "white",
          "plot_bgcolor": "#E5ECF6",
          "polar": {
           "angularaxis": {
            "gridcolor": "white",
            "linecolor": "white",
            "ticks": ""
           },
           "bgcolor": "#E5ECF6",
           "radialaxis": {
            "gridcolor": "white",
            "linecolor": "white",
            "ticks": ""
           }
          },
          "scene": {
           "xaxis": {
            "backgroundcolor": "#E5ECF6",
            "gridcolor": "white",
            "gridwidth": 2,
            "linecolor": "white",
            "showbackground": true,
            "ticks": "",
            "zerolinecolor": "white"
           },
           "yaxis": {
            "backgroundcolor": "#E5ECF6",
            "gridcolor": "white",
            "gridwidth": 2,
            "linecolor": "white",
            "showbackground": true,
            "ticks": "",
            "zerolinecolor": "white"
           },
           "zaxis": {
            "backgroundcolor": "#E5ECF6",
            "gridcolor": "white",
            "gridwidth": 2,
            "linecolor": "white",
            "showbackground": true,
            "ticks": "",
            "zerolinecolor": "white"
           }
          },
          "shapedefaults": {
           "line": {
            "color": "#2a3f5f"
           }
          },
          "ternary": {
           "aaxis": {
            "gridcolor": "white",
            "linecolor": "white",
            "ticks": ""
           },
           "baxis": {
            "gridcolor": "white",
            "linecolor": "white",
            "ticks": ""
           },
           "bgcolor": "#E5ECF6",
           "caxis": {
            "gridcolor": "white",
            "linecolor": "white",
            "ticks": ""
           }
          },
          "title": {
           "x": 0.05
          },
          "xaxis": {
           "automargin": true,
           "gridcolor": "white",
           "linecolor": "white",
           "ticks": "",
           "title": {
            "standoff": 15
           },
           "zerolinecolor": "white",
           "zerolinewidth": 2
          },
          "yaxis": {
           "automargin": true,
           "gridcolor": "white",
           "linecolor": "white",
           "ticks": "",
           "title": {
            "standoff": 15
           },
           "zerolinecolor": "white",
           "zerolinewidth": 2
          }
         }
        },
        "title": {
         "text": "Maine vs New Hampshire State Budgets"
        },
        "width": 600,
        "xaxis": {
         "title": {
          "text": "Maine Budget (Million $)"
         }
        },
        "yaxis": {
         "scaleanchor": "x",
         "scaleratio": 1,
         "title": {
          "text": "New Hampshire Budget (Million $)"
         }
        }
       }
      }
     },
     "metadata": {},
     "output_type": "display_data"
    }
   ],
   "source": [
    "# Create scatter plot comparing ME and NH budgets for a given year\n",
    "\n",
    "year = '2025'\n",
    "departments_to_ignore = []#[\"HEALTH & HUMAN SERVICES\", \"EDUCATION\"]\n",
    "\n",
    "comparison_df = (create_comparison_df(year) / 1e6).round(0)\n",
    "comparison_df = comparison_df.drop(departments_to_ignore)\n",
    "comparison2_df = (create_comparison_df('2018') / 1e6).round(0)\n",
    "comparison2_df = comparison2_df.drop(departments_to_ignore)\n",
    "\n",
    "fig = go.Figure()\n",
    "\n",
    "# First trace\n",
    "fig.add_trace(go.Scatter(x=comparison_df['ME'], y=comparison_df['NH'],\n",
    "                        mode='markers', name=f'{year}',\n",
    "                        text=comparison_df.index))\n",
    "\n",
    "# Second trace  \n",
    "fig.add_trace(go.Scatter(x=comparison2_df['ME'], y=comparison2_df['NH'],\n",
    "                        mode='markers', name='2018',\n",
    "                        hovertext=comparison2_df.index,\n",
    "                        marker=dict(opacity=0, color='gray')))\n",
    "\n",
    "# add connecting lines\n",
    "for dept in comparison_df.index:\n",
    "    if dept in comparison2_df.index:\n",
    "        fig.add_trace(go.Scatter(\n",
    "            x=[comparison_df.loc[dept, 'ME'], comparison2_df.loc[dept, 'ME']],\n",
    "            y=[comparison_df.loc[dept, 'NH'], comparison2_df.loc[dept, 'NH']],\n",
    "            mode='lines',\n",
    "            name=f'{dept} connection',\n",
    "            showlegend=False,\n",
    "            line=dict(color='gray', dash='dot')\n",
    "        ))\n",
    "\n",
    "# Add y=x line\n",
    "x_range = np.linspace(comparison_df['ME'].min(), comparison_df['ME'].max(), 100)\n",
    "fig.add_trace(go.Scatter(x=x_range, y=x_range, mode='lines', \n",
    "                        name='y=x', line=dict(color='gray', dash='dash')))\n",
    "\n",
    "fig.update_layout(width=600,\n",
    "    height=600,\n",
    "    title=f'Maine vs New Hampshire State Budgets',\n",
    "                  xaxis_title='Maine Budget (Million $)', \n",
    "                  yaxis_title='New Hampshire Budget (Million $)')\n",
    "\n",
    "fig.update_yaxes(scaleanchor=\"x\", scaleratio=1)\n",
    "fig.show()"
   ]
  },
  {
   "cell_type": "markdown",
   "id": "4e475287",
   "metadata": {},
   "source": [
    "## Ingest FRED Data"
   ]
  },
  {
   "cell_type": "code",
   "execution_count": 43,
   "id": "3fc60410",
   "metadata": {},
   "outputs": [],
   "source": [
    "def get_indexed_fred_series(series_id, start_date, base_multiplier, freq='YE'):\n",
    "    \"\"\"\n",
    "    Fetch FRED series data, downsample to specified frequency, filter by date,\n",
    "    index relative to first value, convert index to year strings, and re-index with multiplier.\n",
    "    \n",
    "    Parameters:\n",
    "    - fred: Initialized Fred API object\n",
    "    - series_id: FRED series identifier (e.g., 'CPIAUCSL')\n",
    "    - start_date: Start date for filtering (default '2016')\n",
    "    - base_multiplier: Multiplier for re-indexing (default 8.2)\n",
    "    - freq: Resampling frequency (default 'YE' for yearly, use 'M' for monthly)\n",
    "    \n",
    "    Returns:\n",
    "    - pandas.Series: Processed and re-indexed series\n",
    "    \"\"\"\n",
    "    data = fred.get_series(series_id)\n",
    "    resampled = data.resample(freq).mean()\n",
    "    filtered = resampled[resampled.index >= start_date]\n",
    "    indexed = filtered / filtered.iloc[0]\n",
    "    indexed.index = indexed.index.year.astype(str)\n",
    "    reindexed = indexed * base_multiplier\n",
    "    return reindexed"
   ]
  },
  {
   "cell_type": "markdown",
   "id": "e0e28d71",
   "metadata": {},
   "source": [
    "# Plotting"
   ]
  },
  {
   "cell_type": "markdown",
   "id": "3cf31c0a",
   "metadata": {},
   "source": [
    "## Plotting Functions"
   ]
  },
  {
   "cell_type": "code",
   "execution_count": 44,
   "id": "8191e325",
   "metadata": {},
   "outputs": [],
   "source": [
    "def produce_funding_chart(ax, funding_source, input_df = me_as_reported_df, name=''):\n",
    "    \n",
    "    # Prepare dataframes\n",
    "\n",
    "    fund_df = input_df.xs(funding_source, level='Funding Source').fillna(0)\n",
    "    df = fund_df[fund_df.index != 'GRAND TOTALS - ALL DEPARTMENTS']\n",
    "    df = df.sort_values(by='2027', ascending=False) / 1e9\n",
    "\n",
    "    start_year = '2016'\n",
    "    total_funding_name = 'GRAND TOTALS - ALL DEPARTMENTS' if funding_source == 'DEPARTMENT TOTAL' else funding_source\n",
    "    grand_total_start = input_df.loc[('GRAND TOTALS - ALL DEPARTMENTS', total_funding_name), start_year] / 1e9\n",
    "    start_value = grand_total_start if grand_total_start > 0 else 8.2\n",
    "    cpi_yearly_reindexed = get_indexed_fred_series('CPIAUCSL', start_year, start_value)\n",
    "    maine_gdp_reindexed = get_indexed_fred_series('MENQGSP', start_year, start_value)\n",
    "    hh_income_reindexed = get_indexed_fred_series('MEHOINUSMEA646N', start_year, start_value)\n",
    "    population = get_indexed_fred_series('MEPOP', start_year, start_value)#1.332e6)\n",
    "\n",
    "    # Plotting\n",
    "    top_5 = df.iloc[:5].index\n",
    "    ax.stackplot(df.columns, df.values, labels=top_5)\n",
    "\n",
    "    ax.plot(cpi_yearly_reindexed.index, cpi_yearly_reindexed.values, color='black', linestyle='--', label='CPI (Re-Indexed)')\n",
    "    ax.plot(maine_gdp_reindexed.index, maine_gdp_reindexed.values, color='Blue', linestyle='--', label='Maine GDP (Re-Indexed)')\n",
    "    ax.plot(population.index, population.values, color='RED', linestyle='--', label='Maine Res. Population')\n",
    "\n",
    "    # Chart features\n",
    "    ax.grid(axis='y', alpha=0.5, linestyle='dotted')\n",
    "    ax.legend(loc='upper left', fontsize='8')\n",
    "\n",
    "    if(name != ''):\n",
    "        budget_name = name\n",
    "    elif(funding_source == \"DEPARTMENT TOTAL\"):\n",
    "        budget_name = 'State Budget'\n",
    "    else:\n",
    "        budget_name = funding_source\n",
    "\n",
    "    ax.set_title(f'Maine {budget_name} by Department (in Billions)')\n",
    "    ax.set_xlabel('Fiscal Year')\n",
    "    ax.set_ylabel('Budget (Billions of $)')\n",
    "\n",
    "    return df"
   ]
  },
  {
   "cell_type": "code",
   "execution_count": null,
   "id": "e2de1666",
   "metadata": {},
   "outputs": [],
   "source": [
    "def produce_department_chart(ax, department):\n",
    "    \n",
    "    department_df = me_as_reported_df.xs(department, level='Department').fillna(0)\n",
    "    df = department_df[department_df.index != 'DEPARTMENT TOTAL']\n",
    "    df = df.sort_values(by='2027', ascending=False) / 1e6\n",
    "\n",
    "    start_year = '2016'\n",
    "    total_funding_name = 'GRAND TOTALS - ALL DEPARTMENTS' if funding_source == 'DEPARTMENT TOTAL' else funding_source\n",
    "    grand_total_start = me_as_reported_df.loc[('GRAND TOTALS - ALL DEPARTMENTS', total_funding_name), start_year] / 1e9\n",
    "    start_value = grand_total_start if grand_total_start > 0 else 8.2\n",
    "    cpi_yearly_reindexed = get_indexed_fred_series('CPIAUCSL', start_year, start_value)\n",
    "    maine_gdp_reindexed = get_indexed_fred_series('MENQGSP', start_year, start_value)\n",
    "    hh_income_reindexed = get_indexed_fred_series('MEHOINUSMEA646N', start_year, start_value)\n",
    "    population = get_indexed_fred_series('MEPOP', start_year, start_value))\n",
    "\n",
    "    # Plotting\n",
    "    top_5 = df.iloc[:5].index\n",
    "    ax.stackplot(df.columns, df.values, labels=top_5)\n",
    "\n",
    "    ax.plot(cpi_yearly_reindexed.index, cpi_yearly_reindexed.values, color='black', linestyle='--', label='CPI (Re-Indexed)')\n",
    "    ax.plot(maine_gdp_reindexed.index, maine_gdp_reindexed.values, color='Blue', linestyle='--', label='Maine GDP (Re-Indexed)')\n",
    "    ax.plot(population.index, population.values, color='RED', linestyle='--', label='Maine Res. Population')\n",
    "\n",
    "    # Chart features\n",
    "    ax.grid(axis='y', alpha=0.5, linestyle='dotted')\n",
    "    ax.legend(loc='upper left', fontsize='8')\n",
    "\n",
    "    ax.set_title(f'{department} Spending by Funding Source (in Millions)')\n",
    "    ax.set_xlabel('Fiscal Year')\n",
    "    ax.set_ylabel('Budget (Millions of $)')\n",
    "\n",
    "    return df"
   ]
  },
  {
   "cell_type": "markdown",
   "id": "2b6d0bed",
   "metadata": {},
   "source": [
    "## Investigations"
   ]
  },
  {
   "cell_type": "code",
   "execution_count": 51,
   "id": "5271ab2d",
   "metadata": {},
   "outputs": [],
   "source": [
    "# funding_sources = ['DEPARTMENT TOTAL'] + me_as_reported_df.xs('GRAND TOTALS - ALL DEPARTMENTS', level='Department').index.unique().tolist()\n",
    "# number_of_sources = len(funding_sources)\n",
    "\n",
    "# fig, ax = plt.subplots(number_of_sources, 1, figsize=(10, 6 * number_of_sources))\n",
    "\n",
    "# for i, source in enumerate(funding_sources):\n",
    "#     produce_funding_chart(ax[i], source)   \n",
    "\n",
    "# fig.show()"
   ]
  },
  {
   "cell_type": "code",
   "execution_count": 52,
   "id": "9ec23efb",
   "metadata": {},
   "outputs": [
    {
     "ename": "NameError",
     "evalue": "name 'funding_source' is not defined",
     "output_type": "error",
     "traceback": [
      "\u001b[31m---------------------------------------------------------------------------\u001b[39m",
      "\u001b[31mNameError\u001b[39m                                 Traceback (most recent call last)",
      "\u001b[36mCell\u001b[39m\u001b[36m \u001b[39m\u001b[32mIn[52]\u001b[39m\u001b[32m, line 5\u001b[39m\n\u001b[32m      1\u001b[39m \u001b[38;5;66;03m# Chart Department by Funding Source\u001b[39;00m\n\u001b[32m      3\u001b[39m fig, ax = plt.subplots(figsize=(\u001b[32m10\u001b[39m,\u001b[32m6\u001b[39m))\n\u001b[32m----> \u001b[39m\u001b[32m5\u001b[39m produce_department_chart(ax, \u001b[33m'\u001b[39m\u001b[33mDEPARTMENT OF TRANSPORTATION\u001b[39m\u001b[33m'\u001b[39m)\n\u001b[32m      7\u001b[39m fig.show()\n",
      "\u001b[36mCell\u001b[39m\u001b[36m \u001b[39m\u001b[32mIn[45]\u001b[39m\u001b[32m, line 8\u001b[39m, in \u001b[36mproduce_department_chart\u001b[39m\u001b[34m(ax, department)\u001b[39m\n\u001b[32m      5\u001b[39m df = df.sort_values(by=\u001b[33m'\u001b[39m\u001b[33m2027\u001b[39m\u001b[33m'\u001b[39m, ascending=\u001b[38;5;28;01mFalse\u001b[39;00m) / \u001b[32m1e6\u001b[39m\n\u001b[32m      7\u001b[39m start_year = \u001b[33m'\u001b[39m\u001b[33m2016\u001b[39m\u001b[33m'\u001b[39m\n\u001b[32m----> \u001b[39m\u001b[32m8\u001b[39m total_funding_name = \u001b[33m'\u001b[39m\u001b[33mGRAND TOTALS - ALL DEPARTMENTS\u001b[39m\u001b[33m'\u001b[39m \u001b[38;5;28;01mif\u001b[39;00m funding_source == \u001b[33m'\u001b[39m\u001b[33mDEPARTMENT TOTAL\u001b[39m\u001b[33m'\u001b[39m \u001b[38;5;28;01melse\u001b[39;00m funding_source\n\u001b[32m      9\u001b[39m grand_total_start = me_as_reported_df.loc[(\u001b[33m'\u001b[39m\u001b[33mGRAND TOTALS - ALL DEPARTMENTS\u001b[39m\u001b[33m'\u001b[39m, total_funding_name), start_year] / \u001b[32m1e9\u001b[39m\n\u001b[32m     10\u001b[39m start_value = grand_total_start \u001b[38;5;28;01mif\u001b[39;00m grand_total_start > \u001b[32m0\u001b[39m \u001b[38;5;28;01melse\u001b[39;00m \u001b[32m8.2\u001b[39m\n",
      "\u001b[31mNameError\u001b[39m: name 'funding_source' is not defined"
     ]
    },
    {
     "data": {
      "image/png": "[encoded data removed]",
      "text/plain": [
       "<Figure size 1000x600 with 1 Axes>"
      ]
     },
     "metadata": {},
     "output_type": "display_data"
    }
   ],
   "source": [
    "# Chart Department by Funding Source\n",
    "\n",
    "fig, ax = plt.subplots(figsize=(10,6))\n",
    "\n",
    "produce_department_chart(ax, 'DEPARTMENT OF TRANSPORTATION')\n",
    "\n",
    "fig.show()"
   ]
  },
  {
   "cell_type": "code",
   "execution_count": 53,
   "id": "de0bd552",
   "metadata": {},
   "outputs": [
    {
     "name": "stderr",
     "output_type": "stream",
     "text": [
      "/var/folders/jd/b78nww_n7txgdhyclm8vq1180000gn/T/ipykernel_22647/1064727396.py:11: UserWarning:\n",
      "\n",
      "FigureCanvasAgg is non-interactive, and thus cannot be shown\n",
      "\n"
     ]
    },
    {
     "data": {
      "image/png": "[encoded data removed]",
      "text/plain": [
       "<Figure size 1000x600 with 1 Axes>"
      ]
     },
     "metadata": {},
     "output_type": "display_data"
    }
   ],
   "source": [
    "# Chart Everything ex main departments\n",
    "\n",
    "fig, ax = plt.subplots(figsize=(10,6))\n",
    "\n",
    "ex_big_df = me_as_reported_df.reset_index()\n",
    "ex_big_df = ex_big_df[(ex_big_df['Department'] != 'DEPARTMENT OF HEALTH AND HUMAN SERVICES (Formerly DHS)') & (ex_big_df['Department'] != 'DEPARTMENT OF EDUCATION') & (ex_big_df['Department'] != 'DEPARTMENT OF TRANSPORTATION')]\n",
    "ex_big_df.set_index(['Department', 'Funding Source'], inplace=True)\n",
    "\n",
    "produce_funding_chart(ax, 'GENERAL FUND', ex_big_df, 'General Fund ex Health, Education and Transportation\\n')\n",
    "\n",
    "fig.show()"
   ]
  },
  {
   "cell_type": "code",
   "execution_count": 54,
   "id": "3144d05a",
   "metadata": {},
   "outputs": [
    {
     "data": {
      "text/html": [
       "<div>\n",
       "<style scoped>\n",
       "    .dataframe tbody tr th:only-of-type {\n",
       "        vertical-align: middle;\n",
       "    }\n",
       "\n",
       "    .dataframe tbody tr th {\n",
       "        vertical-align: top;\n",
       "    }\n",
       "\n",
       "    .dataframe thead th {\n",
       "        text-align: right;\n",
       "    }\n",
       "</style>\n",
       "<table border=\"1\" class=\"dataframe\">\n",
       "  <thead>\n",
       "    <tr style=\"text-align: right;\">\n",
       "      <th></th>\n",
       "      <th></th>\n",
       "      <th>2016</th>\n",
       "      <th>2017</th>\n",
       "      <th>2018</th>\n",
       "      <th>2019</th>\n",
       "      <th>2020</th>\n",
       "      <th>2021</th>\n",
       "      <th>2022</th>\n",
       "      <th>2023</th>\n",
       "      <th>2024</th>\n",
       "      <th>2025</th>\n",
       "      <th>2026</th>\n",
       "      <th>2027</th>\n",
       "    </tr>\n",
       "    <tr>\n",
       "      <th>Department</th>\n",
       "      <th>Funding Source</th>\n",
       "      <th></th>\n",
       "      <th></th>\n",
       "      <th></th>\n",
       "      <th></th>\n",
       "      <th></th>\n",
       "      <th></th>\n",
       "      <th></th>\n",
       "      <th></th>\n",
       "      <th></th>\n",
       "      <th></th>\n",
       "      <th></th>\n",
       "      <th></th>\n",
       "    </tr>\n",
       "  </thead>\n",
       "  <tbody>\n",
       "    <tr>\n",
       "      <th rowspan=\"5\" valign=\"top\">DEPARTMENT OF ADMINISTRATIVE AND FINANCIAL SERVICES</th>\n",
       "      <th>GENERAL FUND</th>\n",
       "      <td>137624268.0</td>\n",
       "      <td>149382890.0</td>\n",
       "      <td>165053864.0</td>\n",
       "      <td>192231187.0</td>\n",
       "      <td>201062755.0</td>\n",
       "      <td>215306110.0</td>\n",
       "      <td>146369590.0</td>\n",
       "      <td>152464868.0</td>\n",
       "      <td>303364875.0</td>\n",
       "      <td>290558426.0</td>\n",
       "      <td>268486256.0</td>\n",
       "      <td>279048261.0</td>\n",
       "    </tr>\n",
       "    <tr>\n",
       "      <th>HIGHWAY FUND</th>\n",
       "      <td>2390766.0</td>\n",
       "      <td>2378074.0</td>\n",
       "      <td>2532375.0</td>\n",
       "      <td>2548988.0</td>\n",
       "      <td>2552609.0</td>\n",
       "      <td>2517328.0</td>\n",
       "      <td>2555980.0</td>\n",
       "      <td>2576968.0</td>\n",
       "      <td>3018483.0</td>\n",
       "      <td>3321882.0</td>\n",
       "      <td>0.0</td>\n",
       "      <td>0.0</td>\n",
       "    </tr>\n",
       "    <tr>\n",
       "      <th>FEDERAL EXPENDITURES FUND</th>\n",
       "      <td>490810.0</td>\n",
       "      <td>494350.0</td>\n",
       "      <td>494350.0</td>\n",
       "      <td>494350.0</td>\n",
       "      <td>494350.0</td>\n",
       "      <td>494350.0</td>\n",
       "      <td>489350.0</td>\n",
       "      <td>489350.0</td>\n",
       "      <td>489350.0</td>\n",
       "      <td>489350.0</td>\n",
       "      <td>1009385.0</td>\n",
       "      <td>1009385.0</td>\n",
       "    </tr>\n",
       "    <tr>\n",
       "      <th>FUND FOR A HEALTHY MAINE</th>\n",
       "      <td>NaN</td>\n",
       "      <td>NaN</td>\n",
       "      <td>NaN</td>\n",
       "      <td>NaN</td>\n",
       "      <td>NaN</td>\n",
       "      <td>NaN</td>\n",
       "      <td>0.0</td>\n",
       "      <td>0.0</td>\n",
       "      <td>0.0</td>\n",
       "      <td>0.0</td>\n",
       "      <td>0.0</td>\n",
       "      <td>0.0</td>\n",
       "    </tr>\n",
       "    <tr>\n",
       "      <th>OTHER SPECIAL REVENUE</th>\n",
       "      <td>32052674.0</td>\n",
       "      <td>32776674.0</td>\n",
       "      <td>37098962.0</td>\n",
       "      <td>38818129.0</td>\n",
       "      <td>38691348.0</td>\n",
       "      <td>38703956.0</td>\n",
       "      <td>624139665.0</td>\n",
       "      <td>570830522.0</td>\n",
       "      <td>68888949.0</td>\n",
       "      <td>67507917.0</td>\n",
       "      <td>54512400.0</td>\n",
       "      <td>54514317.0</td>\n",
       "    </tr>\n",
       "  </tbody>\n",
       "</table>\n",
       "</div>"
      ],
      "text/plain": [
       "                                                                                     2016  \\\n",
       "Department                                         Funding Source                           \n",
       "DEPARTMENT OF ADMINISTRATIVE AND FINANCIAL SERV... GENERAL FUND               137624268.0   \n",
       "                                                   HIGHWAY FUND                 2390766.0   \n",
       "                                                   FEDERAL EXPENDITURES FUND     490810.0   \n",
       "                                                   FUND FOR A HEALTHY MAINE           NaN   \n",
       "                                                   OTHER SPECIAL REVENUE       32052674.0   \n",
       "\n",
       "                                                                                     2017  \\\n",
       "Department                                         Funding Source                           \n",
       "DEPARTMENT OF ADMINISTRATIVE AND FINANCIAL SERV... GENERAL FUND               149382890.0   \n",
       "                                                   HIGHWAY FUND                 2378074.0   \n",
       "                                                   FEDERAL EXPENDITURES FUND     494350.0   \n",
       "                                                   FUND FOR A HEALTHY MAINE           NaN   \n",
       "                                                   OTHER SPECIAL REVENUE       32776674.0   \n",
       "\n",
       "                                                                                     2018  \\\n",
       "Department                                         Funding Source                           \n",
       "DEPARTMENT OF ADMINISTRATIVE AND FINANCIAL SERV... GENERAL FUND               165053864.0   \n",
       "                                                   HIGHWAY FUND                 2532375.0   \n",
       "                                                   FEDERAL EXPENDITURES FUND     494350.0   \n",
       "                                                   FUND FOR A HEALTHY MAINE           NaN   \n",
       "                                                   OTHER SPECIAL REVENUE       37098962.0   \n",
       "\n",
       "                                                                                     2019  \\\n",
       "Department                                         Funding Source                           \n",
       "DEPARTMENT OF ADMINISTRATIVE AND FINANCIAL SERV... GENERAL FUND               192231187.0   \n",
       "                                                   HIGHWAY FUND                 2548988.0   \n",
       "                                                   FEDERAL EXPENDITURES FUND     494350.0   \n",
       "                                                   FUND FOR A HEALTHY MAINE           NaN   \n",
       "                                                   OTHER SPECIAL REVENUE       38818129.0   \n",
       "\n",
       "                                                                                     2020  \\\n",
       "Department                                         Funding Source                           \n",
       "DEPARTMENT OF ADMINISTRATIVE AND FINANCIAL SERV... GENERAL FUND               201062755.0   \n",
       "                                                   HIGHWAY FUND                 2552609.0   \n",
       "                                                   FEDERAL EXPENDITURES FUND     494350.0   \n",
       "                                                   FUND FOR A HEALTHY MAINE           NaN   \n",
       "                                                   OTHER SPECIAL REVENUE       38691348.0   \n",
       "\n",
       "                                                                                     2021  \\\n",
       "Department                                         Funding Source                           \n",
       "DEPARTMENT OF ADMINISTRATIVE AND FINANCIAL SERV... GENERAL FUND               215306110.0   \n",
       "                                                   HIGHWAY FUND                 2517328.0   \n",
       "                                                   FEDERAL EXPENDITURES FUND     494350.0   \n",
       "                                                   FUND FOR A HEALTHY MAINE           NaN   \n",
       "                                                   OTHER SPECIAL REVENUE       38703956.0   \n",
       "\n",
       "                                                                                     2022  \\\n",
       "Department                                         Funding Source                           \n",
       "DEPARTMENT OF ADMINISTRATIVE AND FINANCIAL SERV... GENERAL FUND               146369590.0   \n",
       "                                                   HIGHWAY FUND                 2555980.0   \n",
       "                                                   FEDERAL EXPENDITURES FUND     489350.0   \n",
       "                                                   FUND FOR A HEALTHY MAINE           0.0   \n",
       "                                                   OTHER SPECIAL REVENUE      624139665.0   \n",
       "\n",
       "                                                                                     2023  \\\n",
       "Department                                         Funding Source                           \n",
       "DEPARTMENT OF ADMINISTRATIVE AND FINANCIAL SERV... GENERAL FUND               152464868.0   \n",
       "                                                   HIGHWAY FUND                 2576968.0   \n",
       "                                                   FEDERAL EXPENDITURES FUND     489350.0   \n",
       "                                                   FUND FOR A HEALTHY MAINE           0.0   \n",
       "                                                   OTHER SPECIAL REVENUE      570830522.0   \n",
       "\n",
       "                                                                                     2024  \\\n",
       "Department                                         Funding Source                           \n",
       "DEPARTMENT OF ADMINISTRATIVE AND FINANCIAL SERV... GENERAL FUND               303364875.0   \n",
       "                                                   HIGHWAY FUND                 3018483.0   \n",
       "                                                   FEDERAL EXPENDITURES FUND     489350.0   \n",
       "                                                   FUND FOR A HEALTHY MAINE           0.0   \n",
       "                                                   OTHER SPECIAL REVENUE       68888949.0   \n",
       "\n",
       "                                                                                     2025  \\\n",
       "Department                                         Funding Source                           \n",
       "DEPARTMENT OF ADMINISTRATIVE AND FINANCIAL SERV... GENERAL FUND               290558426.0   \n",
       "                                                   HIGHWAY FUND                 3321882.0   \n",
       "                                                   FEDERAL EXPENDITURES FUND     489350.0   \n",
       "                                                   FUND FOR A HEALTHY MAINE           0.0   \n",
       "                                                   OTHER SPECIAL REVENUE       67507917.0   \n",
       "\n",
       "                                                                                     2026  \\\n",
       "Department                                         Funding Source                           \n",
       "DEPARTMENT OF ADMINISTRATIVE AND FINANCIAL SERV... GENERAL FUND               268486256.0   \n",
       "                                                   HIGHWAY FUND                       0.0   \n",
       "                                                   FEDERAL EXPENDITURES FUND    1009385.0   \n",
       "                                                   FUND FOR A HEALTHY MAINE           0.0   \n",
       "                                                   OTHER SPECIAL REVENUE       54512400.0   \n",
       "\n",
       "                                                                                     2027  \n",
       "Department                                         Funding Source                          \n",
       "DEPARTMENT OF ADMINISTRATIVE AND FINANCIAL SERV... GENERAL FUND               279048261.0  \n",
       "                                                   HIGHWAY FUND                       0.0  \n",
       "                                                   FEDERAL EXPENDITURES FUND    1009385.0  \n",
       "                                                   FUND FOR A HEALTHY MAINE           0.0  \n",
       "                                                   OTHER SPECIAL REVENUE       54514317.0  "
      ]
     },
     "execution_count": 54,
     "metadata": {},
     "output_type": "execute_result"
    }
   ],
   "source": [
    "ex_big_df.head()"
   ]
  },
  {
   "cell_type": "code",
   "execution_count": 55,
   "id": "4850217b",
   "metadata": {},
   "outputs": [],
   "source": [
    "ex_big_total_df = ex_big_df.xs('DEPARTMENT TOTAL', level='Funding Source')\n",
    "\n",
    "mean_small = ex_big_total_df.mean() / 1e6\n",
    "count_small = (ex_big_total_df > 0).sum()\n"
   ]
  },
  {
   "cell_type": "code",
   "execution_count": 56,
   "id": "a6f902ac",
   "metadata": {},
   "outputs": [
    {
     "data": {
      "text/plain": [
       "<matplotlib.legend.Legend at 0x15fcf1d10>"
      ]
     },
     "execution_count": 56,
     "metadata": {},
     "output_type": "execute_result"
    },
    {
     "data": {
      "image/png": "[encoded data removed]",
      "text/plain": [
       "<Figure size 800x300 with 2 Axes>"
      ]
     },
     "metadata": {},
     "output_type": "display_data"
    }
   ],
   "source": [
    "fig, ax = plt.subplots(figsize=(8,3))\n",
    "\n",
    "ax2 = ax.twinx()\n",
    "\n",
    "ax.plot(mean_small, label='Mean Size ($mm)')\n",
    "ax2.plot(count_small, color='orange', label='Count (Right)')\n",
    "\n",
    "ax.set_title('Departments ex Health, Education, and Transportation')\n",
    "\n",
    "fig.legend(loc='right', fontsize=8)"
   ]
  },
  {
   "cell_type": "code",
   "execution_count": null,
   "id": "0d971512",
   "metadata": {},
   "outputs": [],
   "source": []
  }
 ],
 "metadata": {
  "kernelspec": {
   "display_name": "base",
   "language": "python",
   "name": "python3"
  },
  "language_info": {
   "codemirror_mode": {
    "name": "ipython",
    "version": 3
   },
   "file_extension": ".py",
   "mimetype": "text/x-python",
   "name": "python",
   "nbconvert_exporter": "python",
   "pygments_lexer": "ipython3",
   "version": "3.13.5"
  }
 },
 "nbformat": 4,
 "nbformat_minor": 5
}
