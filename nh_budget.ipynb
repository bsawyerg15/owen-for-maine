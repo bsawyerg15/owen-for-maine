{
 "cells": [
  {
   "cell_type": "code",
   "execution_count": null,
   "id": "a656ff67",
   "metadata": {},
   "outputs": [],
   "source": [
    "import pdfplumber\n",
    "import pandas as pd\n",
    "import matplotlib.pyplot as plt\n",
    "import re\n",
    "\n",
    "plt.style.use('default')"
   ]
  },
  {
   "cell_type": "code",
   "execution_count": null,
   "id": "819c1221",
   "metadata": {},
   "outputs": [],
   "source": [
    "nh_2017_df = pd.read_csv(\"Budgets/NH/2024 NH State Expenditure.csv\")"
   ]
  },
  {
   "cell_type": "code",
   "execution_count": null,
   "id": "8da51bd2",
   "metadata": {},
   "outputs": [],
   "source": [
    "nh_2017_df = nh_2017_df.dropna(axis=0, how='all').dropna(axis=1, how='all')"
   ]
  },
  {
   "cell_type": "code",
   "execution_count": null,
   "id": "7e908f34",
   "metadata": {},
   "outputs": [],
   "source": [
    "nh_2017_df.columns = [col.replace(\"\\n\", \"\").upper for col in nh_2017_df.columns]"
   ]
  },
  {
   "cell_type": "code",
   "execution_count": null,
   "id": "468c34c6",
   "metadata": {},
   "outputs": [],
   "source": [
    "import re\n",
    "\n",
    "def remove_before_fy(input_string):\n",
    "    # Find the first occurrence of \"FY\" followed by exactly two digits\n",
    "    match = re.search(r'FY\\d{2}', input_string)\n",
    "    if match:\n",
    "        # Return the string starting after the matched substring\n",
    "        return input_string[match.end():].strip()\n",
    "    else:\n",
    "        # If no match found, return empty string (or original string if preferred)\n",
    "        return input_string"
   ]
  },
  {
   "cell_type": "code",
   "execution_count": null,
   "id": "7b2197e6",
   "metadata": {},
   "outputs": [],
   "source": [
    "re.sub(\"FY\\d{2} \", \"\", \"JUNE FY18 ACTUAL\")"
   ]
  },
  {
   "cell_type": "code",
   "execution_count": null,
   "id": "df49e867",
   "metadata": {},
   "outputs": [],
   "source": [
    "nh_2017_df.describe()"
   ]
  },
  {
   "cell_type": "code",
   "execution_count": null,
   "id": "1fe7f00d",
   "metadata": {},
   "outputs": [],
   "source": [
    "nh_as_reported_df = pd.DataFrame()\n",
    "\n",
    "budget_years = range(2016, 2026)\n",
    "\n",
    "for year in budget_years:\n",
    "    df = pd.read_csv(f\"Budgets/NH/{year} NH State Expenditure.csv\")\n",
    "    df_cleaned = df.dropna(axis=0, how='all').dropna(axis=1, how='all')\n",
    "    df_cleaned.columns = [col.upper().replace(\"\\n\", \"\").replace(\"JUNE \", \"\").replace(r'FY\\d{2}', \"\") for col in df_cleaned.columns]\n",
    "    df_cleaned.columns = [re.sub(\"FY\\d{2} \", \"\", col).lstrip() for col in df_cleaned.columns]\n",
    "    df_appr = df_cleaned[['DEPARTMENT', 'APPROPRIATION']]\n",
    "    df_appr = df_appr.rename(columns={'APPROPRIATION': year})\n",
    "    df_appr[year] = df_appr[year].astype(str).str.replace(\",\", \"\").astype(float)\n",
    "    df_appr.set_index('DEPARTMENT', inplace=True)\n",
    "    nh_as_reported_df = pd.concat([nh_as_reported_df, df_appr], axis=1)\n",
    "\n",
    "# nh_as_reported_df.set_index(['year', 'DEPARTMENT'], inplace=True)"
   ]
  },
  {
   "cell_type": "code",
   "execution_count": null,
   "id": "bdee2677",
   "metadata": {},
   "outputs": [],
   "source": [
    "nh_as_reported_df.sort_values(by=2025, ascending=False).head(50)"
   ]
  },
  {
   "cell_type": "code",
   "execution_count": null,
   "id": "d6fa7224",
   "metadata": {},
   "outputs": [],
   "source": [
    " #Sort by 2025 descending\n",
    "sorted_df = nh_as_reported_df.sort_values(by=2025, ascending=False).fillna(0) / 1e9\n",
    "sorted_df = sorted_df.drop('STATE TOTALS')\n",
    "\n",
    "# Years\n",
    "years = list(range(2016, 2026))\n",
    "\n",
    "# Stackplot\n",
    "plt.figure(figsize=(12, 8))\n",
    "plt.stackplot(sorted_df.columns, sorted_df.values)\n",
    "plt.xlabel('Year')\n",
    "plt.ylabel('Appropriation')\n",
    "plt.title('NH State Budget Appropriations by Department (Top 10)')\n",
    "plt.legend(loc='upper left')\n",
    "plt.grid(alpha=0.3)\n",
    "plt.show()"
   ]
  },
  {
   "cell_type": "code",
   "execution_count": null,
   "id": "0489060c",
   "metadata": {},
   "outputs": [],
   "source": []
  }
 ],
 "metadata": {
  "kernelspec": {
   "display_name": "base",
   "language": "python",
   "name": "python3"
  },
  "language_info": {
   "codemirror_mode": {
    "name": "ipython",
    "version": 3
   },
   "file_extension": ".py",
   "mimetype": "text/x-python",
   "name": "python",
   "nbconvert_exporter": "python",
   "pygments_lexer": "ipython3",
   "version": "3.13.5"
  }
 },
 "nbformat": 4,
 "nbformat_minor": 5
}
