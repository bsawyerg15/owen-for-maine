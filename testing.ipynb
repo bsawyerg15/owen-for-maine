{
 "cells": [
  {
   "cell_type": "code",
   "execution_count": 37,
   "id": "9d8fdece",
   "metadata": {},
   "outputs": [
    {
     "name": "stdout",
     "output_type": "stream",
     "text": [
      "The autoreload extension is already loaded. To reload it, use:\n",
      "  %reload_ext autoreload\n"
     ]
    }
   ],
   "source": [
    "%load_ext autoreload\n",
    "%autoreload 2"
   ]
  },
  {
   "cell_type": "code",
   "execution_count": 38,
   "id": "e3330b7a",
   "metadata": {},
   "outputs": [],
   "source": [
    "import pdfplumber\n",
    "import pandas as pd\n",
    "import matplotlib.pyplot as plt\n",
    "import re\n",
    "import plotly.express as px\n",
    "import plotly.graph_objects as go\n",
    "import numpy as np\n",
    "\n",
    "plt.style.use('default')"
   ]
  },
  {
   "cell_type": "code",
   "execution_count": 39,
   "id": "35a6a7df",
   "metadata": {},
   "outputs": [],
   "source": [
    "# Import our modules\n",
    "from b_App.data_ingestion import  *\n",
    "from b_App.data_processing import *\n",
    "from b_App.visualizations import *\n",
    "from a_Configs.config import *\n",
    "\n",
    "budget_to_end_page = Config.ME_BUDGET_END_PAGES\n",
    "budget_years = Config.NH_BUDGET_YEARS"
   ]
  },
  {
   "cell_type": "code",
   "execution_count": 57,
   "id": "810fb401",
   "metadata": {},
   "outputs": [],
   "source": [
    "from fredapi import Fred\n",
    "fred = Fred(api_key=Config.FRED_API_KEY)\n"
   ]
  },
  {
   "cell_type": "code",
   "execution_count": 40,
   "id": "bcd6c10f",
   "metadata": {},
   "outputs": [],
   "source": [
    "me_as_reported_df = load_me_budget_as_reported(budget_to_end_page, Config.DATA_DIR_ME)\n",
    "me_processed_df = process_me_budget(me_as_reported_df)"
   ]
  },
  {
   "cell_type": "code",
   "execution_count": 48,
   "id": "498e969d",
   "metadata": {},
   "outputs": [
    {
     "data": {
      "application/vnd.plotly.v1+json": {
       "config": {
        "plotlyServerURL": "https://plot.ly"
       },
       "data": [
        {
         "line": {
          "color": "blue"
         },
         "mode": "lines",
         "name": "Spending",
         "type": "scatter",
         "x": [
          "2016",
          "2017",
          "2018",
          "2019",
          "2020",
          "2021",
          "2022",
          "2023",
          "2024",
          "2025",
          "2026",
          "2027"
         ],
         "y": {
          "bdata": "gZM47j5vIECAVVvVhZ0gQFmq+ZTdCiFAk9l5S9TNIUBoF9u9P4sjQD7Ufre13yRAac5keQMnKEB565T48GopQIdKUZ7hQipADqMq6u/3K0By/XkioRAtQPpbHkV/My1A",
          "dtype": "f8"
         }
        },
        {
         "line": {
          "color": "red"
         },
         "mode": "lines",
         "name": "o.w. State Funded",
         "type": "scatter",
         "x": [
          "2016",
          "2017",
          "2018",
          "2019",
          "2020",
          "2021",
          "2022",
          "2023",
          "2024",
          "2025",
          "2026",
          "2027"
         ],
         "y": {
          "bdata": "lEiJ+rD0FUDbUusjDj4WQBR7MHXM6xZAWD7f18cVGECgWsZLDDUaQJjObRMFUhtAg0W/Yn8jIEDHJXDmtWshQEVRR5ecriFAtqAY1fncIkCHe7gm1dQiQEOwd23Z9SJA",
          "dtype": "f8"
         }
        }
       ],
       "layout": {
        "template": {
         "data": {
          "bar": [
           {
            "error_x": {
             "color": "#2a3f5f"
            },
            "error_y": {
             "color": "#2a3f5f"
            },
            "marker": {
             "line": {
              "color": "#E5ECF6",
              "width": 0.5
             },
             "pattern": {
              "fillmode": "overlay",
              "size": 10,
              "solidity": 0.2
             }
            },
            "type": "bar"
           }
          ],
          "barpolar": [
           {
            "marker": {
             "line": {
              "color": "#E5ECF6",
              "width": 0.5
             },
             "pattern": {
              "fillmode": "overlay",
              "size": 10,
              "solidity": 0.2
             }
            },
            "type": "barpolar"
           }
          ],
          "carpet": [
           {
            "aaxis": {
             "endlinecolor": "#2a3f5f",
             "gridcolor": "white",
             "linecolor": "white",
             "minorgridcolor": "white",
             "startlinecolor": "#2a3f5f"
            },
            "baxis": {
             "endlinecolor": "#2a3f5f",
             "gridcolor": "white",
             "linecolor": "white",
             "minorgridcolor": "white",
             "startlinecolor": "#2a3f5f"
            },
            "type": "carpet"
           }
          ],
          "choropleth": [
           {
            "colorbar": {
             "outlinewidth": 0,
             "ticks": ""
            },
            "type": "choropleth"
           }
          ],
          "contour": [
           {
            "colorbar": {
             "outlinewidth": 0,
             "ticks": ""
            },
            "colorscale": [
             [
              0,
              "#0d0887"
             ],
             [
              0.1111111111111111,
              "#46039f"
             ],
             [
              0.2222222222222222,
              "#7201a8"
             ],
             [
              0.3333333333333333,
              "#9c179e"
             ],
             [
              0.4444444444444444,
              "#bd3786"
             ],
             [
              0.5555555555555556,
              "#d8576b"
             ],
             [
              0.6666666666666666,
              "#ed7953"
             ],
             [
              0.7777777777777778,
              "#fb9f3a"
             ],
             [
              0.8888888888888888,
              "#fdca26"
             ],
             [
              1,
              "#f0f921"
             ]
            ],
            "type": "contour"
           }
          ],
          "contourcarpet": [
           {
            "colorbar": {
             "outlinewidth": 0,
             "ticks": ""
            },
            "type": "contourcarpet"
           }
          ],
          "heatmap": [
           {
            "colorbar": {
             "outlinewidth": 0,
             "ticks": ""
            },
            "colorscale": [
             [
              0,
              "#0d0887"
             ],
             [
              0.1111111111111111,
              "#46039f"
             ],
             [
              0.2222222222222222,
              "#7201a8"
             ],
             [
              0.3333333333333333,
              "#9c179e"
             ],
             [
              0.4444444444444444,
              "#bd3786"
             ],
             [
              0.5555555555555556,
              "#d8576b"
             ],
             [
              0.6666666666666666,
              "#ed7953"
             ],
             [
              0.7777777777777778,
              "#fb9f3a"
             ],
             [
              0.8888888888888888,
              "#fdca26"
             ],
             [
              1,
              "#f0f921"
             ]
            ],
            "type": "heatmap"
           }
          ],
          "histogram": [
           {
            "marker": {
             "pattern": {
              "fillmode": "overlay",
              "size": 10,
              "solidity": 0.2
             }
            },
            "type": "histogram"
           }
          ],
          "histogram2d": [
           {
            "colorbar": {
             "outlinewidth": 0,
             "ticks": ""
            },
            "colorscale": [
             [
              0,
              "#0d0887"
             ],
             [
              0.1111111111111111,
              "#46039f"
             ],
             [
              0.2222222222222222,
              "#7201a8"
             ],
             [
              0.3333333333333333,
              "#9c179e"
             ],
             [
              0.4444444444444444,
              "#bd3786"
             ],
             [
              0.5555555555555556,
              "#d8576b"
             ],
             [
              0.6666666666666666,
              "#ed7953"
             ],
             [
              0.7777777777777778,
              "#fb9f3a"
             ],
             [
              0.8888888888888888,
              "#fdca26"
             ],
             [
              1,
              "#f0f921"
             ]
            ],
            "type": "histogram2d"
           }
          ],
          "histogram2dcontour": [
           {
            "colorbar": {
             "outlinewidth": 0,
             "ticks": ""
            },
            "colorscale": [
             [
              0,
              "#0d0887"
             ],
             [
              0.1111111111111111,
              "#46039f"
             ],
             [
              0.2222222222222222,
              "#7201a8"
             ],
             [
              0.3333333333333333,
              "#9c179e"
             ],
             [
              0.4444444444444444,
              "#bd3786"
             ],
             [
              0.5555555555555556,
              "#d8576b"
             ],
             [
              0.6666666666666666,
              "#ed7953"
             ],
             [
              0.7777777777777778,
              "#fb9f3a"
             ],
             [
              0.8888888888888888,
              "#fdca26"
             ],
             [
              1,
              "#f0f921"
             ]
            ],
            "type": "histogram2dcontour"
           }
          ],
          "mesh3d": [
           {
            "colorbar": {
             "outlinewidth": 0,
             "ticks": ""
            },
            "type": "mesh3d"
           }
          ],
          "parcoords": [
           {
            "line": {
             "colorbar": {
              "outlinewidth": 0,
              "ticks": ""
             }
            },
            "type": "parcoords"
           }
          ],
          "pie": [
           {
            "automargin": true,
            "type": "pie"
           }
          ],
          "scatter": [
           {
            "fillpattern": {
             "fillmode": "overlay",
             "size": 10,
             "solidity": 0.2
            },
            "type": "scatter"
           }
          ],
          "scatter3d": [
           {
            "line": {
             "colorbar": {
              "outlinewidth": 0,
              "ticks": ""
             }
            },
            "marker": {
             "colorbar": {
              "outlinewidth": 0,
              "ticks": ""
             }
            },
            "type": "scatter3d"
           }
          ],
          "scattercarpet": [
           {
            "marker": {
             "colorbar": {
              "outlinewidth": 0,
              "ticks": ""
             }
            },
            "type": "scattercarpet"
           }
          ],
          "scattergeo": [
           {
            "marker": {
             "colorbar": {
              "outlinewidth": 0,
              "ticks": ""
             }
            },
            "type": "scattergeo"
           }
          ],
          "scattergl": [
           {
            "marker": {
             "colorbar": {
              "outlinewidth": 0,
              "ticks": ""
             }
            },
            "type": "scattergl"
           }
          ],
          "scattermap": [
           {
            "marker": {
             "colorbar": {
              "outlinewidth": 0,
              "ticks": ""
             }
            },
            "type": "scattermap"
           }
          ],
          "scattermapbox": [
           {
            "marker": {
             "colorbar": {
              "outlinewidth": 0,
              "ticks": ""
             }
            },
            "type": "scattermapbox"
           }
          ],
          "scatterpolar": [
           {
            "marker": {
             "colorbar": {
              "outlinewidth": 0,
              "ticks": ""
             }
            },
            "type": "scatterpolar"
           }
          ],
          "scatterpolargl": [
           {
            "marker": {
             "colorbar": {
              "outlinewidth": 0,
              "ticks": ""
             }
            },
            "type": "scatterpolargl"
           }
          ],
          "scatterternary": [
           {
            "marker": {
             "colorbar": {
              "outlinewidth": 0,
              "ticks": ""
             }
            },
            "type": "scatterternary"
           }
          ],
          "surface": [
           {
            "colorbar": {
             "outlinewidth": 0,
             "ticks": ""
            },
            "colorscale": [
             [
              0,
              "#0d0887"
             ],
             [
              0.1111111111111111,
              "#46039f"
             ],
             [
              0.2222222222222222,
              "#7201a8"
             ],
             [
              0.3333333333333333,
              "#9c179e"
             ],
             [
              0.4444444444444444,
              "#bd3786"
             ],
             [
              0.5555555555555556,
              "#d8576b"
             ],
             [
              0.6666666666666666,
              "#ed7953"
             ],
             [
              0.7777777777777778,
              "#fb9f3a"
             ],
             [
              0.8888888888888888,
              "#fdca26"
             ],
             [
              1,
              "#f0f921"
             ]
            ],
            "type": "surface"
           }
          ],
          "table": [
           {
            "cells": {
             "fill": {
              "color": "#EBF0F8"
             },
             "line": {
              "color": "white"
             }
            },
            "header": {
             "fill": {
              "color": "#C8D4E3"
             },
             "line": {
              "color": "white"
             }
            },
            "type": "table"
           }
          ]
         },
         "layout": {
          "annotationdefaults": {
           "arrowcolor": "#2a3f5f",
           "arrowhead": 0,
           "arrowwidth": 1
          },
          "autotypenumbers": "strict",
          "coloraxis": {
           "colorbar": {
            "outlinewidth": 0,
            "ticks": ""
           }
          },
          "colorscale": {
           "diverging": [
            [
             0,
             "#8e0152"
            ],
            [
             0.1,
             "#c51b7d"
            ],
            [
             0.2,
             "#de77ae"
            ],
            [
             0.3,
             "#f1b6da"
            ],
            [
             0.4,
             "#fde0ef"
            ],
            [
             0.5,
             "#f7f7f7"
            ],
            [
             0.6,
             "#e6f5d0"
            ],
            [
             0.7,
             "#b8e186"
            ],
            [
             0.8,
             "#7fbc41"
            ],
            [
             0.9,
             "#4d9221"
            ],
            [
             1,
             "#276419"
            ]
           ],
           "sequential": [
            [
             0,
             "#0d0887"
            ],
            [
             0.1111111111111111,
             "#46039f"
            ],
            [
             0.2222222222222222,
             "#7201a8"
            ],
            [
             0.3333333333333333,
             "#9c179e"
            ],
            [
             0.4444444444444444,
             "#bd3786"
            ],
            [
             0.5555555555555556,
             "#d8576b"
            ],
            [
             0.6666666666666666,
             "#ed7953"
            ],
            [
             0.7777777777777778,
             "#fb9f3a"
            ],
            [
             0.8888888888888888,
             "#fdca26"
            ],
            [
             1,
             "#f0f921"
            ]
           ],
           "sequentialminus": [
            [
             0,
             "#0d0887"
            ],
            [
             0.1111111111111111,
             "#46039f"
            ],
            [
             0.2222222222222222,
             "#7201a8"
            ],
            [
             0.3333333333333333,
             "#9c179e"
            ],
            [
             0.4444444444444444,
             "#bd3786"
            ],
            [
             0.5555555555555556,
             "#d8576b"
            ],
            [
             0.6666666666666666,
             "#ed7953"
            ],
            [
             0.7777777777777778,
             "#fb9f3a"
            ],
            [
             0.8888888888888888,
             "#fdca26"
            ],
            [
             1,
             "#f0f921"
            ]
           ]
          },
          "colorway": [
           "#636efa",
           "#EF553B",
           "#00cc96",
           "#ab63fa",
           "#FFA15A",
           "#19d3f3",
           "#FF6692",
           "#B6E880",
           "#FF97FF",
           "#FECB52"
          ],
          "font": {
           "color": "#2a3f5f"
          },
          "geo": {
           "bgcolor": "white",
           "lakecolor": "white",
           "landcolor": "#E5ECF6",
           "showlakes": true,
           "showland": true,
           "subunitcolor": "white"
          },
          "hoverlabel": {
           "align": "left"
          },
          "hovermode": "closest",
          "mapbox": {
           "style": "light"
          },
          "paper_bgcolor": "white",
          "plot_bgcolor": "#E5ECF6",
          "polar": {
           "angularaxis": {
            "gridcolor": "white",
            "linecolor": "white",
            "ticks": ""
           },
           "bgcolor": "#E5ECF6",
           "radialaxis": {
            "gridcolor": "white",
            "linecolor": "white",
            "ticks": ""
           }
          },
          "scene": {
           "xaxis": {
            "backgroundcolor": "#E5ECF6",
            "gridcolor": "white",
            "gridwidth": 2,
            "linecolor": "white",
            "showbackground": true,
            "ticks": "",
            "zerolinecolor": "white"
           },
           "yaxis": {
            "backgroundcolor": "#E5ECF6",
            "gridcolor": "white",
            "gridwidth": 2,
            "linecolor": "white",
            "showbackground": true,
            "ticks": "",
            "zerolinecolor": "white"
           },
           "zaxis": {
            "backgroundcolor": "#E5ECF6",
            "gridcolor": "white",
            "gridwidth": 2,
            "linecolor": "white",
            "showbackground": true,
            "ticks": "",
            "zerolinecolor": "white"
           }
          },
          "shapedefaults": {
           "line": {
            "color": "#2a3f5f"
           }
          },
          "ternary": {
           "aaxis": {
            "gridcolor": "white",
            "linecolor": "white",
            "ticks": ""
           },
           "baxis": {
            "gridcolor": "white",
            "linecolor": "white",
            "ticks": ""
           },
           "bgcolor": "#E5ECF6",
           "caxis": {
            "gridcolor": "white",
            "linecolor": "white",
            "ticks": ""
           }
          },
          "title": {
           "x": 0.05
          },
          "xaxis": {
           "automargin": true,
           "gridcolor": "white",
           "linecolor": "white",
           "ticks": "",
           "title": {
            "standoff": 15
           },
           "zerolinecolor": "white",
           "zerolinewidth": 2
          },
          "yaxis": {
           "automargin": true,
           "gridcolor": "white",
           "linecolor": "white",
           "ticks": "",
           "title": {
            "standoff": 15
           },
           "zerolinecolor": "white",
           "zerolinewidth": 2
          }
         }
        },
        "title": {
         "text": "Maine State Budget and Spending"
        },
        "xaxis": {
         "tickangle": -45
        },
        "yaxis": {
         "rangemode": "tozero",
         "title": {
          "text": "$, Billions"
         }
        }
       }
      }
     },
     "metadata": {},
     "output_type": "display_data"
    }
   ],
   "source": [
    "plot_budget_and_spending(me_processed_df)"
   ]
  },
  {
   "cell_type": "code",
   "execution_count": 56,
   "id": "0b5b048f",
   "metadata": {},
   "outputs": [
    {
     "data": {
      "application/vnd.plotly.v1+json": {
       "config": {
        "plotlyServerURL": "https://plot.ly"
       },
       "data": [
        {
         "line": {
          "color": "blue"
         },
         "mode": "lines",
         "name": "Average Size",
         "type": "scatter",
         "x": [
          "2016",
          "2017",
          "2018",
          "2019",
          "2020",
          "2021",
          "2022",
          "2023",
          "2024",
          "2025",
          "2026",
          "2027"
         ],
         "y": {
          "bdata": "wKo+CD+IbECMO2mSlthsQJ+LK9PUbm5AsCO+8ncgcEAacNOt7bNxQN8Ryh5R6HJAcySCDq2tdEBNL97pAsN1QG8Tma5m4nVAlSrMJqOzdkCXv+H1Ckp3QAK2/0/7ZXdA",
          "dtype": "f8"
         }
        },
        {
         "line": {
          "color": "black"
         },
         "mode": "lines",
         "name": "Count",
         "type": "scatter",
         "x": [
          "2016",
          "2017",
          "2018",
          "2019",
          "2020",
          "2021",
          "2022",
          "2023",
          "2024",
          "2025",
          "2026",
          "2027"
         ],
         "y": {
          "bdata": "SEhGRUVFSUlLTU5O",
          "dtype": "i1"
         },
         "yaxis": "y2"
        }
       ],
       "layout": {
        "legend": {
         "x": 1.05,
         "y": 1
        },
        "template": {
         "data": {
          "bar": [
           {
            "error_x": {
             "color": "#2a3f5f"
            },
            "error_y": {
             "color": "#2a3f5f"
            },
            "marker": {
             "line": {
              "color": "#E5ECF6",
              "width": 0.5
             },
             "pattern": {
              "fillmode": "overlay",
              "size": 10,
              "solidity": 0.2
             }
            },
            "type": "bar"
           }
          ],
          "barpolar": [
           {
            "marker": {
             "line": {
              "color": "#E5ECF6",
              "width": 0.5
             },
             "pattern": {
              "fillmode": "overlay",
              "size": 10,
              "solidity": 0.2
             }
            },
            "type": "barpolar"
           }
          ],
          "carpet": [
           {
            "aaxis": {
             "endlinecolor": "#2a3f5f",
             "gridcolor": "white",
             "linecolor": "white",
             "minorgridcolor": "white",
             "startlinecolor": "#2a3f5f"
            },
            "baxis": {
             "endlinecolor": "#2a3f5f",
             "gridcolor": "white",
             "linecolor": "white",
             "minorgridcolor": "white",
             "startlinecolor": "#2a3f5f"
            },
            "type": "carpet"
           }
          ],
          "choropleth": [
           {
            "colorbar": {
             "outlinewidth": 0,
             "ticks": ""
            },
            "type": "choropleth"
           }
          ],
          "contour": [
           {
            "colorbar": {
             "outlinewidth": 0,
             "ticks": ""
            },
            "colorscale": [
             [
              0,
              "#0d0887"
             ],
             [
              0.1111111111111111,
              "#46039f"
             ],
             [
              0.2222222222222222,
              "#7201a8"
             ],
             [
              0.3333333333333333,
              "#9c179e"
             ],
             [
              0.4444444444444444,
              "#bd3786"
             ],
             [
              0.5555555555555556,
              "#d8576b"
             ],
             [
              0.6666666666666666,
              "#ed7953"
             ],
             [
              0.7777777777777778,
              "#fb9f3a"
             ],
             [
              0.8888888888888888,
              "#fdca26"
             ],
             [
              1,
              "#f0f921"
             ]
            ],
            "type": "contour"
           }
          ],
          "contourcarpet": [
           {
            "colorbar": {
             "outlinewidth": 0,
             "ticks": ""
            },
            "type": "contourcarpet"
           }
          ],
          "heatmap": [
           {
            "colorbar": {
             "outlinewidth": 0,
             "ticks": ""
            },
            "colorscale": [
             [
              0,
              "#0d0887"
             ],
             [
              0.1111111111111111,
              "#46039f"
             ],
             [
              0.2222222222222222,
              "#7201a8"
             ],
             [
              0.3333333333333333,
              "#9c179e"
             ],
             [
              0.4444444444444444,
              "#bd3786"
             ],
             [
              0.5555555555555556,
              "#d8576b"
             ],
             [
              0.6666666666666666,
              "#ed7953"
             ],
             [
              0.7777777777777778,
              "#fb9f3a"
             ],
             [
              0.8888888888888888,
              "#fdca26"
             ],
             [
              1,
              "#f0f921"
             ]
            ],
            "type": "heatmap"
           }
          ],
          "histogram": [
           {
            "marker": {
             "pattern": {
              "fillmode": "overlay",
              "size": 10,
              "solidity": 0.2
             }
            },
            "type": "histogram"
           }
          ],
          "histogram2d": [
           {
            "colorbar": {
             "outlinewidth": 0,
             "ticks": ""
            },
            "colorscale": [
             [
              0,
              "#0d0887"
             ],
             [
              0.1111111111111111,
              "#46039f"
             ],
             [
              0.2222222222222222,
              "#7201a8"
             ],
             [
              0.3333333333333333,
              "#9c179e"
             ],
             [
              0.4444444444444444,
              "#bd3786"
             ],
             [
              0.5555555555555556,
              "#d8576b"
             ],
             [
              0.6666666666666666,
              "#ed7953"
             ],
             [
              0.7777777777777778,
              "#fb9f3a"
             ],
             [
              0.8888888888888888,
              "#fdca26"
             ],
             [
              1,
              "#f0f921"
             ]
            ],
            "type": "histogram2d"
           }
          ],
          "histogram2dcontour": [
           {
            "colorbar": {
             "outlinewidth": 0,
             "ticks": ""
            },
            "colorscale": [
             [
              0,
              "#0d0887"
             ],
             [
              0.1111111111111111,
              "#46039f"
             ],
             [
              0.2222222222222222,
              "#7201a8"
             ],
             [
              0.3333333333333333,
              "#9c179e"
             ],
             [
              0.4444444444444444,
              "#bd3786"
             ],
             [
              0.5555555555555556,
              "#d8576b"
             ],
             [
              0.6666666666666666,
              "#ed7953"
             ],
             [
              0.7777777777777778,
              "#fb9f3a"
             ],
             [
              0.8888888888888888,
              "#fdca26"
             ],
             [
              1,
              "#f0f921"
             ]
            ],
            "type": "histogram2dcontour"
           }
          ],
          "mesh3d": [
           {
            "colorbar": {
             "outlinewidth": 0,
             "ticks": ""
            },
            "type": "mesh3d"
           }
          ],
          "parcoords": [
           {
            "line": {
             "colorbar": {
              "outlinewidth": 0,
              "ticks": ""
             }
            },
            "type": "parcoords"
           }
          ],
          "pie": [
           {
            "automargin": true,
            "type": "pie"
           }
          ],
          "scatter": [
           {
            "fillpattern": {
             "fillmode": "overlay",
             "size": 10,
             "solidity": 0.2
            },
            "type": "scatter"
           }
          ],
          "scatter3d": [
           {
            "line": {
             "colorbar": {
              "outlinewidth": 0,
              "ticks": ""
             }
            },
            "marker": {
             "colorbar": {
              "outlinewidth": 0,
              "ticks": ""
             }
            },
            "type": "scatter3d"
           }
          ],
          "scattercarpet": [
           {
            "marker": {
             "colorbar": {
              "outlinewidth": 0,
              "ticks": ""
             }
            },
            "type": "scattercarpet"
           }
          ],
          "scattergeo": [
           {
            "marker": {
             "colorbar": {
              "outlinewidth": 0,
              "ticks": ""
             }
            },
            "type": "scattergeo"
           }
          ],
          "scattergl": [
           {
            "marker": {
             "colorbar": {
              "outlinewidth": 0,
              "ticks": ""
             }
            },
            "type": "scattergl"
           }
          ],
          "scattermap": [
           {
            "marker": {
             "colorbar": {
              "outlinewidth": 0,
              "ticks": ""
             }
            },
            "type": "scattermap"
           }
          ],
          "scattermapbox": [
           {
            "marker": {
             "colorbar": {
              "outlinewidth": 0,
              "ticks": ""
             }
            },
            "type": "scattermapbox"
           }
          ],
          "scatterpolar": [
           {
            "marker": {
             "colorbar": {
              "outlinewidth": 0,
              "ticks": ""
             }
            },
            "type": "scatterpolar"
           }
          ],
          "scatterpolargl": [
           {
            "marker": {
             "colorbar": {
              "outlinewidth": 0,
              "ticks": ""
             }
            },
            "type": "scatterpolargl"
           }
          ],
          "scatterternary": [
           {
            "marker": {
             "colorbar": {
              "outlinewidth": 0,
              "ticks": ""
             }
            },
            "type": "scatterternary"
           }
          ],
          "surface": [
           {
            "colorbar": {
             "outlinewidth": 0,
             "ticks": ""
            },
            "colorscale": [
             [
              0,
              "#0d0887"
             ],
             [
              0.1111111111111111,
              "#46039f"
             ],
             [
              0.2222222222222222,
              "#7201a8"
             ],
             [
              0.3333333333333333,
              "#9c179e"
             ],
             [
              0.4444444444444444,
              "#bd3786"
             ],
             [
              0.5555555555555556,
              "#d8576b"
             ],
             [
              0.6666666666666666,
              "#ed7953"
             ],
             [
              0.7777777777777778,
              "#fb9f3a"
             ],
             [
              0.8888888888888888,
              "#fdca26"
             ],
             [
              1,
              "#f0f921"
             ]
            ],
            "type": "surface"
           }
          ],
          "table": [
           {
            "cells": {
             "fill": {
              "color": "#EBF0F8"
             },
             "line": {
              "color": "white"
             }
            },
            "header": {
             "fill": {
              "color": "#C8D4E3"
             },
             "line": {
              "color": "white"
             }
            },
            "type": "table"
           }
          ]
         },
         "layout": {
          "annotationdefaults": {
           "arrowcolor": "#2a3f5f",
           "arrowhead": 0,
           "arrowwidth": 1
          },
          "autotypenumbers": "strict",
          "coloraxis": {
           "colorbar": {
            "outlinewidth": 0,
            "ticks": ""
           }
          },
          "colorscale": {
           "diverging": [
            [
             0,
             "#8e0152"
            ],
            [
             0.1,
             "#c51b7d"
            ],
            [
             0.2,
             "#de77ae"
            ],
            [
             0.3,
             "#f1b6da"
            ],
            [
             0.4,
             "#fde0ef"
            ],
            [
             0.5,
             "#f7f7f7"
            ],
            [
             0.6,
             "#e6f5d0"
            ],
            [
             0.7,
             "#b8e186"
            ],
            [
             0.8,
             "#7fbc41"
            ],
            [
             0.9,
             "#4d9221"
            ],
            [
             1,
             "#276419"
            ]
           ],
           "sequential": [
            [
             0,
             "#0d0887"
            ],
            [
             0.1111111111111111,
             "#46039f"
            ],
            [
             0.2222222222222222,
             "#7201a8"
            ],
            [
             0.3333333333333333,
             "#9c179e"
            ],
            [
             0.4444444444444444,
             "#bd3786"
            ],
            [
             0.5555555555555556,
             "#d8576b"
            ],
            [
             0.6666666666666666,
             "#ed7953"
            ],
            [
             0.7777777777777778,
             "#fb9f3a"
            ],
            [
             0.8888888888888888,
             "#fdca26"
            ],
            [
             1,
             "#f0f921"
            ]
           ],
           "sequentialminus": [
            [
             0,
             "#0d0887"
            ],
            [
             0.1111111111111111,
             "#46039f"
            ],
            [
             0.2222222222222222,
             "#7201a8"
            ],
            [
             0.3333333333333333,
             "#9c179e"
            ],
            [
             0.4444444444444444,
             "#bd3786"
            ],
            [
             0.5555555555555556,
             "#d8576b"
            ],
            [
             0.6666666666666666,
             "#ed7953"
            ],
            [
             0.7777777777777778,
             "#fb9f3a"
            ],
            [
             0.8888888888888888,
             "#fdca26"
            ],
            [
             1,
             "#f0f921"
            ]
           ]
          },
          "colorway": [
           "#636efa",
           "#EF553B",
           "#00cc96",
           "#ab63fa",
           "#FFA15A",
           "#19d3f3",
           "#FF6692",
           "#B6E880",
           "#FF97FF",
           "#FECB52"
          ],
          "font": {
           "color": "#2a3f5f"
          },
          "geo": {
           "bgcolor": "white",
           "lakecolor": "white",
           "landcolor": "#E5ECF6",
           "showlakes": true,
           "showland": true,
           "subunitcolor": "white"
          },
          "hoverlabel": {
           "align": "left"
          },
          "hovermode": "closest",
          "mapbox": {
           "style": "light"
          },
          "paper_bgcolor": "white",
          "plot_bgcolor": "#E5ECF6",
          "polar": {
           "angularaxis": {
            "gridcolor": "white",
            "linecolor": "white",
            "ticks": ""
           },
           "bgcolor": "#E5ECF6",
           "radialaxis": {
            "gridcolor": "white",
            "linecolor": "white",
            "ticks": ""
           }
          },
          "scene": {
           "xaxis": {
            "backgroundcolor": "#E5ECF6",
            "gridcolor": "white",
            "gridwidth": 2,
            "linecolor": "white",
            "showbackground": true,
            "ticks": "",
            "zerolinecolor": "white"
           },
           "yaxis": {
            "backgroundcolor": "#E5ECF6",
            "gridcolor": "white",
            "gridwidth": 2,
            "linecolor": "white",
            "showbackground": true,
            "ticks": "",
            "zerolinecolor": "white"
           },
           "zaxis": {
            "backgroundcolor": "#E5ECF6",
            "gridcolor": "white",
            "gridwidth": 2,
            "linecolor": "white",
            "showbackground": true,
            "ticks": "",
            "zerolinecolor": "white"
           }
          },
          "shapedefaults": {
           "line": {
            "color": "#2a3f5f"
           }
          },
          "ternary": {
           "aaxis": {
            "gridcolor": "white",
            "linecolor": "white",
            "ticks": ""
           },
           "baxis": {
            "gridcolor": "white",
            "linecolor": "white",
            "ticks": ""
           },
           "bgcolor": "#E5ECF6",
           "caxis": {
            "gridcolor": "white",
            "linecolor": "white",
            "ticks": ""
           }
          },
          "title": {
           "x": 0.05
          },
          "xaxis": {
           "automargin": true,
           "gridcolor": "white",
           "linecolor": "white",
           "ticks": "",
           "title": {
            "standoff": 15
           },
           "zerolinecolor": "white",
           "zerolinewidth": 2
          },
          "yaxis": {
           "automargin": true,
           "gridcolor": "white",
           "linecolor": "white",
           "ticks": "",
           "title": {
            "standoff": 15
           },
           "zerolinecolor": "white",
           "zerolinewidth": 2
          }
         }
        },
        "title": {
         "text": "Departments ex Health, Education, and Transportation"
        },
        "xaxis": {
         "showgrid": false,
         "title": {
          "text": "Fiscal Year"
         }
        },
        "yaxis": {
         "showgrid": false,
         "title": {
          "text": "Mean Size ($ Millions)"
         }
        },
        "yaxis2": {
         "overlaying": "y",
         "showgrid": false,
         "side": "right",
         "title": {
          "text": "Count"
         }
        }
       }
      }
     },
     "metadata": {},
     "output_type": "display_data"
    }
   ],
   "source": [
    "plot_small_departments_summary(me_processed_df)"
   ]
  },
  {
   "cell_type": "code",
   "execution_count": 63,
   "id": "59af5fce",
   "metadata": {},
   "outputs": [
    {
     "data": {
      "text/html": [
       "<div>\n",
       "<style scoped>\n",
       "    .dataframe tbody tr th:only-of-type {\n",
       "        vertical-align: middle;\n",
       "    }\n",
       "\n",
       "    .dataframe tbody tr th {\n",
       "        vertical-align: top;\n",
       "    }\n",
       "\n",
       "    .dataframe thead th {\n",
       "        text-align: right;\n",
       "    }\n",
       "</style>\n",
       "<table border=\"1\" class=\"dataframe\">\n",
       "  <thead>\n",
       "    <tr style=\"text-align: right;\">\n",
       "      <th></th>\n",
       "      <th>2016</th>\n",
       "      <th>2017</th>\n",
       "      <th>2018</th>\n",
       "      <th>2019</th>\n",
       "      <th>2020</th>\n",
       "      <th>2021</th>\n",
       "      <th>2022</th>\n",
       "      <th>2023</th>\n",
       "      <th>2024</th>\n",
       "      <th>2025</th>\n",
       "      <th>2026</th>\n",
       "      <th>2027</th>\n",
       "    </tr>\n",
       "    <tr>\n",
       "      <th>Funding Source</th>\n",
       "      <th></th>\n",
       "      <th></th>\n",
       "      <th></th>\n",
       "      <th></th>\n",
       "      <th></th>\n",
       "      <th></th>\n",
       "      <th></th>\n",
       "      <th></th>\n",
       "      <th></th>\n",
       "      <th></th>\n",
       "      <th></th>\n",
       "      <th></th>\n",
       "    </tr>\n",
       "  </thead>\n",
       "  <tbody>\n",
       "    <tr>\n",
       "      <th>FEDERAL EXPENDITURES FUND</th>\n",
       "      <td>2035.128390</td>\n",
       "      <td>2055.555394</td>\n",
       "      <td>2100.812805</td>\n",
       "      <td>2185.980072</td>\n",
       "      <td>2522.590122</td>\n",
       "      <td>2881.727266</td>\n",
       "      <td>3145.135310</td>\n",
       "      <td>3166.651132</td>\n",
       "      <td>3292.178239</td>\n",
       "      <td>3534.905849</td>\n",
       "      <td>3889.891453</td>\n",
       "      <td>3892.473179</td>\n",
       "    </tr>\n",
       "    <tr>\n",
       "      <th>DEPARTMENT TOTAL ex FEDERAL</th>\n",
       "      <td>1451.653004</td>\n",
       "      <td>1453.023947</td>\n",
       "      <td>1905.656632</td>\n",
       "      <td>2008.750774</td>\n",
       "      <td>2168.721593</td>\n",
       "      <td>2118.311357</td>\n",
       "      <td>2180.994178</td>\n",
       "      <td>2741.931524</td>\n",
       "      <td>2830.232865</td>\n",
       "      <td>3235.501392</td>\n",
       "      <td>3280.656114</td>\n",
       "      <td>3259.694751</td>\n",
       "    </tr>\n",
       "    <tr>\n",
       "      <th>GENERAL FUND</th>\n",
       "      <td>811.629906</td>\n",
       "      <td>808.286377</td>\n",
       "      <td>1168.639329</td>\n",
       "      <td>1247.537678</td>\n",
       "      <td>1326.123830</td>\n",
       "      <td>1266.190306</td>\n",
       "      <td>1265.338723</td>\n",
       "      <td>1638.181049</td>\n",
       "      <td>1750.751872</td>\n",
       "      <td>2077.100494</td>\n",
       "      <td>2183.726756</td>\n",
       "      <td>2164.550439</td>\n",
       "    </tr>\n",
       "    <tr>\n",
       "      <th>OTHER SPECIAL REVENUE</th>\n",
       "      <td>434.444201</td>\n",
       "      <td>437.289382</td>\n",
       "      <td>501.857500</td>\n",
       "      <td>512.318201</td>\n",
       "      <td>562.391259</td>\n",
       "      <td>574.845298</td>\n",
       "      <td>612.690128</td>\n",
       "      <td>661.347893</td>\n",
       "      <td>648.525893</td>\n",
       "      <td>720.657798</td>\n",
       "      <td>713.753039</td>\n",
       "      <td>721.184967</td>\n",
       "    </tr>\n",
       "    <tr>\n",
       "      <th>FEDERAL BLOCK GRANT FUND</th>\n",
       "      <td>153.885304</td>\n",
       "      <td>155.606745</td>\n",
       "      <td>181.301230</td>\n",
       "      <td>194.441203</td>\n",
       "      <td>214.270753</td>\n",
       "      <td>213.240371</td>\n",
       "      <td>224.817577</td>\n",
       "      <td>278.471607</td>\n",
       "      <td>279.653386</td>\n",
       "      <td>283.306083</td>\n",
       "      <td>278.836497</td>\n",
       "      <td>279.501104</td>\n",
       "    </tr>\n",
       "    <tr>\n",
       "      <th>FUND FOR A HEALTHY MAINE</th>\n",
       "      <td>50.183464</td>\n",
       "      <td>50.331314</td>\n",
       "      <td>52.352805</td>\n",
       "      <td>52.947924</td>\n",
       "      <td>64.429983</td>\n",
       "      <td>62.529614</td>\n",
       "      <td>49.226873</td>\n",
       "      <td>62.698209</td>\n",
       "      <td>61.562582</td>\n",
       "      <td>63.032048</td>\n",
       "      <td>63.811338</td>\n",
       "      <td>62.788713</td>\n",
       "    </tr>\n",
       "    <tr>\n",
       "      <th>FEDERAL EXPENDITURES FUND ARP</th>\n",
       "      <td>0.000000</td>\n",
       "      <td>0.000000</td>\n",
       "      <td>0.000000</td>\n",
       "      <td>0.000000</td>\n",
       "      <td>0.000000</td>\n",
       "      <td>0.000000</td>\n",
       "      <td>0.000000</td>\n",
       "      <td>16.796206</td>\n",
       "      <td>23.532250</td>\n",
       "      <td>22.031838</td>\n",
       "      <td>17.220790</td>\n",
       "      <td>15.888726</td>\n",
       "    </tr>\n",
       "    <tr>\n",
       "      <th>FEDERAL EXPENDITURES FUND ARP SFR</th>\n",
       "      <td>0.000000</td>\n",
       "      <td>0.000000</td>\n",
       "      <td>0.000000</td>\n",
       "      <td>0.000000</td>\n",
       "      <td>0.000000</td>\n",
       "      <td>0.000000</td>\n",
       "      <td>27.415109</td>\n",
       "      <td>30.458835</td>\n",
       "      <td>12.513474</td>\n",
       "      <td>9.629802</td>\n",
       "      <td>9.629802</td>\n",
       "      <td>9.629802</td>\n",
       "    </tr>\n",
       "    <tr>\n",
       "      <th>MAINE RECOVERY FUND</th>\n",
       "      <td>0.000000</td>\n",
       "      <td>0.000000</td>\n",
       "      <td>0.000000</td>\n",
       "      <td>0.000000</td>\n",
       "      <td>0.000000</td>\n",
       "      <td>0.000000</td>\n",
       "      <td>0.000000</td>\n",
       "      <td>0.000000</td>\n",
       "      <td>0.000000</td>\n",
       "      <td>6.150000</td>\n",
       "      <td>6.150000</td>\n",
       "      <td>6.150000</td>\n",
       "    </tr>\n",
       "    <tr>\n",
       "      <th>FEDERAL BLOCK GRANT FUND ARP</th>\n",
       "      <td>0.000000</td>\n",
       "      <td>0.000000</td>\n",
       "      <td>0.000000</td>\n",
       "      <td>0.000000</td>\n",
       "      <td>0.000000</td>\n",
       "      <td>0.000000</td>\n",
       "      <td>0.000000</td>\n",
       "      <td>52.471957</td>\n",
       "      <td>52.187640</td>\n",
       "      <td>52.087561</td>\n",
       "      <td>7.527392</td>\n",
       "      <td>0.000500</td>\n",
       "    </tr>\n",
       "    <tr>\n",
       "      <th>FEDERAL EXPENDITURES FUND ARRA</th>\n",
       "      <td>1.510129</td>\n",
       "      <td>1.510129</td>\n",
       "      <td>1.505768</td>\n",
       "      <td>1.505768</td>\n",
       "      <td>1.505768</td>\n",
       "      <td>1.505768</td>\n",
       "      <td>1.505768</td>\n",
       "      <td>1.505768</td>\n",
       "      <td>1.505768</td>\n",
       "      <td>1.505768</td>\n",
       "      <td>0.000500</td>\n",
       "      <td>0.000500</td>\n",
       "    </tr>\n",
       "  </tbody>\n",
       "</table>\n",
       "</div>"
      ],
      "text/plain": [
       "                                          2016         2017         2018  \\\n",
       "Funding Source                                                             \n",
       "FEDERAL EXPENDITURES FUND          2035.128390  2055.555394  2100.812805   \n",
       "DEPARTMENT TOTAL ex FEDERAL        1451.653004  1453.023947  1905.656632   \n",
       "GENERAL FUND                        811.629906   808.286377  1168.639329   \n",
       "OTHER SPECIAL REVENUE               434.444201   437.289382   501.857500   \n",
       "FEDERAL BLOCK GRANT FUND            153.885304   155.606745   181.301230   \n",
       "FUND FOR A HEALTHY MAINE             50.183464    50.331314    52.352805   \n",
       "FEDERAL EXPENDITURES FUND ARP         0.000000     0.000000     0.000000   \n",
       "FEDERAL EXPENDITURES FUND ARP SFR     0.000000     0.000000     0.000000   \n",
       "MAINE RECOVERY FUND                   0.000000     0.000000     0.000000   \n",
       "FEDERAL BLOCK GRANT FUND ARP          0.000000     0.000000     0.000000   \n",
       "FEDERAL EXPENDITURES FUND ARRA        1.510129     1.510129     1.505768   \n",
       "\n",
       "                                          2019         2020         2021  \\\n",
       "Funding Source                                                             \n",
       "FEDERAL EXPENDITURES FUND          2185.980072  2522.590122  2881.727266   \n",
       "DEPARTMENT TOTAL ex FEDERAL        2008.750774  2168.721593  2118.311357   \n",
       "GENERAL FUND                       1247.537678  1326.123830  1266.190306   \n",
       "OTHER SPECIAL REVENUE               512.318201   562.391259   574.845298   \n",
       "FEDERAL BLOCK GRANT FUND            194.441203   214.270753   213.240371   \n",
       "FUND FOR A HEALTHY MAINE             52.947924    64.429983    62.529614   \n",
       "FEDERAL EXPENDITURES FUND ARP         0.000000     0.000000     0.000000   \n",
       "FEDERAL EXPENDITURES FUND ARP SFR     0.000000     0.000000     0.000000   \n",
       "MAINE RECOVERY FUND                   0.000000     0.000000     0.000000   \n",
       "FEDERAL BLOCK GRANT FUND ARP          0.000000     0.000000     0.000000   \n",
       "FEDERAL EXPENDITURES FUND ARRA        1.505768     1.505768     1.505768   \n",
       "\n",
       "                                          2022         2023         2024  \\\n",
       "Funding Source                                                             \n",
       "FEDERAL EXPENDITURES FUND          3145.135310  3166.651132  3292.178239   \n",
       "DEPARTMENT TOTAL ex FEDERAL        2180.994178  2741.931524  2830.232865   \n",
       "GENERAL FUND                       1265.338723  1638.181049  1750.751872   \n",
       "OTHER SPECIAL REVENUE               612.690128   661.347893   648.525893   \n",
       "FEDERAL BLOCK GRANT FUND            224.817577   278.471607   279.653386   \n",
       "FUND FOR A HEALTHY MAINE             49.226873    62.698209    61.562582   \n",
       "FEDERAL EXPENDITURES FUND ARP         0.000000    16.796206    23.532250   \n",
       "FEDERAL EXPENDITURES FUND ARP SFR    27.415109    30.458835    12.513474   \n",
       "MAINE RECOVERY FUND                   0.000000     0.000000     0.000000   \n",
       "FEDERAL BLOCK GRANT FUND ARP          0.000000    52.471957    52.187640   \n",
       "FEDERAL EXPENDITURES FUND ARRA        1.505768     1.505768     1.505768   \n",
       "\n",
       "                                          2025         2026         2027  \n",
       "Funding Source                                                            \n",
       "FEDERAL EXPENDITURES FUND          3534.905849  3889.891453  3892.473179  \n",
       "DEPARTMENT TOTAL ex FEDERAL        3235.501392  3280.656114  3259.694751  \n",
       "GENERAL FUND                       2077.100494  2183.726756  2164.550439  \n",
       "OTHER SPECIAL REVENUE               720.657798   713.753039   721.184967  \n",
       "FEDERAL BLOCK GRANT FUND            283.306083   278.836497   279.501104  \n",
       "FUND FOR A HEALTHY MAINE             63.032048    63.811338    62.788713  \n",
       "FEDERAL EXPENDITURES FUND ARP        22.031838    17.220790    15.888726  \n",
       "FEDERAL EXPENDITURES FUND ARP SFR     9.629802     9.629802     9.629802  \n",
       "MAINE RECOVERY FUND                   6.150000     6.150000     6.150000  \n",
       "FEDERAL BLOCK GRANT FUND ARP         52.087561     7.527392     0.000500  \n",
       "FEDERAL EXPENDITURES FUND ARRA        1.505768     0.000500     0.000500  "
      ]
     },
     "execution_count": 63,
     "metadata": {},
     "output_type": "execute_result"
    },
    {
     "data": {
      "image/png": "[encoded data removed]",
      "text/plain": [
       "<Figure size 1000x600 with 1 Axes>"
      ]
     },
     "metadata": {},
     "output_type": "display_data"
    }
   ],
   "source": [
    "fig, ax = plt.subplots(figsize=(10, 6))\n",
    "plot_department_breakdown(ax, 'DEPARTMENT OF HEALTH AND HUMAN SERVICES (Formerly DHS)', me_processed_df, fred)"
   ]
  },
  {
   "cell_type": "code",
   "execution_count": 62,
   "id": "3bd30719",
   "metadata": {},
   "outputs": [
    {
     "data": {
      "text/html": [
       "<div>\n",
       "<style scoped>\n",
       "    .dataframe tbody tr th:only-of-type {\n",
       "        vertical-align: middle;\n",
       "    }\n",
       "\n",
       "    .dataframe tbody tr th {\n",
       "        vertical-align: top;\n",
       "    }\n",
       "\n",
       "    .dataframe thead th {\n",
       "        text-align: right;\n",
       "    }\n",
       "</style>\n",
       "<table border=\"1\" class=\"dataframe\">\n",
       "  <thead>\n",
       "    <tr style=\"text-align: right;\">\n",
       "      <th></th>\n",
       "      <th></th>\n",
       "      <th>2016</th>\n",
       "      <th>2017</th>\n",
       "      <th>2018</th>\n",
       "      <th>2019</th>\n",
       "      <th>2020</th>\n",
       "      <th>2021</th>\n",
       "      <th>2022</th>\n",
       "      <th>2023</th>\n",
       "      <th>2024</th>\n",
       "      <th>2025</th>\n",
       "      <th>2026</th>\n",
       "      <th>2027</th>\n",
       "    </tr>\n",
       "    <tr>\n",
       "      <th>Department</th>\n",
       "      <th>Funding Source</th>\n",
       "      <th></th>\n",
       "      <th></th>\n",
       "      <th></th>\n",
       "      <th></th>\n",
       "      <th></th>\n",
       "      <th></th>\n",
       "      <th></th>\n",
       "      <th></th>\n",
       "      <th></th>\n",
       "      <th></th>\n",
       "      <th></th>\n",
       "      <th></th>\n",
       "    </tr>\n",
       "  </thead>\n",
       "  <tbody>\n",
       "    <tr>\n",
       "      <th rowspan=\"2\" valign=\"top\">TOTAL</th>\n",
       "      <th>DEPARTMENT TOTAL</th>\n",
       "      <td>8.217277e+09</td>\n",
       "      <td>8.307662e+09</td>\n",
       "      <td>8.521222e+09</td>\n",
       "      <td>8.902010e+09</td>\n",
       "      <td>9.771971e+09</td>\n",
       "      <td>1.043693e+10</td>\n",
       "      <td>1.207620e+10</td>\n",
       "      <td>1.270887e+10</td>\n",
       "      <td>1.313063e+10</td>\n",
       "      <td>1.398425e+10</td>\n",
       "      <td>1.453248e+10</td>\n",
       "      <td>1.460058e+10</td>\n",
       "    </tr>\n",
       "    <tr>\n",
       "      <th>DEPARTMENT TOTAL ex FEDERAL</th>\n",
       "      <td>5.488956e+09</td>\n",
       "      <td>5.560601e+09</td>\n",
       "      <td>5.730272e+09</td>\n",
       "      <td>6.021270e+09</td>\n",
       "      <td>6.551805e+09</td>\n",
       "      <td>6.830097e+09</td>\n",
       "      <td>8.069331e+09</td>\n",
       "      <td>8.710372e+09</td>\n",
       "      <td>8.841038e+09</td>\n",
       "      <td>9.431594e+09</td>\n",
       "      <td>9.415689e+09</td>\n",
       "      <td>9.480174e+09</td>\n",
       "    </tr>\n",
       "    <tr>\n",
       "      <th>DEPARTMENT OF HEALTH AND HUMAN SERVICES (Formerly DHS)</th>\n",
       "      <th>DEPARTMENT TOTAL</th>\n",
       "      <td>3.486781e+09</td>\n",
       "      <td>3.508579e+09</td>\n",
       "      <td>4.006469e+09</td>\n",
       "      <td>4.194731e+09</td>\n",
       "      <td>4.691312e+09</td>\n",
       "      <td>5.000039e+09</td>\n",
       "      <td>5.326129e+09</td>\n",
       "      <td>5.908583e+09</td>\n",
       "      <td>6.122411e+09</td>\n",
       "      <td>6.770407e+09</td>\n",
       "      <td>7.170548e+09</td>\n",
       "      <td>7.152168e+09</td>\n",
       "    </tr>\n",
       "    <tr>\n",
       "      <th rowspan=\"2\" valign=\"top\">TOTAL</th>\n",
       "      <th>GENERAL FUND</th>\n",
       "      <td>3.331299e+09</td>\n",
       "      <td>3.373180e+09</td>\n",
       "      <td>3.514674e+09</td>\n",
       "      <td>3.708230e+09</td>\n",
       "      <td>3.933882e+09</td>\n",
       "      <td>3.894518e+09</td>\n",
       "      <td>4.073527e+09</td>\n",
       "      <td>4.614634e+09</td>\n",
       "      <td>5.076394e+09</td>\n",
       "      <td>5.513093e+09</td>\n",
       "      <td>5.598854e+09</td>\n",
       "      <td>5.652024e+09</td>\n",
       "    </tr>\n",
       "    <tr>\n",
       "      <th>FEDERAL EXPENDITURES FUND</th>\n",
       "      <td>2.728321e+09</td>\n",
       "      <td>2.747061e+09</td>\n",
       "      <td>2.790950e+09</td>\n",
       "      <td>2.880740e+09</td>\n",
       "      <td>3.220166e+09</td>\n",
       "      <td>3.606836e+09</td>\n",
       "      <td>4.006867e+09</td>\n",
       "      <td>3.998498e+09</td>\n",
       "      <td>4.289589e+09</td>\n",
       "      <td>4.552659e+09</td>\n",
       "      <td>5.116791e+09</td>\n",
       "      <td>5.120406e+09</td>\n",
       "    </tr>\n",
       "    <tr>\n",
       "      <th rowspan=\"2\" valign=\"top\">DEPARTMENT OF HEALTH AND HUMAN SERVICES (Formerly DHS)</th>\n",
       "      <th>FEDERAL EXPENDITURES FUND</th>\n",
       "      <td>2.035128e+09</td>\n",
       "      <td>2.055555e+09</td>\n",
       "      <td>2.100813e+09</td>\n",
       "      <td>2.185980e+09</td>\n",
       "      <td>2.522590e+09</td>\n",
       "      <td>2.881727e+09</td>\n",
       "      <td>3.145135e+09</td>\n",
       "      <td>3.166651e+09</td>\n",
       "      <td>3.292178e+09</td>\n",
       "      <td>3.534906e+09</td>\n",
       "      <td>3.889891e+09</td>\n",
       "      <td>3.892473e+09</td>\n",
       "    </tr>\n",
       "    <tr>\n",
       "      <th>DEPARTMENT TOTAL ex FEDERAL</th>\n",
       "      <td>1.451653e+09</td>\n",
       "      <td>1.453024e+09</td>\n",
       "      <td>1.905657e+09</td>\n",
       "      <td>2.008751e+09</td>\n",
       "      <td>2.168722e+09</td>\n",
       "      <td>2.118311e+09</td>\n",
       "      <td>2.180994e+09</td>\n",
       "      <td>2.741932e+09</td>\n",
       "      <td>2.830233e+09</td>\n",
       "      <td>3.235501e+09</td>\n",
       "      <td>3.280656e+09</td>\n",
       "      <td>3.259695e+09</td>\n",
       "    </tr>\n",
       "    <tr>\n",
       "      <th>DEPARTMENT OF EDUCATION</th>\n",
       "      <th>DEPARTMENT TOTAL</th>\n",
       "      <td>1.432526e+09</td>\n",
       "      <td>1.445586e+09</td>\n",
       "      <td>1.529265e+09</td>\n",
       "      <td>1.619784e+09</td>\n",
       "      <td>1.718251e+09</td>\n",
       "      <td>1.792825e+09</td>\n",
       "      <td>1.919520e+09</td>\n",
       "      <td>2.009349e+09</td>\n",
       "      <td>2.142252e+09</td>\n",
       "      <td>2.203195e+09</td>\n",
       "      <td>2.266382e+09</td>\n",
       "      <td>2.306487e+09</td>\n",
       "    </tr>\n",
       "    <tr>\n",
       "      <th>TOTAL</th>\n",
       "      <th>OTHER SPECIAL REVENUE</th>\n",
       "      <td>1.049691e+09</td>\n",
       "      <td>1.077801e+09</td>\n",
       "      <td>1.049875e+09</td>\n",
       "      <td>1.128922e+09</td>\n",
       "      <td>1.229689e+09</td>\n",
       "      <td>1.323060e+09</td>\n",
       "      <td>2.096706e+09</td>\n",
       "      <td>2.312060e+09</td>\n",
       "      <td>2.021792e+09</td>\n",
       "      <td>2.241648e+09</td>\n",
       "      <td>1.951952e+09</td>\n",
       "      <td>1.978513e+09</td>\n",
       "    </tr>\n",
       "    <tr>\n",
       "      <th>DEPARTMENT OF EDUCATION</th>\n",
       "      <th>DEPARTMENT TOTAL ex FEDERAL</th>\n",
       "      <td>1.209585e+09</td>\n",
       "      <td>1.222551e+09</td>\n",
       "      <td>1.295591e+09</td>\n",
       "      <td>1.386053e+09</td>\n",
       "      <td>1.477249e+09</td>\n",
       "      <td>1.551804e+09</td>\n",
       "      <td>1.681506e+09</td>\n",
       "      <td>1.762917e+09</td>\n",
       "      <td>1.863742e+09</td>\n",
       "      <td>1.921351e+09</td>\n",
       "      <td>1.983753e+09</td>\n",
       "      <td>2.023644e+09</td>\n",
       "    </tr>\n",
       "  </tbody>\n",
       "</table>\n",
       "</div>"
      ],
      "text/plain": [
       "                                                                                        2016  \\\n",
       "Department                                         Funding Source                              \n",
       "TOTAL                                              DEPARTMENT TOTAL             8.217277e+09   \n",
       "                                                   DEPARTMENT TOTAL ex FEDERAL  5.488956e+09   \n",
       "DEPARTMENT OF HEALTH AND HUMAN SERVICES (Former... DEPARTMENT TOTAL             3.486781e+09   \n",
       "TOTAL                                              GENERAL FUND                 3.331299e+09   \n",
       "                                                   FEDERAL EXPENDITURES FUND    2.728321e+09   \n",
       "DEPARTMENT OF HEALTH AND HUMAN SERVICES (Former... FEDERAL EXPENDITURES FUND    2.035128e+09   \n",
       "                                                   DEPARTMENT TOTAL ex FEDERAL  1.451653e+09   \n",
       "DEPARTMENT OF EDUCATION                            DEPARTMENT TOTAL             1.432526e+09   \n",
       "TOTAL                                              OTHER SPECIAL REVENUE        1.049691e+09   \n",
       "DEPARTMENT OF EDUCATION                            DEPARTMENT TOTAL ex FEDERAL  1.209585e+09   \n",
       "\n",
       "                                                                                        2017  \\\n",
       "Department                                         Funding Source                              \n",
       "TOTAL                                              DEPARTMENT TOTAL             8.307662e+09   \n",
       "                                                   DEPARTMENT TOTAL ex FEDERAL  5.560601e+09   \n",
       "DEPARTMENT OF HEALTH AND HUMAN SERVICES (Former... DEPARTMENT TOTAL             3.508579e+09   \n",
       "TOTAL                                              GENERAL FUND                 3.373180e+09   \n",
       "                                                   FEDERAL EXPENDITURES FUND    2.747061e+09   \n",
       "DEPARTMENT OF HEALTH AND HUMAN SERVICES (Former... FEDERAL EXPENDITURES FUND    2.055555e+09   \n",
       "                                                   DEPARTMENT TOTAL ex FEDERAL  1.453024e+09   \n",
       "DEPARTMENT OF EDUCATION                            DEPARTMENT TOTAL             1.445586e+09   \n",
       "TOTAL                                              OTHER SPECIAL REVENUE        1.077801e+09   \n",
       "DEPARTMENT OF EDUCATION                            DEPARTMENT TOTAL ex FEDERAL  1.222551e+09   \n",
       "\n",
       "                                                                                        2018  \\\n",
       "Department                                         Funding Source                              \n",
       "TOTAL                                              DEPARTMENT TOTAL             8.521222e+09   \n",
       "                                                   DEPARTMENT TOTAL ex FEDERAL  5.730272e+09   \n",
       "DEPARTMENT OF HEALTH AND HUMAN SERVICES (Former... DEPARTMENT TOTAL             4.006469e+09   \n",
       "TOTAL                                              GENERAL FUND                 3.514674e+09   \n",
       "                                                   FEDERAL EXPENDITURES FUND    2.790950e+09   \n",
       "DEPARTMENT OF HEALTH AND HUMAN SERVICES (Former... FEDERAL EXPENDITURES FUND    2.100813e+09   \n",
       "                                                   DEPARTMENT TOTAL ex FEDERAL  1.905657e+09   \n",
       "DEPARTMENT OF EDUCATION                            DEPARTMENT TOTAL             1.529265e+09   \n",
       "TOTAL                                              OTHER SPECIAL REVENUE        1.049875e+09   \n",
       "DEPARTMENT OF EDUCATION                            DEPARTMENT TOTAL ex FEDERAL  1.295591e+09   \n",
       "\n",
       "                                                                                        2019  \\\n",
       "Department                                         Funding Source                              \n",
       "TOTAL                                              DEPARTMENT TOTAL             8.902010e+09   \n",
       "                                                   DEPARTMENT TOTAL ex FEDERAL  6.021270e+09   \n",
       "DEPARTMENT OF HEALTH AND HUMAN SERVICES (Former... DEPARTMENT TOTAL             4.194731e+09   \n",
       "TOTAL                                              GENERAL FUND                 3.708230e+09   \n",
       "                                                   FEDERAL EXPENDITURES FUND    2.880740e+09   \n",
       "DEPARTMENT OF HEALTH AND HUMAN SERVICES (Former... FEDERAL EXPENDITURES FUND    2.185980e+09   \n",
       "                                                   DEPARTMENT TOTAL ex FEDERAL  2.008751e+09   \n",
       "DEPARTMENT OF EDUCATION                            DEPARTMENT TOTAL             1.619784e+09   \n",
       "TOTAL                                              OTHER SPECIAL REVENUE        1.128922e+09   \n",
       "DEPARTMENT OF EDUCATION                            DEPARTMENT TOTAL ex FEDERAL  1.386053e+09   \n",
       "\n",
       "                                                                                        2020  \\\n",
       "Department                                         Funding Source                              \n",
       "TOTAL                                              DEPARTMENT TOTAL             9.771971e+09   \n",
       "                                                   DEPARTMENT TOTAL ex FEDERAL  6.551805e+09   \n",
       "DEPARTMENT OF HEALTH AND HUMAN SERVICES (Former... DEPARTMENT TOTAL             4.691312e+09   \n",
       "TOTAL                                              GENERAL FUND                 3.933882e+09   \n",
       "                                                   FEDERAL EXPENDITURES FUND    3.220166e+09   \n",
       "DEPARTMENT OF HEALTH AND HUMAN SERVICES (Former... FEDERAL EXPENDITURES FUND    2.522590e+09   \n",
       "                                                   DEPARTMENT TOTAL ex FEDERAL  2.168722e+09   \n",
       "DEPARTMENT OF EDUCATION                            DEPARTMENT TOTAL             1.718251e+09   \n",
       "TOTAL                                              OTHER SPECIAL REVENUE        1.229689e+09   \n",
       "DEPARTMENT OF EDUCATION                            DEPARTMENT TOTAL ex FEDERAL  1.477249e+09   \n",
       "\n",
       "                                                                                        2021  \\\n",
       "Department                                         Funding Source                              \n",
       "TOTAL                                              DEPARTMENT TOTAL             1.043693e+10   \n",
       "                                                   DEPARTMENT TOTAL ex FEDERAL  6.830097e+09   \n",
       "DEPARTMENT OF HEALTH AND HUMAN SERVICES (Former... DEPARTMENT TOTAL             5.000039e+09   \n",
       "TOTAL                                              GENERAL FUND                 3.894518e+09   \n",
       "                                                   FEDERAL EXPENDITURES FUND    3.606836e+09   \n",
       "DEPARTMENT OF HEALTH AND HUMAN SERVICES (Former... FEDERAL EXPENDITURES FUND    2.881727e+09   \n",
       "                                                   DEPARTMENT TOTAL ex FEDERAL  2.118311e+09   \n",
       "DEPARTMENT OF EDUCATION                            DEPARTMENT TOTAL             1.792825e+09   \n",
       "TOTAL                                              OTHER SPECIAL REVENUE        1.323060e+09   \n",
       "DEPARTMENT OF EDUCATION                            DEPARTMENT TOTAL ex FEDERAL  1.551804e+09   \n",
       "\n",
       "                                                                                        2022  \\\n",
       "Department                                         Funding Source                              \n",
       "TOTAL                                              DEPARTMENT TOTAL             1.207620e+10   \n",
       "                                                   DEPARTMENT TOTAL ex FEDERAL  8.069331e+09   \n",
       "DEPARTMENT OF HEALTH AND HUMAN SERVICES (Former... DEPARTMENT TOTAL             5.326129e+09   \n",
       "TOTAL                                              GENERAL FUND                 4.073527e+09   \n",
       "                                                   FEDERAL EXPENDITURES FUND    4.006867e+09   \n",
       "DEPARTMENT OF HEALTH AND HUMAN SERVICES (Former... FEDERAL EXPENDITURES FUND    3.145135e+09   \n",
       "                                                   DEPARTMENT TOTAL ex FEDERAL  2.180994e+09   \n",
       "DEPARTMENT OF EDUCATION                            DEPARTMENT TOTAL             1.919520e+09   \n",
       "TOTAL                                              OTHER SPECIAL REVENUE        2.096706e+09   \n",
       "DEPARTMENT OF EDUCATION                            DEPARTMENT TOTAL ex FEDERAL  1.681506e+09   \n",
       "\n",
       "                                                                                        2023  \\\n",
       "Department                                         Funding Source                              \n",
       "TOTAL                                              DEPARTMENT TOTAL             1.270887e+10   \n",
       "                                                   DEPARTMENT TOTAL ex FEDERAL  8.710372e+09   \n",
       "DEPARTMENT OF HEALTH AND HUMAN SERVICES (Former... DEPARTMENT TOTAL             5.908583e+09   \n",
       "TOTAL                                              GENERAL FUND                 4.614634e+09   \n",
       "                                                   FEDERAL EXPENDITURES FUND    3.998498e+09   \n",
       "DEPARTMENT OF HEALTH AND HUMAN SERVICES (Former... FEDERAL EXPENDITURES FUND    3.166651e+09   \n",
       "                                                   DEPARTMENT TOTAL ex FEDERAL  2.741932e+09   \n",
       "DEPARTMENT OF EDUCATION                            DEPARTMENT TOTAL             2.009349e+09   \n",
       "TOTAL                                              OTHER SPECIAL REVENUE        2.312060e+09   \n",
       "DEPARTMENT OF EDUCATION                            DEPARTMENT TOTAL ex FEDERAL  1.762917e+09   \n",
       "\n",
       "                                                                                        2024  \\\n",
       "Department                                         Funding Source                              \n",
       "TOTAL                                              DEPARTMENT TOTAL             1.313063e+10   \n",
       "                                                   DEPARTMENT TOTAL ex FEDERAL  8.841038e+09   \n",
       "DEPARTMENT OF HEALTH AND HUMAN SERVICES (Former... DEPARTMENT TOTAL             6.122411e+09   \n",
       "TOTAL                                              GENERAL FUND                 5.076394e+09   \n",
       "                                                   FEDERAL EXPENDITURES FUND    4.289589e+09   \n",
       "DEPARTMENT OF HEALTH AND HUMAN SERVICES (Former... FEDERAL EXPENDITURES FUND    3.292178e+09   \n",
       "                                                   DEPARTMENT TOTAL ex FEDERAL  2.830233e+09   \n",
       "DEPARTMENT OF EDUCATION                            DEPARTMENT TOTAL             2.142252e+09   \n",
       "TOTAL                                              OTHER SPECIAL REVENUE        2.021792e+09   \n",
       "DEPARTMENT OF EDUCATION                            DEPARTMENT TOTAL ex FEDERAL  1.863742e+09   \n",
       "\n",
       "                                                                                        2025  \\\n",
       "Department                                         Funding Source                              \n",
       "TOTAL                                              DEPARTMENT TOTAL             1.398425e+10   \n",
       "                                                   DEPARTMENT TOTAL ex FEDERAL  9.431594e+09   \n",
       "DEPARTMENT OF HEALTH AND HUMAN SERVICES (Former... DEPARTMENT TOTAL             6.770407e+09   \n",
       "TOTAL                                              GENERAL FUND                 5.513093e+09   \n",
       "                                                   FEDERAL EXPENDITURES FUND    4.552659e+09   \n",
       "DEPARTMENT OF HEALTH AND HUMAN SERVICES (Former... FEDERAL EXPENDITURES FUND    3.534906e+09   \n",
       "                                                   DEPARTMENT TOTAL ex FEDERAL  3.235501e+09   \n",
       "DEPARTMENT OF EDUCATION                            DEPARTMENT TOTAL             2.203195e+09   \n",
       "TOTAL                                              OTHER SPECIAL REVENUE        2.241648e+09   \n",
       "DEPARTMENT OF EDUCATION                            DEPARTMENT TOTAL ex FEDERAL  1.921351e+09   \n",
       "\n",
       "                                                                                        2026  \\\n",
       "Department                                         Funding Source                              \n",
       "TOTAL                                              DEPARTMENT TOTAL             1.453248e+10   \n",
       "                                                   DEPARTMENT TOTAL ex FEDERAL  9.415689e+09   \n",
       "DEPARTMENT OF HEALTH AND HUMAN SERVICES (Former... DEPARTMENT TOTAL             7.170548e+09   \n",
       "TOTAL                                              GENERAL FUND                 5.598854e+09   \n",
       "                                                   FEDERAL EXPENDITURES FUND    5.116791e+09   \n",
       "DEPARTMENT OF HEALTH AND HUMAN SERVICES (Former... FEDERAL EXPENDITURES FUND    3.889891e+09   \n",
       "                                                   DEPARTMENT TOTAL ex FEDERAL  3.280656e+09   \n",
       "DEPARTMENT OF EDUCATION                            DEPARTMENT TOTAL             2.266382e+09   \n",
       "TOTAL                                              OTHER SPECIAL REVENUE        1.951952e+09   \n",
       "DEPARTMENT OF EDUCATION                            DEPARTMENT TOTAL ex FEDERAL  1.983753e+09   \n",
       "\n",
       "                                                                                        2027  \n",
       "Department                                         Funding Source                             \n",
       "TOTAL                                              DEPARTMENT TOTAL             1.460058e+10  \n",
       "                                                   DEPARTMENT TOTAL ex FEDERAL  9.480174e+09  \n",
       "DEPARTMENT OF HEALTH AND HUMAN SERVICES (Former... DEPARTMENT TOTAL             7.152168e+09  \n",
       "TOTAL                                              GENERAL FUND                 5.652024e+09  \n",
       "                                                   FEDERAL EXPENDITURES FUND    5.120406e+09  \n",
       "DEPARTMENT OF HEALTH AND HUMAN SERVICES (Former... FEDERAL EXPENDITURES FUND    3.892473e+09  \n",
       "                                                   DEPARTMENT TOTAL ex FEDERAL  3.259695e+09  \n",
       "DEPARTMENT OF EDUCATION                            DEPARTMENT TOTAL             2.306487e+09  \n",
       "TOTAL                                              OTHER SPECIAL REVENUE        1.978513e+09  \n",
       "DEPARTMENT OF EDUCATION                            DEPARTMENT TOTAL ex FEDERAL  2.023644e+09  "
      ]
     },
     "execution_count": 62,
     "metadata": {},
     "output_type": "execute_result"
    }
   ],
   "source": [
    "me_processed_df.sort_values(by='2024', ascending=False).head(10)"
   ]
  },
  {
   "cell_type": "code",
   "execution_count": null,
   "id": "49de0763",
   "metadata": {},
   "outputs": [],
   "source": []
  }
 ],
 "metadata": {
  "kernelspec": {
   "display_name": "base",
   "language": "python",
   "name": "python3"
  },
  "language_info": {
   "codemirror_mode": {
    "name": "ipython",
    "version": 3
   },
   "file_extension": ".py",
   "mimetype": "text/x-python",
   "name": "python",
   "nbconvert_exporter": "python",
   "pygments_lexer": "ipython3",
   "version": "3.13.5"
  }
 },
 "nbformat": 4,
 "nbformat_minor": 5
}
