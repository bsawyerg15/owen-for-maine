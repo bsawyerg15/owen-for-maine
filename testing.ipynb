{
 "cells": [
  {
   "cell_type": "code",
   "execution_count": 1,
   "id": "9d8fdece",
   "metadata": {},
   "outputs": [],
   "source": [
    "%load_ext autoreload\n",
    "%autoreload 2"
   ]
  },
  {
   "cell_type": "code",
   "execution_count": 2,
   "id": "e3330b7a",
   "metadata": {},
   "outputs": [],
   "source": [
    "import pdfplumber\n",
    "import pandas as pd\n",
    "import matplotlib.pyplot as plt\n",
    "import re\n",
    "import plotly.express as px\n",
    "import plotly.graph_objects as go\n",
    "import numpy as np\n",
    "\n",
    "plt.style.use('default')"
   ]
  },
  {
   "cell_type": "code",
   "execution_count": 3,
   "id": "35a6a7df",
   "metadata": {},
   "outputs": [],
   "source": [
    "# Import our modules\n",
    "from b_App.data_ingestion import  *\n",
    "from b_App.data_processing import *\n",
    "from b_App.visualizations import *\n",
    "from a_Configs.config import *\n",
    "\n",
    "budget_to_end_page = Config.ME_BUDGET_END_PAGES\n",
    "budget_years = Config.NH_BUDGET_YEARS"
   ]
  },
  {
   "cell_type": "code",
   "execution_count": 4,
   "id": "810fb401",
   "metadata": {},
   "outputs": [],
   "source": [
    "from fredapi import Fred\n",
    "fred = Fred(api_key=Config.FRED_API_KEY)\n"
   ]
  },
  {
   "cell_type": "code",
   "execution_count": 5,
   "id": "bcd6c10f",
   "metadata": {},
   "outputs": [],
   "source": [
    "me_as_reported_df = load_me_budget_as_reported(budget_to_end_page, Config.DATA_DIR_ME)\n",
    "me_processed_df = process_me_budget(me_as_reported_df)"
   ]
  },
  {
   "cell_type": "code",
   "execution_count": 6,
   "id": "498e969d",
   "metadata": {},
   "outputs": [
    {
     "data": {
      "application/vnd.plotly.v1+json": {
       "config": {
        "plotlyServerURL": "https://plot.ly"
       },
       "data": [
        {
         "line": {
          "color": "blue"
         },
         "mode": "lines",
         "name": "Spending",
         "type": "scatter",
         "x": [
          "2016",
          "2017",
          "2018",
          "2019",
          "2020",
          "2021",
          "2022",
          "2023",
          "2024",
          "2025",
          "2026",
          "2027"
         ],
         "y": {
          "bdata": "gZM47j5vIECAVVvVhZ0gQFmq+ZTdCiFAk9l5S9TNIUBoF9u9P4sjQD7Ufre13yRAac5keQMnKEB565T48GopQIdKUZ7hQipADqMq6u/3K0By/XkioRAtQPpbHkV/My1A",
          "dtype": "f8"
         }
        },
        {
         "line": {
          "color": "red"
         },
         "mode": "lines",
         "name": "o.w. State Funded",
         "type": "scatter",
         "x": [
          "2016",
          "2017",
          "2018",
          "2019",
          "2020",
          "2021",
          "2022",
          "2023",
          "2024",
          "2025",
          "2026",
          "2027"
         ],
         "y": {
          "bdata": "lEiJ+rD0FUDbUusjDj4WQBR7MHXM6xZAWD7f18cVGECgWsZLDDUaQJjObRMFUhtAg0W/Yn8jIEDHJXDmtWshQEVRR5ecriFAtqAY1fncIkCHe7gm1dQiQEOwd23Z9SJA",
          "dtype": "f8"
         }
        }
       ],
       "layout": {
        "template": {
         "data": {
          "bar": [
           {
            "error_x": {
             "color": "#2a3f5f"
            },
            "error_y": {
             "color": "#2a3f5f"
            },
            "marker": {
             "line": {
              "color": "#E5ECF6",
              "width": 0.5
             },
             "pattern": {
              "fillmode": "overlay",
              "size": 10,
              "solidity": 0.2
             }
            },
            "type": "bar"
           }
          ],
          "barpolar": [
           {
            "marker": {
             "line": {
              "color": "#E5ECF6",
              "width": 0.5
             },
             "pattern": {
              "fillmode": "overlay",
              "size": 10,
              "solidity": 0.2
             }
            },
            "type": "barpolar"
           }
          ],
          "carpet": [
           {
            "aaxis": {
             "endlinecolor": "#2a3f5f",
             "gridcolor": "white",
             "linecolor": "white",
             "minorgridcolor": "white",
             "startlinecolor": "#2a3f5f"
            },
            "baxis": {
             "endlinecolor": "#2a3f5f",
             "gridcolor": "white",
             "linecolor": "white",
             "minorgridcolor": "white",
             "startlinecolor": "#2a3f5f"
            },
            "type": "carpet"
           }
          ],
          "choropleth": [
           {
            "colorbar": {
             "outlinewidth": 0,
             "ticks": ""
            },
            "type": "choropleth"
           }
          ],
          "contour": [
           {
            "colorbar": {
             "outlinewidth": 0,
             "ticks": ""
            },
            "colorscale": [
             [
              0,
              "#0d0887"
             ],
             [
              0.1111111111111111,
              "#46039f"
             ],
             [
              0.2222222222222222,
              "#7201a8"
             ],
             [
              0.3333333333333333,
              "#9c179e"
             ],
             [
              0.4444444444444444,
              "#bd3786"
             ],
             [
              0.5555555555555556,
              "#d8576b"
             ],
             [
              0.6666666666666666,
              "#ed7953"
             ],
             [
              0.7777777777777778,
              "#fb9f3a"
             ],
             [
              0.8888888888888888,
              "#fdca26"
             ],
             [
              1,
              "#f0f921"
             ]
            ],
            "type": "contour"
           }
          ],
          "contourcarpet": [
           {
            "colorbar": {
             "outlinewidth": 0,
             "ticks": ""
            },
            "type": "contourcarpet"
           }
          ],
          "heatmap": [
           {
            "colorbar": {
             "outlinewidth": 0,
             "ticks": ""
            },
            "colorscale": [
             [
              0,
              "#0d0887"
             ],
             [
              0.1111111111111111,
              "#46039f"
             ],
             [
              0.2222222222222222,
              "#7201a8"
             ],
             [
              0.3333333333333333,
              "#9c179e"
             ],
             [
              0.4444444444444444,
              "#bd3786"
             ],
             [
              0.5555555555555556,
              "#d8576b"
             ],
             [
              0.6666666666666666,
              "#ed7953"
             ],
             [
              0.7777777777777778,
              "#fb9f3a"
             ],
             [
              0.8888888888888888,
              "#fdca26"
             ],
             [
              1,
              "#f0f921"
             ]
            ],
            "type": "heatmap"
           }
          ],
          "histogram": [
           {
            "marker": {
             "pattern": {
              "fillmode": "overlay",
              "size": 10,
              "solidity": 0.2
             }
            },
            "type": "histogram"
           }
          ],
          "histogram2d": [
           {
            "colorbar": {
             "outlinewidth": 0,
             "ticks": ""
            },
            "colorscale": [
             [
              0,
              "#0d0887"
             ],
             [
              0.1111111111111111,
              "#46039f"
             ],
             [
              0.2222222222222222,
              "#7201a8"
             ],
             [
              0.3333333333333333,
              "#9c179e"
             ],
             [
              0.4444444444444444,
              "#bd3786"
             ],
             [
              0.5555555555555556,
              "#d8576b"
             ],
             [
              0.6666666666666666,
              "#ed7953"
             ],
             [
              0.7777777777777778,
              "#fb9f3a"
             ],
             [
              0.8888888888888888,
              "#fdca26"
             ],
             [
              1,
              "#f0f921"
             ]
            ],
            "type": "histogram2d"
           }
          ],
          "histogram2dcontour": [
           {
            "colorbar": {
             "outlinewidth": 0,
             "ticks": ""
            },
            "colorscale": [
             [
              0,
              "#0d0887"
             ],
             [
              0.1111111111111111,
              "#46039f"
             ],
             [
              0.2222222222222222,
              "#7201a8"
             ],
             [
              0.3333333333333333,
              "#9c179e"
             ],
             [
              0.4444444444444444,
              "#bd3786"
             ],
             [
              0.5555555555555556,
              "#d8576b"
             ],
             [
              0.6666666666666666,
              "#ed7953"
             ],
             [
              0.7777777777777778,
              "#fb9f3a"
             ],
             [
              0.8888888888888888,
              "#fdca26"
             ],
             [
              1,
              "#f0f921"
             ]
            ],
            "type": "histogram2dcontour"
           }
          ],
          "mesh3d": [
           {
            "colorbar": {
             "outlinewidth": 0,
             "ticks": ""
            },
            "type": "mesh3d"
           }
          ],
          "parcoords": [
           {
            "line": {
             "colorbar": {
              "outlinewidth": 0,
              "ticks": ""
             }
            },
            "type": "parcoords"
           }
          ],
          "pie": [
           {
            "automargin": true,
            "type": "pie"
           }
          ],
          "scatter": [
           {
            "fillpattern": {
             "fillmode": "overlay",
             "size": 10,
             "solidity": 0.2
            },
            "type": "scatter"
           }
          ],
          "scatter3d": [
           {
            "line": {
             "colorbar": {
              "outlinewidth": 0,
              "ticks": ""
             }
            },
            "marker": {
             "colorbar": {
              "outlinewidth": 0,
              "ticks": ""
             }
            },
            "type": "scatter3d"
           }
          ],
          "scattercarpet": [
           {
            "marker": {
             "colorbar": {
              "outlinewidth": 0,
              "ticks": ""
             }
            },
            "type": "scattercarpet"
           }
          ],
          "scattergeo": [
           {
            "marker": {
             "colorbar": {
              "outlinewidth": 0,
              "ticks": ""
             }
            },
            "type": "scattergeo"
           }
          ],
          "scattergl": [
           {
            "marker": {
             "colorbar": {
              "outlinewidth": 0,
              "ticks": ""
             }
            },
            "type": "scattergl"
           }
          ],
          "scattermap": [
           {
            "marker": {
             "colorbar": {
              "outlinewidth": 0,
              "ticks": ""
             }
            },
            "type": "scattermap"
           }
          ],
          "scattermapbox": [
           {
            "marker": {
             "colorbar": {
              "outlinewidth": 0,
              "ticks": ""
             }
            },
            "type": "scattermapbox"
           }
          ],
          "scatterpolar": [
           {
            "marker": {
             "colorbar": {
              "outlinewidth": 0,
              "ticks": ""
             }
            },
            "type": "scatterpolar"
           }
          ],
          "scatterpolargl": [
           {
            "marker": {
             "colorbar": {
              "outlinewidth": 0,
              "ticks": ""
             }
            },
            "type": "scatterpolargl"
           }
          ],
          "scatterternary": [
           {
            "marker": {
             "colorbar": {
              "outlinewidth": 0,
              "ticks": ""
             }
            },
            "type": "scatterternary"
           }
          ],
          "surface": [
           {
            "colorbar": {
             "outlinewidth": 0,
             "ticks": ""
            },
            "colorscale": [
             [
              0,
              "#0d0887"
             ],
             [
              0.1111111111111111,
              "#46039f"
             ],
             [
              0.2222222222222222,
              "#7201a8"
             ],
             [
              0.3333333333333333,
              "#9c179e"
             ],
             [
              0.4444444444444444,
              "#bd3786"
             ],
             [
              0.5555555555555556,
              "#d8576b"
             ],
             [
              0.6666666666666666,
              "#ed7953"
             ],
             [
              0.7777777777777778,
              "#fb9f3a"
             ],
             [
              0.8888888888888888,
              "#fdca26"
             ],
             [
              1,
              "#f0f921"
             ]
            ],
            "type": "surface"
           }
          ],
          "table": [
           {
            "cells": {
             "fill": {
              "color": "#EBF0F8"
             },
             "line": {
              "color": "white"
             }
            },
            "header": {
             "fill": {
              "color": "#C8D4E3"
             },
             "line": {
              "color": "white"
             }
            },
            "type": "table"
           }
          ]
         },
         "layout": {
          "annotationdefaults": {
           "arrowcolor": "#2a3f5f",
           "arrowhead": 0,
           "arrowwidth": 1
          },
          "autotypenumbers": "strict",
          "coloraxis": {
           "colorbar": {
            "outlinewidth": 0,
            "ticks": ""
           }
          },
          "colorscale": {
           "diverging": [
            [
             0,
             "#8e0152"
            ],
            [
             0.1,
             "#c51b7d"
            ],
            [
             0.2,
             "#de77ae"
            ],
            [
             0.3,
             "#f1b6da"
            ],
            [
             0.4,
             "#fde0ef"
            ],
            [
             0.5,
             "#f7f7f7"
            ],
            [
             0.6,
             "#e6f5d0"
            ],
            [
             0.7,
             "#b8e186"
            ],
            [
             0.8,
             "#7fbc41"
            ],
            [
             0.9,
             "#4d9221"
            ],
            [
             1,
             "#276419"
            ]
           ],
           "sequential": [
            [
             0,
             "#0d0887"
            ],
            [
             0.1111111111111111,
             "#46039f"
            ],
            [
             0.2222222222222222,
             "#7201a8"
            ],
            [
             0.3333333333333333,
             "#9c179e"
            ],
            [
             0.4444444444444444,
             "#bd3786"
            ],
            [
             0.5555555555555556,
             "#d8576b"
            ],
            [
             0.6666666666666666,
             "#ed7953"
            ],
            [
             0.7777777777777778,
             "#fb9f3a"
            ],
            [
             0.8888888888888888,
             "#fdca26"
            ],
            [
             1,
             "#f0f921"
            ]
           ],
           "sequentialminus": [
            [
             0,
             "#0d0887"
            ],
            [
             0.1111111111111111,
             "#46039f"
            ],
            [
             0.2222222222222222,
             "#7201a8"
            ],
            [
             0.3333333333333333,
             "#9c179e"
            ],
            [
             0.4444444444444444,
             "#bd3786"
            ],
            [
             0.5555555555555556,
             "#d8576b"
            ],
            [
             0.6666666666666666,
             "#ed7953"
            ],
            [
             0.7777777777777778,
             "#fb9f3a"
            ],
            [
             0.8888888888888888,
             "#fdca26"
            ],
            [
             1,
             "#f0f921"
            ]
           ]
          },
          "colorway": [
           "#636efa",
           "#EF553B",
           "#00cc96",
           "#ab63fa",
           "#FFA15A",
           "#19d3f3",
           "#FF6692",
           "#B6E880",
           "#FF97FF",
           "#FECB52"
          ],
          "font": {
           "color": "#2a3f5f"
          },
          "geo": {
           "bgcolor": "white",
           "lakecolor": "white",
           "landcolor": "#E5ECF6",
           "showlakes": true,
           "showland": true,
           "subunitcolor": "white"
          },
          "hoverlabel": {
           "align": "left"
          },
          "hovermode": "closest",
          "mapbox": {
           "style": "light"
          },
          "paper_bgcolor": "white",
          "plot_bgcolor": "#E5ECF6",
          "polar": {
           "angularaxis": {
            "gridcolor": "white",
            "linecolor": "white",
            "ticks": ""
           },
           "bgcolor": "#E5ECF6",
           "radialaxis": {
            "gridcolor": "white",
            "linecolor": "white",
            "ticks": ""
           }
          },
          "scene": {
           "xaxis": {
            "backgroundcolor": "#E5ECF6",
            "gridcolor": "white",
            "gridwidth": 2,
            "linecolor": "white",
            "showbackground": true,
            "ticks": "",
            "zerolinecolor": "white"
           },
           "yaxis": {
            "backgroundcolor": "#E5ECF6",
            "gridcolor": "white",
            "gridwidth": 2,
            "linecolor": "white",
            "showbackground": true,
            "ticks": "",
            "zerolinecolor": "white"
           },
           "zaxis": {
            "backgroundcolor": "#E5ECF6",
            "gridcolor": "white",
            "gridwidth": 2,
            "linecolor": "white",
            "showbackground": true,
            "ticks": "",
            "zerolinecolor": "white"
           }
          },
          "shapedefaults": {
           "line": {
            "color": "#2a3f5f"
           }
          },
          "ternary": {
           "aaxis": {
            "gridcolor": "white",
            "linecolor": "white",
            "ticks": ""
           },
           "baxis": {
            "gridcolor": "white",
            "linecolor": "white",
            "ticks": ""
           },
           "bgcolor": "#E5ECF6",
           "caxis": {
            "gridcolor": "white",
            "linecolor": "white",
            "ticks": ""
           }
          },
          "title": {
           "x": 0.05
          },
          "xaxis": {
           "automargin": true,
           "gridcolor": "white",
           "linecolor": "white",
           "ticks": "",
           "title": {
            "standoff": 15
           },
           "zerolinecolor": "white",
           "zerolinewidth": 2
          },
          "yaxis": {
           "automargin": true,
           "gridcolor": "white",
           "linecolor": "white",
           "ticks": "",
           "title": {
            "standoff": 15
           },
           "zerolinecolor": "white",
           "zerolinewidth": 2
          }
         }
        },
        "title": {
         "text": "Maine State Budget and Spending"
        },
        "xaxis": {
         "tickangle": -45
        },
        "yaxis": {
         "rangemode": "tozero",
         "title": {
          "text": "$, Billions"
         }
        }
       }
      }
     },
     "metadata": {},
     "output_type": "display_data"
    }
   ],
   "source": [
    "plot_budget_and_spending(me_processed_df)"
   ]
  },
  {
   "cell_type": "code",
   "execution_count": 7,
   "id": "0b5b048f",
   "metadata": {},
   "outputs": [
    {
     "data": {
      "application/vnd.plotly.v1+json": {
       "config": {
        "plotlyServerURL": "https://plot.ly"
       },
       "data": [
        {
         "line": {
          "color": "blue"
         },
         "mode": "lines",
         "name": "Average Size",
         "type": "scatter",
         "x": [
          "2016",
          "2017",
          "2018",
          "2019",
          "2020",
          "2021",
          "2022",
          "2023",
          "2024",
          "2025",
          "2026",
          "2027"
         ],
         "y": {
          "bdata": "iyhX9yjUY0BbeC9/8BRkQM+jDPVWa2RA+wGMIkmKZUDZv0K0zq9nQDeh8Y/qWGlAAVyZf4G5bEDoMf4vjLBtQBBDmMgCD21A7b2AhmzUbUDSqM4M329uQJPgfta3l25A",
          "dtype": "f8"
         }
        },
        {
         "line": {
          "color": "black"
         },
         "mode": "lines",
         "name": "Count",
         "type": "scatter",
         "x": [
          "2016",
          "2017",
          "2018",
          "2019",
          "2020",
          "2021",
          "2022",
          "2023",
          "2024",
          "2025",
          "2026",
          "2027"
         ],
         "y": {
          "bdata": "RUVDQkJCRkZISktL",
          "dtype": "i1"
         },
         "yaxis": "y2"
        }
       ],
       "layout": {
        "legend": {
         "x": 1.05,
         "y": 1
        },
        "template": {
         "data": {
          "bar": [
           {
            "error_x": {
             "color": "#2a3f5f"
            },
            "error_y": {
             "color": "#2a3f5f"
            },
            "marker": {
             "line": {
              "color": "#E5ECF6",
              "width": 0.5
             },
             "pattern": {
              "fillmode": "overlay",
              "size": 10,
              "solidity": 0.2
             }
            },
            "type": "bar"
           }
          ],
          "barpolar": [
           {
            "marker": {
             "line": {
              "color": "#E5ECF6",
              "width": 0.5
             },
             "pattern": {
              "fillmode": "overlay",
              "size": 10,
              "solidity": 0.2
             }
            },
            "type": "barpolar"
           }
          ],
          "carpet": [
           {
            "aaxis": {
             "endlinecolor": "#2a3f5f",
             "gridcolor": "white",
             "linecolor": "white",
             "minorgridcolor": "white",
             "startlinecolor": "#2a3f5f"
            },
            "baxis": {
             "endlinecolor": "#2a3f5f",
             "gridcolor": "white",
             "linecolor": "white",
             "minorgridcolor": "white",
             "startlinecolor": "#2a3f5f"
            },
            "type": "carpet"
           }
          ],
          "choropleth": [
           {
            "colorbar": {
             "outlinewidth": 0,
             "ticks": ""
            },
            "type": "choropleth"
           }
          ],
          "contour": [
           {
            "colorbar": {
             "outlinewidth": 0,
             "ticks": ""
            },
            "colorscale": [
             [
              0,
              "#0d0887"
             ],
             [
              0.1111111111111111,
              "#46039f"
             ],
             [
              0.2222222222222222,
              "#7201a8"
             ],
             [
              0.3333333333333333,
              "#9c179e"
             ],
             [
              0.4444444444444444,
              "#bd3786"
             ],
             [
              0.5555555555555556,
              "#d8576b"
             ],
             [
              0.6666666666666666,
              "#ed7953"
             ],
             [
              0.7777777777777778,
              "#fb9f3a"
             ],
             [
              0.8888888888888888,
              "#fdca26"
             ],
             [
              1,
              "#f0f921"
             ]
            ],
            "type": "contour"
           }
          ],
          "contourcarpet": [
           {
            "colorbar": {
             "outlinewidth": 0,
             "ticks": ""
            },
            "type": "contourcarpet"
           }
          ],
          "heatmap": [
           {
            "colorbar": {
             "outlinewidth": 0,
             "ticks": ""
            },
            "colorscale": [
             [
              0,
              "#0d0887"
             ],
             [
              0.1111111111111111,
              "#46039f"
             ],
             [
              0.2222222222222222,
              "#7201a8"
             ],
             [
              0.3333333333333333,
              "#9c179e"
             ],
             [
              0.4444444444444444,
              "#bd3786"
             ],
             [
              0.5555555555555556,
              "#d8576b"
             ],
             [
              0.6666666666666666,
              "#ed7953"
             ],
             [
              0.7777777777777778,
              "#fb9f3a"
             ],
             [
              0.8888888888888888,
              "#fdca26"
             ],
             [
              1,
              "#f0f921"
             ]
            ],
            "type": "heatmap"
           }
          ],
          "histogram": [
           {
            "marker": {
             "pattern": {
              "fillmode": "overlay",
              "size": 10,
              "solidity": 0.2
             }
            },
            "type": "histogram"
           }
          ],
          "histogram2d": [
           {
            "colorbar": {
             "outlinewidth": 0,
             "ticks": ""
            },
            "colorscale": [
             [
              0,
              "#0d0887"
             ],
             [
              0.1111111111111111,
              "#46039f"
             ],
             [
              0.2222222222222222,
              "#7201a8"
             ],
             [
              0.3333333333333333,
              "#9c179e"
             ],
             [
              0.4444444444444444,
              "#bd3786"
             ],
             [
              0.5555555555555556,
              "#d8576b"
             ],
             [
              0.6666666666666666,
              "#ed7953"
             ],
             [
              0.7777777777777778,
              "#fb9f3a"
             ],
             [
              0.8888888888888888,
              "#fdca26"
             ],
             [
              1,
              "#f0f921"
             ]
            ],
            "type": "histogram2d"
           }
          ],
          "histogram2dcontour": [
           {
            "colorbar": {
             "outlinewidth": 0,
             "ticks": ""
            },
            "colorscale": [
             [
              0,
              "#0d0887"
             ],
             [
              0.1111111111111111,
              "#46039f"
             ],
             [
              0.2222222222222222,
              "#7201a8"
             ],
             [
              0.3333333333333333,
              "#9c179e"
             ],
             [
              0.4444444444444444,
              "#bd3786"
             ],
             [
              0.5555555555555556,
              "#d8576b"
             ],
             [
              0.6666666666666666,
              "#ed7953"
             ],
             [
              0.7777777777777778,
              "#fb9f3a"
             ],
             [
              0.8888888888888888,
              "#fdca26"
             ],
             [
              1,
              "#f0f921"
             ]
            ],
            "type": "histogram2dcontour"
           }
          ],
          "mesh3d": [
           {
            "colorbar": {
             "outlinewidth": 0,
             "ticks": ""
            },
            "type": "mesh3d"
           }
          ],
          "parcoords": [
           {
            "line": {
             "colorbar": {
              "outlinewidth": 0,
              "ticks": ""
             }
            },
            "type": "parcoords"
           }
          ],
          "pie": [
           {
            "automargin": true,
            "type": "pie"
           }
          ],
          "scatter": [
           {
            "fillpattern": {
             "fillmode": "overlay",
             "size": 10,
             "solidity": 0.2
            },
            "type": "scatter"
           }
          ],
          "scatter3d": [
           {
            "line": {
             "colorbar": {
              "outlinewidth": 0,
              "ticks": ""
             }
            },
            "marker": {
             "colorbar": {
              "outlinewidth": 0,
              "ticks": ""
             }
            },
            "type": "scatter3d"
           }
          ],
          "scattercarpet": [
           {
            "marker": {
             "colorbar": {
              "outlinewidth": 0,
              "ticks": ""
             }
            },
            "type": "scattercarpet"
           }
          ],
          "scattergeo": [
           {
            "marker": {
             "colorbar": {
              "outlinewidth": 0,
              "ticks": ""
             }
            },
            "type": "scattergeo"
           }
          ],
          "scattergl": [
           {
            "marker": {
             "colorbar": {
              "outlinewidth": 0,
              "ticks": ""
             }
            },
            "type": "scattergl"
           }
          ],
          "scattermap": [
           {
            "marker": {
             "colorbar": {
              "outlinewidth": 0,
              "ticks": ""
             }
            },
            "type": "scattermap"
           }
          ],
          "scattermapbox": [
           {
            "marker": {
             "colorbar": {
              "outlinewidth": 0,
              "ticks": ""
             }
            },
            "type": "scattermapbox"
           }
          ],
          "scatterpolar": [
           {
            "marker": {
             "colorbar": {
              "outlinewidth": 0,
              "ticks": ""
             }
            },
            "type": "scatterpolar"
           }
          ],
          "scatterpolargl": [
           {
            "marker": {
             "colorbar": {
              "outlinewidth": 0,
              "ticks": ""
             }
            },
            "type": "scatterpolargl"
           }
          ],
          "scatterternary": [
           {
            "marker": {
             "colorbar": {
              "outlinewidth": 0,
              "ticks": ""
             }
            },
            "type": "scatterternary"
           }
          ],
          "surface": [
           {
            "colorbar": {
             "outlinewidth": 0,
             "ticks": ""
            },
            "colorscale": [
             [
              0,
              "#0d0887"
             ],
             [
              0.1111111111111111,
              "#46039f"
             ],
             [
              0.2222222222222222,
              "#7201a8"
             ],
             [
              0.3333333333333333,
              "#9c179e"
             ],
             [
              0.4444444444444444,
              "#bd3786"
             ],
             [
              0.5555555555555556,
              "#d8576b"
             ],
             [
              0.6666666666666666,
              "#ed7953"
             ],
             [
              0.7777777777777778,
              "#fb9f3a"
             ],
             [
              0.8888888888888888,
              "#fdca26"
             ],
             [
              1,
              "#f0f921"
             ]
            ],
            "type": "surface"
           }
          ],
          "table": [
           {
            "cells": {
             "fill": {
              "color": "#EBF0F8"
             },
             "line": {
              "color": "white"
             }
            },
            "header": {
             "fill": {
              "color": "#C8D4E3"
             },
             "line": {
              "color": "white"
             }
            },
            "type": "table"
           }
          ]
         },
         "layout": {
          "annotationdefaults": {
           "arrowcolor": "#2a3f5f",
           "arrowhead": 0,
           "arrowwidth": 1
          },
          "autotypenumbers": "strict",
          "coloraxis": {
           "colorbar": {
            "outlinewidth": 0,
            "ticks": ""
           }
          },
          "colorscale": {
           "diverging": [
            [
             0,
             "#8e0152"
            ],
            [
             0.1,
             "#c51b7d"
            ],
            [
             0.2,
             "#de77ae"
            ],
            [
             0.3,
             "#f1b6da"
            ],
            [
             0.4,
             "#fde0ef"
            ],
            [
             0.5,
             "#f7f7f7"
            ],
            [
             0.6,
             "#e6f5d0"
            ],
            [
             0.7,
             "#b8e186"
            ],
            [
             0.8,
             "#7fbc41"
            ],
            [
             0.9,
             "#4d9221"
            ],
            [
             1,
             "#276419"
            ]
           ],
           "sequential": [
            [
             0,
             "#0d0887"
            ],
            [
             0.1111111111111111,
             "#46039f"
            ],
            [
             0.2222222222222222,
             "#7201a8"
            ],
            [
             0.3333333333333333,
             "#9c179e"
            ],
            [
             0.4444444444444444,
             "#bd3786"
            ],
            [
             0.5555555555555556,
             "#d8576b"
            ],
            [
             0.6666666666666666,
             "#ed7953"
            ],
            [
             0.7777777777777778,
             "#fb9f3a"
            ],
            [
             0.8888888888888888,
             "#fdca26"
            ],
            [
             1,
             "#f0f921"
            ]
           ],
           "sequentialminus": [
            [
             0,
             "#0d0887"
            ],
            [
             0.1111111111111111,
             "#46039f"
            ],
            [
             0.2222222222222222,
             "#7201a8"
            ],
            [
             0.3333333333333333,
             "#9c179e"
            ],
            [
             0.4444444444444444,
             "#bd3786"
            ],
            [
             0.5555555555555556,
             "#d8576b"
            ],
            [
             0.6666666666666666,
             "#ed7953"
            ],
            [
             0.7777777777777778,
             "#fb9f3a"
            ],
            [
             0.8888888888888888,
             "#fdca26"
            ],
            [
             1,
             "#f0f921"
            ]
           ]
          },
          "colorway": [
           "#636efa",
           "#EF553B",
           "#00cc96",
           "#ab63fa",
           "#FFA15A",
           "#19d3f3",
           "#FF6692",
           "#B6E880",
           "#FF97FF",
           "#FECB52"
          ],
          "font": {
           "color": "#2a3f5f"
          },
          "geo": {
           "bgcolor": "white",
           "lakecolor": "white",
           "landcolor": "#E5ECF6",
           "showlakes": true,
           "showland": true,
           "subunitcolor": "white"
          },
          "hoverlabel": {
           "align": "left"
          },
          "hovermode": "closest",
          "mapbox": {
           "style": "light"
          },
          "paper_bgcolor": "white",
          "plot_bgcolor": "#E5ECF6",
          "polar": {
           "angularaxis": {
            "gridcolor": "white",
            "linecolor": "white",
            "ticks": ""
           },
           "bgcolor": "#E5ECF6",
           "radialaxis": {
            "gridcolor": "white",
            "linecolor": "white",
            "ticks": ""
           }
          },
          "scene": {
           "xaxis": {
            "backgroundcolor": "#E5ECF6",
            "gridcolor": "white",
            "gridwidth": 2,
            "linecolor": "white",
            "showbackground": true,
            "ticks": "",
            "zerolinecolor": "white"
           },
           "yaxis": {
            "backgroundcolor": "#E5ECF6",
            "gridcolor": "white",
            "gridwidth": 2,
            "linecolor": "white",
            "showbackground": true,
            "ticks": "",
            "zerolinecolor": "white"
           },
           "zaxis": {
            "backgroundcolor": "#E5ECF6",
            "gridcolor": "white",
            "gridwidth": 2,
            "linecolor": "white",
            "showbackground": true,
            "ticks": "",
            "zerolinecolor": "white"
           }
          },
          "shapedefaults": {
           "line": {
            "color": "#2a3f5f"
           }
          },
          "ternary": {
           "aaxis": {
            "gridcolor": "white",
            "linecolor": "white",
            "ticks": ""
           },
           "baxis": {
            "gridcolor": "white",
            "linecolor": "white",
            "ticks": ""
           },
           "bgcolor": "#E5ECF6",
           "caxis": {
            "gridcolor": "white",
            "linecolor": "white",
            "ticks": ""
           }
          },
          "title": {
           "x": 0.05
          },
          "xaxis": {
           "automargin": true,
           "gridcolor": "white",
           "linecolor": "white",
           "ticks": "",
           "title": {
            "standoff": 15
           },
           "zerolinecolor": "white",
           "zerolinewidth": 2
          },
          "yaxis": {
           "automargin": true,
           "gridcolor": "white",
           "linecolor": "white",
           "ticks": "",
           "title": {
            "standoff": 15
           },
           "zerolinecolor": "white",
           "zerolinewidth": 2
          }
         }
        },
        "title": {
         "text": "Summary of Departments ex Health, Education, and Transportation"
        },
        "xaxis": {
         "showgrid": false,
         "title": {
          "text": "Fiscal Year"
         }
        },
        "yaxis": {
         "title": {
          "text": "Mean Size ($ Millions)"
         }
        },
        "yaxis2": {
         "overlaying": "y",
         "showgrid": false,
         "side": "right",
         "title": {
          "text": "Count"
         }
        }
       }
      }
     },
     "metadata": {},
     "output_type": "display_data"
    }
   ],
   "source": [
    "plot_small_departments_summary(me_processed_df)"
   ]
  },
  {
   "cell_type": "code",
   "execution_count": 8,
   "id": "59af5fce",
   "metadata": {},
   "outputs": [
    {
     "data": {
      "text/html": [
       "<div>\n",
       "<style scoped>\n",
       "    .dataframe tbody tr th:only-of-type {\n",
       "        vertical-align: middle;\n",
       "    }\n",
       "\n",
       "    .dataframe tbody tr th {\n",
       "        vertical-align: top;\n",
       "    }\n",
       "\n",
       "    .dataframe thead th {\n",
       "        text-align: right;\n",
       "    }\n",
       "</style>\n",
       "<table border=\"1\" class=\"dataframe\">\n",
       "  <thead>\n",
       "    <tr style=\"text-align: right;\">\n",
       "      <th></th>\n",
       "      <th>2016</th>\n",
       "      <th>2017</th>\n",
       "      <th>2018</th>\n",
       "      <th>2019</th>\n",
       "      <th>2020</th>\n",
       "      <th>2021</th>\n",
       "      <th>2022</th>\n",
       "      <th>2023</th>\n",
       "      <th>2024</th>\n",
       "      <th>2025</th>\n",
       "      <th>2026</th>\n",
       "      <th>2027</th>\n",
       "    </tr>\n",
       "    <tr>\n",
       "      <th>Funding Source</th>\n",
       "      <th></th>\n",
       "      <th></th>\n",
       "      <th></th>\n",
       "      <th></th>\n",
       "      <th></th>\n",
       "      <th></th>\n",
       "      <th></th>\n",
       "      <th></th>\n",
       "      <th></th>\n",
       "      <th></th>\n",
       "      <th></th>\n",
       "      <th></th>\n",
       "    </tr>\n",
       "  </thead>\n",
       "  <tbody>\n",
       "    <tr>\n",
       "      <th>FEDERAL EXPENDITURES FUND</th>\n",
       "      <td>2035.128390</td>\n",
       "      <td>2055.555394</td>\n",
       "      <td>2100.812805</td>\n",
       "      <td>2185.980072</td>\n",
       "      <td>2522.590122</td>\n",
       "      <td>2881.727266</td>\n",
       "      <td>3145.135310</td>\n",
       "      <td>3166.651132</td>\n",
       "      <td>3292.178239</td>\n",
       "      <td>3534.905849</td>\n",
       "      <td>3889.891453</td>\n",
       "      <td>3892.473179</td>\n",
       "    </tr>\n",
       "    <tr>\n",
       "      <th>GENERAL FUND</th>\n",
       "      <td>811.629906</td>\n",
       "      <td>808.286377</td>\n",
       "      <td>1168.639329</td>\n",
       "      <td>1247.537678</td>\n",
       "      <td>1326.123830</td>\n",
       "      <td>1266.190306</td>\n",
       "      <td>1265.338723</td>\n",
       "      <td>1638.181049</td>\n",
       "      <td>1750.751872</td>\n",
       "      <td>2077.100494</td>\n",
       "      <td>2183.726756</td>\n",
       "      <td>2164.550439</td>\n",
       "    </tr>\n",
       "    <tr>\n",
       "      <th>OTHER SPECIAL REVENUE</th>\n",
       "      <td>434.444201</td>\n",
       "      <td>437.289382</td>\n",
       "      <td>501.857500</td>\n",
       "      <td>512.318201</td>\n",
       "      <td>562.391259</td>\n",
       "      <td>574.845298</td>\n",
       "      <td>612.690128</td>\n",
       "      <td>661.347893</td>\n",
       "      <td>648.525893</td>\n",
       "      <td>720.657798</td>\n",
       "      <td>713.753039</td>\n",
       "      <td>721.184967</td>\n",
       "    </tr>\n",
       "    <tr>\n",
       "      <th>FEDERAL BLOCK GRANT FUND</th>\n",
       "      <td>153.885304</td>\n",
       "      <td>155.606745</td>\n",
       "      <td>181.301230</td>\n",
       "      <td>194.441203</td>\n",
       "      <td>214.270753</td>\n",
       "      <td>213.240371</td>\n",
       "      <td>224.817577</td>\n",
       "      <td>278.471607</td>\n",
       "      <td>279.653386</td>\n",
       "      <td>283.306083</td>\n",
       "      <td>278.836497</td>\n",
       "      <td>279.501104</td>\n",
       "    </tr>\n",
       "    <tr>\n",
       "      <th>FUND FOR A HEALTHY MAINE</th>\n",
       "      <td>50.183464</td>\n",
       "      <td>50.331314</td>\n",
       "      <td>52.352805</td>\n",
       "      <td>52.947924</td>\n",
       "      <td>64.429983</td>\n",
       "      <td>62.529614</td>\n",
       "      <td>49.226873</td>\n",
       "      <td>62.698209</td>\n",
       "      <td>61.562582</td>\n",
       "      <td>63.032048</td>\n",
       "      <td>63.811338</td>\n",
       "      <td>62.788713</td>\n",
       "    </tr>\n",
       "    <tr>\n",
       "      <th>FEDERAL EXPENDITURES FUND ARP</th>\n",
       "      <td>0.000000</td>\n",
       "      <td>0.000000</td>\n",
       "      <td>0.000000</td>\n",
       "      <td>0.000000</td>\n",
       "      <td>0.000000</td>\n",
       "      <td>0.000000</td>\n",
       "      <td>0.000000</td>\n",
       "      <td>16.796206</td>\n",
       "      <td>23.532250</td>\n",
       "      <td>22.031838</td>\n",
       "      <td>17.220790</td>\n",
       "      <td>15.888726</td>\n",
       "    </tr>\n",
       "    <tr>\n",
       "      <th>FEDERAL EXPENDITURES FUND ARP SFR</th>\n",
       "      <td>0.000000</td>\n",
       "      <td>0.000000</td>\n",
       "      <td>0.000000</td>\n",
       "      <td>0.000000</td>\n",
       "      <td>0.000000</td>\n",
       "      <td>0.000000</td>\n",
       "      <td>27.415109</td>\n",
       "      <td>30.458835</td>\n",
       "      <td>12.513474</td>\n",
       "      <td>9.629802</td>\n",
       "      <td>9.629802</td>\n",
       "      <td>9.629802</td>\n",
       "    </tr>\n",
       "    <tr>\n",
       "      <th>MAINE RECOVERY FUND</th>\n",
       "      <td>0.000000</td>\n",
       "      <td>0.000000</td>\n",
       "      <td>0.000000</td>\n",
       "      <td>0.000000</td>\n",
       "      <td>0.000000</td>\n",
       "      <td>0.000000</td>\n",
       "      <td>0.000000</td>\n",
       "      <td>0.000000</td>\n",
       "      <td>0.000000</td>\n",
       "      <td>6.150000</td>\n",
       "      <td>6.150000</td>\n",
       "      <td>6.150000</td>\n",
       "    </tr>\n",
       "    <tr>\n",
       "      <th>FEDERAL BLOCK GRANT FUND ARP</th>\n",
       "      <td>0.000000</td>\n",
       "      <td>0.000000</td>\n",
       "      <td>0.000000</td>\n",
       "      <td>0.000000</td>\n",
       "      <td>0.000000</td>\n",
       "      <td>0.000000</td>\n",
       "      <td>0.000000</td>\n",
       "      <td>52.471957</td>\n",
       "      <td>52.187640</td>\n",
       "      <td>52.087561</td>\n",
       "      <td>7.527392</td>\n",
       "      <td>0.000500</td>\n",
       "    </tr>\n",
       "    <tr>\n",
       "      <th>FEDERAL EXPENDITURES FUND ARRA</th>\n",
       "      <td>1.510129</td>\n",
       "      <td>1.510129</td>\n",
       "      <td>1.505768</td>\n",
       "      <td>1.505768</td>\n",
       "      <td>1.505768</td>\n",
       "      <td>1.505768</td>\n",
       "      <td>1.505768</td>\n",
       "      <td>1.505768</td>\n",
       "      <td>1.505768</td>\n",
       "      <td>1.505768</td>\n",
       "      <td>0.000500</td>\n",
       "      <td>0.000500</td>\n",
       "    </tr>\n",
       "  </tbody>\n",
       "</table>\n",
       "</div>"
      ],
      "text/plain": [
       "                                          2016         2017         2018  \\\n",
       "Funding Source                                                             \n",
       "FEDERAL EXPENDITURES FUND          2035.128390  2055.555394  2100.812805   \n",
       "GENERAL FUND                        811.629906   808.286377  1168.639329   \n",
       "OTHER SPECIAL REVENUE               434.444201   437.289382   501.857500   \n",
       "FEDERAL BLOCK GRANT FUND            153.885304   155.606745   181.301230   \n",
       "FUND FOR A HEALTHY MAINE             50.183464    50.331314    52.352805   \n",
       "FEDERAL EXPENDITURES FUND ARP         0.000000     0.000000     0.000000   \n",
       "FEDERAL EXPENDITURES FUND ARP SFR     0.000000     0.000000     0.000000   \n",
       "MAINE RECOVERY FUND                   0.000000     0.000000     0.000000   \n",
       "FEDERAL BLOCK GRANT FUND ARP          0.000000     0.000000     0.000000   \n",
       "FEDERAL EXPENDITURES FUND ARRA        1.510129     1.510129     1.505768   \n",
       "\n",
       "                                          2019         2020         2021  \\\n",
       "Funding Source                                                             \n",
       "FEDERAL EXPENDITURES FUND          2185.980072  2522.590122  2881.727266   \n",
       "GENERAL FUND                       1247.537678  1326.123830  1266.190306   \n",
       "OTHER SPECIAL REVENUE               512.318201   562.391259   574.845298   \n",
       "FEDERAL BLOCK GRANT FUND            194.441203   214.270753   213.240371   \n",
       "FUND FOR A HEALTHY MAINE             52.947924    64.429983    62.529614   \n",
       "FEDERAL EXPENDITURES FUND ARP         0.000000     0.000000     0.000000   \n",
       "FEDERAL EXPENDITURES FUND ARP SFR     0.000000     0.000000     0.000000   \n",
       "MAINE RECOVERY FUND                   0.000000     0.000000     0.000000   \n",
       "FEDERAL BLOCK GRANT FUND ARP          0.000000     0.000000     0.000000   \n",
       "FEDERAL EXPENDITURES FUND ARRA        1.505768     1.505768     1.505768   \n",
       "\n",
       "                                          2022         2023         2024  \\\n",
       "Funding Source                                                             \n",
       "FEDERAL EXPENDITURES FUND          3145.135310  3166.651132  3292.178239   \n",
       "GENERAL FUND                       1265.338723  1638.181049  1750.751872   \n",
       "OTHER SPECIAL REVENUE               612.690128   661.347893   648.525893   \n",
       "FEDERAL BLOCK GRANT FUND            224.817577   278.471607   279.653386   \n",
       "FUND FOR A HEALTHY MAINE             49.226873    62.698209    61.562582   \n",
       "FEDERAL EXPENDITURES FUND ARP         0.000000    16.796206    23.532250   \n",
       "FEDERAL EXPENDITURES FUND ARP SFR    27.415109    30.458835    12.513474   \n",
       "MAINE RECOVERY FUND                   0.000000     0.000000     0.000000   \n",
       "FEDERAL BLOCK GRANT FUND ARP          0.000000    52.471957    52.187640   \n",
       "FEDERAL EXPENDITURES FUND ARRA        1.505768     1.505768     1.505768   \n",
       "\n",
       "                                          2025         2026         2027  \n",
       "Funding Source                                                            \n",
       "FEDERAL EXPENDITURES FUND          3534.905849  3889.891453  3892.473179  \n",
       "GENERAL FUND                       2077.100494  2183.726756  2164.550439  \n",
       "OTHER SPECIAL REVENUE               720.657798   713.753039   721.184967  \n",
       "FEDERAL BLOCK GRANT FUND            283.306083   278.836497   279.501104  \n",
       "FUND FOR A HEALTHY MAINE             63.032048    63.811338    62.788713  \n",
       "FEDERAL EXPENDITURES FUND ARP        22.031838    17.220790    15.888726  \n",
       "FEDERAL EXPENDITURES FUND ARP SFR     9.629802     9.629802     9.629802  \n",
       "MAINE RECOVERY FUND                   6.150000     6.150000     6.150000  \n",
       "FEDERAL BLOCK GRANT FUND ARP         52.087561     7.527392     0.000500  \n",
       "FEDERAL EXPENDITURES FUND ARRA        1.505768     0.000500     0.000500  "
      ]
     },
     "execution_count": 8,
     "metadata": {},
     "output_type": "execute_result"
    },
    {
     "data": {
      "image/png": "[encoded data removed]",
      "text/plain": [
       "<Figure size 1000x600 with 1 Axes>"
      ]
     },
     "metadata": {},
     "output_type": "display_data"
    }
   ],
   "source": [
    "fig, ax = plt.subplots(figsize=(10, 6))\n",
    "plot_department_breakdown(ax, 'DEPARTMENT OF HEALTH AND HUMAN SERVICES (Formerly DHS)', me_processed_df, fred)"
   ]
  },
  {
   "cell_type": "code",
   "execution_count": 9,
   "id": "3bd30719",
   "metadata": {},
   "outputs": [
    {
     "data": {
      "text/html": [
       "<div>\n",
       "<style scoped>\n",
       "    .dataframe tbody tr th:only-of-type {\n",
       "        vertical-align: middle;\n",
       "    }\n",
       "\n",
       "    .dataframe tbody tr th {\n",
       "        vertical-align: top;\n",
       "    }\n",
       "\n",
       "    .dataframe thead th {\n",
       "        text-align: right;\n",
       "    }\n",
       "</style>\n",
       "<table border=\"1\" class=\"dataframe\">\n",
       "  <thead>\n",
       "    <tr style=\"text-align: right;\">\n",
       "      <th></th>\n",
       "      <th></th>\n",
       "      <th>2016</th>\n",
       "      <th>2017</th>\n",
       "      <th>2018</th>\n",
       "      <th>2019</th>\n",
       "      <th>2020</th>\n",
       "      <th>2021</th>\n",
       "      <th>2022</th>\n",
       "      <th>2023</th>\n",
       "      <th>2024</th>\n",
       "      <th>2025</th>\n",
       "      <th>2026</th>\n",
       "      <th>2027</th>\n",
       "    </tr>\n",
       "    <tr>\n",
       "      <th>Department</th>\n",
       "      <th>Funding Source</th>\n",
       "      <th></th>\n",
       "      <th></th>\n",
       "      <th></th>\n",
       "      <th></th>\n",
       "      <th></th>\n",
       "      <th></th>\n",
       "      <th></th>\n",
       "      <th></th>\n",
       "      <th></th>\n",
       "      <th></th>\n",
       "      <th></th>\n",
       "      <th></th>\n",
       "    </tr>\n",
       "  </thead>\n",
       "  <tbody>\n",
       "    <tr>\n",
       "      <th rowspan=\"2\" valign=\"top\">TOTAL</th>\n",
       "      <th>DEPARTMENT TOTAL</th>\n",
       "      <td>8.217277e+09</td>\n",
       "      <td>8.307662e+09</td>\n",
       "      <td>8.521222e+09</td>\n",
       "      <td>8.902010e+09</td>\n",
       "      <td>9.771971e+09</td>\n",
       "      <td>1.043693e+10</td>\n",
       "      <td>1.207620e+10</td>\n",
       "      <td>1.270887e+10</td>\n",
       "      <td>1.313063e+10</td>\n",
       "      <td>1.398425e+10</td>\n",
       "      <td>1.453248e+10</td>\n",
       "      <td>1.460058e+10</td>\n",
       "    </tr>\n",
       "    <tr>\n",
       "      <th>DEPARTMENT TOTAL ex FEDERAL</th>\n",
       "      <td>5.488956e+09</td>\n",
       "      <td>5.560601e+09</td>\n",
       "      <td>5.730272e+09</td>\n",
       "      <td>6.021270e+09</td>\n",
       "      <td>6.551805e+09</td>\n",
       "      <td>6.830097e+09</td>\n",
       "      <td>8.069331e+09</td>\n",
       "      <td>8.710372e+09</td>\n",
       "      <td>8.841038e+09</td>\n",
       "      <td>9.431594e+09</td>\n",
       "      <td>9.415689e+09</td>\n",
       "      <td>9.480174e+09</td>\n",
       "    </tr>\n",
       "    <tr>\n",
       "      <th>DEPARTMENT OF HEALTH AND HUMAN SERVICES (Formerly DHS)</th>\n",
       "      <th>DEPARTMENT TOTAL</th>\n",
       "      <td>3.486781e+09</td>\n",
       "      <td>3.508579e+09</td>\n",
       "      <td>4.006469e+09</td>\n",
       "      <td>4.194731e+09</td>\n",
       "      <td>4.691312e+09</td>\n",
       "      <td>5.000039e+09</td>\n",
       "      <td>5.326129e+09</td>\n",
       "      <td>5.908583e+09</td>\n",
       "      <td>6.122411e+09</td>\n",
       "      <td>6.770407e+09</td>\n",
       "      <td>7.170548e+09</td>\n",
       "      <td>7.152168e+09</td>\n",
       "    </tr>\n",
       "    <tr>\n",
       "      <th rowspan=\"2\" valign=\"top\">TOTAL</th>\n",
       "      <th>GENERAL FUND</th>\n",
       "      <td>3.331299e+09</td>\n",
       "      <td>3.373180e+09</td>\n",
       "      <td>3.514674e+09</td>\n",
       "      <td>3.708230e+09</td>\n",
       "      <td>3.933882e+09</td>\n",
       "      <td>3.894518e+09</td>\n",
       "      <td>4.073527e+09</td>\n",
       "      <td>4.614634e+09</td>\n",
       "      <td>5.076394e+09</td>\n",
       "      <td>5.513093e+09</td>\n",
       "      <td>5.598854e+09</td>\n",
       "      <td>5.652024e+09</td>\n",
       "    </tr>\n",
       "    <tr>\n",
       "      <th>FEDERAL EXPENDITURES FUND</th>\n",
       "      <td>2.728321e+09</td>\n",
       "      <td>2.747061e+09</td>\n",
       "      <td>2.790950e+09</td>\n",
       "      <td>2.880740e+09</td>\n",
       "      <td>3.220166e+09</td>\n",
       "      <td>3.606836e+09</td>\n",
       "      <td>4.006867e+09</td>\n",
       "      <td>3.998498e+09</td>\n",
       "      <td>4.289589e+09</td>\n",
       "      <td>4.552659e+09</td>\n",
       "      <td>5.116791e+09</td>\n",
       "      <td>5.120406e+09</td>\n",
       "    </tr>\n",
       "    <tr>\n",
       "      <th rowspan=\"2\" valign=\"top\">DEPARTMENT OF HEALTH AND HUMAN SERVICES (Formerly DHS)</th>\n",
       "      <th>FEDERAL EXPENDITURES FUND</th>\n",
       "      <td>2.035128e+09</td>\n",
       "      <td>2.055555e+09</td>\n",
       "      <td>2.100813e+09</td>\n",
       "      <td>2.185980e+09</td>\n",
       "      <td>2.522590e+09</td>\n",
       "      <td>2.881727e+09</td>\n",
       "      <td>3.145135e+09</td>\n",
       "      <td>3.166651e+09</td>\n",
       "      <td>3.292178e+09</td>\n",
       "      <td>3.534906e+09</td>\n",
       "      <td>3.889891e+09</td>\n",
       "      <td>3.892473e+09</td>\n",
       "    </tr>\n",
       "    <tr>\n",
       "      <th>DEPARTMENT TOTAL ex FEDERAL</th>\n",
       "      <td>1.451653e+09</td>\n",
       "      <td>1.453024e+09</td>\n",
       "      <td>1.905657e+09</td>\n",
       "      <td>2.008751e+09</td>\n",
       "      <td>2.168722e+09</td>\n",
       "      <td>2.118311e+09</td>\n",
       "      <td>2.180994e+09</td>\n",
       "      <td>2.741932e+09</td>\n",
       "      <td>2.830233e+09</td>\n",
       "      <td>3.235501e+09</td>\n",
       "      <td>3.280656e+09</td>\n",
       "      <td>3.259695e+09</td>\n",
       "    </tr>\n",
       "    <tr>\n",
       "      <th>DEPARTMENT OF EDUCATION</th>\n",
       "      <th>DEPARTMENT TOTAL</th>\n",
       "      <td>1.432526e+09</td>\n",
       "      <td>1.445586e+09</td>\n",
       "      <td>1.529265e+09</td>\n",
       "      <td>1.619784e+09</td>\n",
       "      <td>1.718251e+09</td>\n",
       "      <td>1.792825e+09</td>\n",
       "      <td>1.919520e+09</td>\n",
       "      <td>2.009349e+09</td>\n",
       "      <td>2.142252e+09</td>\n",
       "      <td>2.203195e+09</td>\n",
       "      <td>2.266382e+09</td>\n",
       "      <td>2.306487e+09</td>\n",
       "    </tr>\n",
       "    <tr>\n",
       "      <th>TOTAL</th>\n",
       "      <th>OTHER SPECIAL REVENUE</th>\n",
       "      <td>1.049691e+09</td>\n",
       "      <td>1.077801e+09</td>\n",
       "      <td>1.049875e+09</td>\n",
       "      <td>1.128922e+09</td>\n",
       "      <td>1.229689e+09</td>\n",
       "      <td>1.323060e+09</td>\n",
       "      <td>2.096706e+09</td>\n",
       "      <td>2.312060e+09</td>\n",
       "      <td>2.021792e+09</td>\n",
       "      <td>2.241648e+09</td>\n",
       "      <td>1.951952e+09</td>\n",
       "      <td>1.978513e+09</td>\n",
       "    </tr>\n",
       "    <tr>\n",
       "      <th>DEPARTMENT OF EDUCATION</th>\n",
       "      <th>DEPARTMENT TOTAL ex FEDERAL</th>\n",
       "      <td>1.209585e+09</td>\n",
       "      <td>1.222551e+09</td>\n",
       "      <td>1.295591e+09</td>\n",
       "      <td>1.386053e+09</td>\n",
       "      <td>1.477249e+09</td>\n",
       "      <td>1.551804e+09</td>\n",
       "      <td>1.681506e+09</td>\n",
       "      <td>1.762917e+09</td>\n",
       "      <td>1.863742e+09</td>\n",
       "      <td>1.921351e+09</td>\n",
       "      <td>1.983753e+09</td>\n",
       "      <td>2.023644e+09</td>\n",
       "    </tr>\n",
       "  </tbody>\n",
       "</table>\n",
       "</div>"
      ],
      "text/plain": [
       "                                                                                        2016  \\\n",
       "Department                                         Funding Source                              \n",
       "TOTAL                                              DEPARTMENT TOTAL             8.217277e+09   \n",
       "                                                   DEPARTMENT TOTAL ex FEDERAL  5.488956e+09   \n",
       "DEPARTMENT OF HEALTH AND HUMAN SERVICES (Former... DEPARTMENT TOTAL             3.486781e+09   \n",
       "TOTAL                                              GENERAL FUND                 3.331299e+09   \n",
       "                                                   FEDERAL EXPENDITURES FUND    2.728321e+09   \n",
       "DEPARTMENT OF HEALTH AND HUMAN SERVICES (Former... FEDERAL EXPENDITURES FUND    2.035128e+09   \n",
       "                                                   DEPARTMENT TOTAL ex FEDERAL  1.451653e+09   \n",
       "DEPARTMENT OF EDUCATION                            DEPARTMENT TOTAL             1.432526e+09   \n",
       "TOTAL                                              OTHER SPECIAL REVENUE        1.049691e+09   \n",
       "DEPARTMENT OF EDUCATION                            DEPARTMENT TOTAL ex FEDERAL  1.209585e+09   \n",
       "\n",
       "                                                                                        2017  \\\n",
       "Department                                         Funding Source                              \n",
       "TOTAL                                              DEPARTMENT TOTAL             8.307662e+09   \n",
       "                                                   DEPARTMENT TOTAL ex FEDERAL  5.560601e+09   \n",
       "DEPARTMENT OF HEALTH AND HUMAN SERVICES (Former... DEPARTMENT TOTAL             3.508579e+09   \n",
       "TOTAL                                              GENERAL FUND                 3.373180e+09   \n",
       "                                                   FEDERAL EXPENDITURES FUND    2.747061e+09   \n",
       "DEPARTMENT OF HEALTH AND HUMAN SERVICES (Former... FEDERAL EXPENDITURES FUND    2.055555e+09   \n",
       "                                                   DEPARTMENT TOTAL ex FEDERAL  1.453024e+09   \n",
       "DEPARTMENT OF EDUCATION                            DEPARTMENT TOTAL             1.445586e+09   \n",
       "TOTAL                                              OTHER SPECIAL REVENUE        1.077801e+09   \n",
       "DEPARTMENT OF EDUCATION                            DEPARTMENT TOTAL ex FEDERAL  1.222551e+09   \n",
       "\n",
       "                                                                                        2018  \\\n",
       "Department                                         Funding Source                              \n",
       "TOTAL                                              DEPARTMENT TOTAL             8.521222e+09   \n",
       "                                                   DEPARTMENT TOTAL ex FEDERAL  5.730272e+09   \n",
       "DEPARTMENT OF HEALTH AND HUMAN SERVICES (Former... DEPARTMENT TOTAL             4.006469e+09   \n",
       "TOTAL                                              GENERAL FUND                 3.514674e+09   \n",
       "                                                   FEDERAL EXPENDITURES FUND    2.790950e+09   \n",
       "DEPARTMENT OF HEALTH AND HUMAN SERVICES (Former... FEDERAL EXPENDITURES FUND    2.100813e+09   \n",
       "                                                   DEPARTMENT TOTAL ex FEDERAL  1.905657e+09   \n",
       "DEPARTMENT OF EDUCATION                            DEPARTMENT TOTAL             1.529265e+09   \n",
       "TOTAL                                              OTHER SPECIAL REVENUE        1.049875e+09   \n",
       "DEPARTMENT OF EDUCATION                            DEPARTMENT TOTAL ex FEDERAL  1.295591e+09   \n",
       "\n",
       "                                                                                        2019  \\\n",
       "Department                                         Funding Source                              \n",
       "TOTAL                                              DEPARTMENT TOTAL             8.902010e+09   \n",
       "                                                   DEPARTMENT TOTAL ex FEDERAL  6.021270e+09   \n",
       "DEPARTMENT OF HEALTH AND HUMAN SERVICES (Former... DEPARTMENT TOTAL             4.194731e+09   \n",
       "TOTAL                                              GENERAL FUND                 3.708230e+09   \n",
       "                                                   FEDERAL EXPENDITURES FUND    2.880740e+09   \n",
       "DEPARTMENT OF HEALTH AND HUMAN SERVICES (Former... FEDERAL EXPENDITURES FUND    2.185980e+09   \n",
       "                                                   DEPARTMENT TOTAL ex FEDERAL  2.008751e+09   \n",
       "DEPARTMENT OF EDUCATION                            DEPARTMENT TOTAL             1.619784e+09   \n",
       "TOTAL                                              OTHER SPECIAL REVENUE        1.128922e+09   \n",
       "DEPARTMENT OF EDUCATION                            DEPARTMENT TOTAL ex FEDERAL  1.386053e+09   \n",
       "\n",
       "                                                                                        2020  \\\n",
       "Department                                         Funding Source                              \n",
       "TOTAL                                              DEPARTMENT TOTAL             9.771971e+09   \n",
       "                                                   DEPARTMENT TOTAL ex FEDERAL  6.551805e+09   \n",
       "DEPARTMENT OF HEALTH AND HUMAN SERVICES (Former... DEPARTMENT TOTAL             4.691312e+09   \n",
       "TOTAL                                              GENERAL FUND                 3.933882e+09   \n",
       "                                                   FEDERAL EXPENDITURES FUND    3.220166e+09   \n",
       "DEPARTMENT OF HEALTH AND HUMAN SERVICES (Former... FEDERAL EXPENDITURES FUND    2.522590e+09   \n",
       "                                                   DEPARTMENT TOTAL ex FEDERAL  2.168722e+09   \n",
       "DEPARTMENT OF EDUCATION                            DEPARTMENT TOTAL             1.718251e+09   \n",
       "TOTAL                                              OTHER SPECIAL REVENUE        1.229689e+09   \n",
       "DEPARTMENT OF EDUCATION                            DEPARTMENT TOTAL ex FEDERAL  1.477249e+09   \n",
       "\n",
       "                                                                                        2021  \\\n",
       "Department                                         Funding Source                              \n",
       "TOTAL                                              DEPARTMENT TOTAL             1.043693e+10   \n",
       "                                                   DEPARTMENT TOTAL ex FEDERAL  6.830097e+09   \n",
       "DEPARTMENT OF HEALTH AND HUMAN SERVICES (Former... DEPARTMENT TOTAL             5.000039e+09   \n",
       "TOTAL                                              GENERAL FUND                 3.894518e+09   \n",
       "                                                   FEDERAL EXPENDITURES FUND    3.606836e+09   \n",
       "DEPARTMENT OF HEALTH AND HUMAN SERVICES (Former... FEDERAL EXPENDITURES FUND    2.881727e+09   \n",
       "                                                   DEPARTMENT TOTAL ex FEDERAL  2.118311e+09   \n",
       "DEPARTMENT OF EDUCATION                            DEPARTMENT TOTAL             1.792825e+09   \n",
       "TOTAL                                              OTHER SPECIAL REVENUE        1.323060e+09   \n",
       "DEPARTMENT OF EDUCATION                            DEPARTMENT TOTAL ex FEDERAL  1.551804e+09   \n",
       "\n",
       "                                                                                        2022  \\\n",
       "Department                                         Funding Source                              \n",
       "TOTAL                                              DEPARTMENT TOTAL             1.207620e+10   \n",
       "                                                   DEPARTMENT TOTAL ex FEDERAL  8.069331e+09   \n",
       "DEPARTMENT OF HEALTH AND HUMAN SERVICES (Former... DEPARTMENT TOTAL             5.326129e+09   \n",
       "TOTAL                                              GENERAL FUND                 4.073527e+09   \n",
       "                                                   FEDERAL EXPENDITURES FUND    4.006867e+09   \n",
       "DEPARTMENT OF HEALTH AND HUMAN SERVICES (Former... FEDERAL EXPENDITURES FUND    3.145135e+09   \n",
       "                                                   DEPARTMENT TOTAL ex FEDERAL  2.180994e+09   \n",
       "DEPARTMENT OF EDUCATION                            DEPARTMENT TOTAL             1.919520e+09   \n",
       "TOTAL                                              OTHER SPECIAL REVENUE        2.096706e+09   \n",
       "DEPARTMENT OF EDUCATION                            DEPARTMENT TOTAL ex FEDERAL  1.681506e+09   \n",
       "\n",
       "                                                                                        2023  \\\n",
       "Department                                         Funding Source                              \n",
       "TOTAL                                              DEPARTMENT TOTAL             1.270887e+10   \n",
       "                                                   DEPARTMENT TOTAL ex FEDERAL  8.710372e+09   \n",
       "DEPARTMENT OF HEALTH AND HUMAN SERVICES (Former... DEPARTMENT TOTAL             5.908583e+09   \n",
       "TOTAL                                              GENERAL FUND                 4.614634e+09   \n",
       "                                                   FEDERAL EXPENDITURES FUND    3.998498e+09   \n",
       "DEPARTMENT OF HEALTH AND HUMAN SERVICES (Former... FEDERAL EXPENDITURES FUND    3.166651e+09   \n",
       "                                                   DEPARTMENT TOTAL ex FEDERAL  2.741932e+09   \n",
       "DEPARTMENT OF EDUCATION                            DEPARTMENT TOTAL             2.009349e+09   \n",
       "TOTAL                                              OTHER SPECIAL REVENUE        2.312060e+09   \n",
       "DEPARTMENT OF EDUCATION                            DEPARTMENT TOTAL ex FEDERAL  1.762917e+09   \n",
       "\n",
       "                                                                                        2024  \\\n",
       "Department                                         Funding Source                              \n",
       "TOTAL                                              DEPARTMENT TOTAL             1.313063e+10   \n",
       "                                                   DEPARTMENT TOTAL ex FEDERAL  8.841038e+09   \n",
       "DEPARTMENT OF HEALTH AND HUMAN SERVICES (Former... DEPARTMENT TOTAL             6.122411e+09   \n",
       "TOTAL                                              GENERAL FUND                 5.076394e+09   \n",
       "                                                   FEDERAL EXPENDITURES FUND    4.289589e+09   \n",
       "DEPARTMENT OF HEALTH AND HUMAN SERVICES (Former... FEDERAL EXPENDITURES FUND    3.292178e+09   \n",
       "                                                   DEPARTMENT TOTAL ex FEDERAL  2.830233e+09   \n",
       "DEPARTMENT OF EDUCATION                            DEPARTMENT TOTAL             2.142252e+09   \n",
       "TOTAL                                              OTHER SPECIAL REVENUE        2.021792e+09   \n",
       "DEPARTMENT OF EDUCATION                            DEPARTMENT TOTAL ex FEDERAL  1.863742e+09   \n",
       "\n",
       "                                                                                        2025  \\\n",
       "Department                                         Funding Source                              \n",
       "TOTAL                                              DEPARTMENT TOTAL             1.398425e+10   \n",
       "                                                   DEPARTMENT TOTAL ex FEDERAL  9.431594e+09   \n",
       "DEPARTMENT OF HEALTH AND HUMAN SERVICES (Former... DEPARTMENT TOTAL             6.770407e+09   \n",
       "TOTAL                                              GENERAL FUND                 5.513093e+09   \n",
       "                                                   FEDERAL EXPENDITURES FUND    4.552659e+09   \n",
       "DEPARTMENT OF HEALTH AND HUMAN SERVICES (Former... FEDERAL EXPENDITURES FUND    3.534906e+09   \n",
       "                                                   DEPARTMENT TOTAL ex FEDERAL  3.235501e+09   \n",
       "DEPARTMENT OF EDUCATION                            DEPARTMENT TOTAL             2.203195e+09   \n",
       "TOTAL                                              OTHER SPECIAL REVENUE        2.241648e+09   \n",
       "DEPARTMENT OF EDUCATION                            DEPARTMENT TOTAL ex FEDERAL  1.921351e+09   \n",
       "\n",
       "                                                                                        2026  \\\n",
       "Department                                         Funding Source                              \n",
       "TOTAL                                              DEPARTMENT TOTAL             1.453248e+10   \n",
       "                                                   DEPARTMENT TOTAL ex FEDERAL  9.415689e+09   \n",
       "DEPARTMENT OF HEALTH AND HUMAN SERVICES (Former... DEPARTMENT TOTAL             7.170548e+09   \n",
       "TOTAL                                              GENERAL FUND                 5.598854e+09   \n",
       "                                                   FEDERAL EXPENDITURES FUND    5.116791e+09   \n",
       "DEPARTMENT OF HEALTH AND HUMAN SERVICES (Former... FEDERAL EXPENDITURES FUND    3.889891e+09   \n",
       "                                                   DEPARTMENT TOTAL ex FEDERAL  3.280656e+09   \n",
       "DEPARTMENT OF EDUCATION                            DEPARTMENT TOTAL             2.266382e+09   \n",
       "TOTAL                                              OTHER SPECIAL REVENUE        1.951952e+09   \n",
       "DEPARTMENT OF EDUCATION                            DEPARTMENT TOTAL ex FEDERAL  1.983753e+09   \n",
       "\n",
       "                                                                                        2027  \n",
       "Department                                         Funding Source                             \n",
       "TOTAL                                              DEPARTMENT TOTAL             1.460058e+10  \n",
       "                                                   DEPARTMENT TOTAL ex FEDERAL  9.480174e+09  \n",
       "DEPARTMENT OF HEALTH AND HUMAN SERVICES (Former... DEPARTMENT TOTAL             7.152168e+09  \n",
       "TOTAL                                              GENERAL FUND                 5.652024e+09  \n",
       "                                                   FEDERAL EXPENDITURES FUND    5.120406e+09  \n",
       "DEPARTMENT OF HEALTH AND HUMAN SERVICES (Former... FEDERAL EXPENDITURES FUND    3.892473e+09  \n",
       "                                                   DEPARTMENT TOTAL ex FEDERAL  3.259695e+09  \n",
       "DEPARTMENT OF EDUCATION                            DEPARTMENT TOTAL             2.306487e+09  \n",
       "TOTAL                                              OTHER SPECIAL REVENUE        1.978513e+09  \n",
       "DEPARTMENT OF EDUCATION                            DEPARTMENT TOTAL ex FEDERAL  2.023644e+09  "
      ]
     },
     "execution_count": 9,
     "metadata": {},
     "output_type": "execute_result"
    }
   ],
   "source": [
    "me_processed_df.sort_values(by='2024', ascending=False).head(10)"
   ]
  },
  {
   "cell_type": "code",
   "execution_count": 10,
   "id": "49de0763",
   "metadata": {},
   "outputs": [],
   "source": [
    "df = get_economic_indicators_df(fred)"
   ]
  },
  {
   "cell_type": "code",
   "execution_count": 11,
   "id": "6d898ac9",
   "metadata": {},
   "outputs": [],
   "source": [
    "df = df.div(df.iloc[:, 0], axis=0)"
   ]
  },
  {
   "cell_type": "code",
   "execution_count": null,
   "id": "cffa04d5",
   "metadata": {},
   "outputs": [],
   "source": []
  },
  {
   "cell_type": "code",
   "execution_count": 12,
   "id": "23f67286",
   "metadata": {},
   "outputs": [],
   "source": [
    "econ_index_df = produce_economic_index_df(fred)"
   ]
  },
  {
   "cell_type": "code",
   "execution_count": 13,
   "id": "52c80d85",
   "metadata": {},
   "outputs": [
    {
     "data": {
      "application/vnd.plotly.v1+json": {
       "config": {
        "plotlyServerURL": "https://plot.ly"
       },
       "data": [
        {
         "line": {
          "color": "blue"
         },
         "mode": "lines",
         "name": "Spending",
         "type": "scatter",
         "x": [
          "2016",
          "2017",
          "2018",
          "2019",
          "2020",
          "2021",
          "2022",
          "2023",
          "2024",
          "2025",
          "2026",
          "2027"
         ],
         "y": {
          "bdata": "AABQJJuc/kEAANC3zfL+QQAAoGl4vv9BAAAQLs+UAEIAAOiDozMCQgAAgLS3cANCAABoT2F+BkIAAIiyD6wHQgAA8M8rdQhCAAC4CzYMCkIAAABMoBELQgAAgGgZMgtC",
          "dtype": "f8"
         }
        },
        {
         "line": {
          "color": "red",
          "dash": "dash"
         },
         "mode": "lines",
         "name": "CPI",
         "type": "scatter",
         "x": [
          "2016",
          "2017",
          "2018",
          "2019",
          "2020",
          "2021",
          "2022",
          "2023",
          "2024",
          "2025"
         ],
         "y": {
          "bdata": "AABQJJuc/kEbUUmTo0P/QU1q1YBsAwBCLKqPysFNAEJ/ydMyDYIAQnvGRCPLRwFCOlVsHl+pAkKOWj5lkW4DQiiSJcllAQRCU0dArkp1BEI=",
          "dtype": "f8"
         }
        },
        {
         "line": {
          "color": "green",
          "dash": "dash"
         },
         "mode": "lines",
         "name": "Maine GDP",
         "type": "scatter",
         "x": [
          "2016",
          "2017",
          "2018",
          "2019",
          "2020",
          "2021",
          "2022",
          "2023",
          "2024",
          "2025"
         ],
         "y": {
          "bdata": "AABQJJuc/kGd2o6raZH/QVGSd8rulgBCMaVEB/N2AUIEJXoxxB0CQu7zVjAC5QNCahk5T8GfBUJepI6rgHwHQmWviI/J2AhCY4Gxt2FiCUI=",
          "dtype": "f8"
         }
        },
        {
         "line": {
          "color": "black",
          "dash": "dash"
         },
         "mode": "lines",
         "name": "Maine Population",
         "type": "scatter",
         "x": [
          "2016",
          "2017",
          "2018",
          "2019",
          "2020",
          "2021",
          "2022",
          "2023",
          "2024",
          "2025"
         ],
         "y": {
          "bdata": "AABQJJuc/kEhOgQik7D+QVJkZUdWyv5BZ57pMo3r/kFI0iSjIlr/QcewVxSZrv9BOXfFayD1/0Hwa89AOBQAQuaYEigAJABCAAAAAAAA+H8=",
          "dtype": "f8"
         }
        },
        {
         "line": {
          "color": "orange",
          "dash": "dash"
         },
         "mode": "lines",
         "name": "CPI & Population Growth",
         "type": "scatter",
         "x": [
          "2016",
          "2017",
          "2018",
          "2019",
          "2020",
          "2021",
          "2022",
          "2023",
          "2024",
          "2025"
         ],
         "y": {
          "bdata": "AABQJJuc/kHJkZCGCFj/QV/yHqZYGwBCxOIfns13AELePoVWQugAQhPQVoZ24gFCB3y7KmZ7A0I6xg5m1mkEQqzci761GAVCAAAAAAAA+H8=",
          "dtype": "f8"
         }
        }
       ],
       "layout": {
        "legend": {
         "title": {
          "text": "Legend"
         }
        },
        "template": {
         "data": {
          "bar": [
           {
            "error_x": {
             "color": "#2a3f5f"
            },
            "error_y": {
             "color": "#2a3f5f"
            },
            "marker": {
             "line": {
              "color": "#E5ECF6",
              "width": 0.5
             },
             "pattern": {
              "fillmode": "overlay",
              "size": 10,
              "solidity": 0.2
             }
            },
            "type": "bar"
           }
          ],
          "barpolar": [
           {
            "marker": {
             "line": {
              "color": "#E5ECF6",
              "width": 0.5
             },
             "pattern": {
              "fillmode": "overlay",
              "size": 10,
              "solidity": 0.2
             }
            },
            "type": "barpolar"
           }
          ],
          "carpet": [
           {
            "aaxis": {
             "endlinecolor": "#2a3f5f",
             "gridcolor": "white",
             "linecolor": "white",
             "minorgridcolor": "white",
             "startlinecolor": "#2a3f5f"
            },
            "baxis": {
             "endlinecolor": "#2a3f5f",
             "gridcolor": "white",
             "linecolor": "white",
             "minorgridcolor": "white",
             "startlinecolor": "#2a3f5f"
            },
            "type": "carpet"
           }
          ],
          "choropleth": [
           {
            "colorbar": {
             "outlinewidth": 0,
             "ticks": ""
            },
            "type": "choropleth"
           }
          ],
          "contour": [
           {
            "colorbar": {
             "outlinewidth": 0,
             "ticks": ""
            },
            "colorscale": [
             [
              0,
              "#0d0887"
             ],
             [
              0.1111111111111111,
              "#46039f"
             ],
             [
              0.2222222222222222,
              "#7201a8"
             ],
             [
              0.3333333333333333,
              "#9c179e"
             ],
             [
              0.4444444444444444,
              "#bd3786"
             ],
             [
              0.5555555555555556,
              "#d8576b"
             ],
             [
              0.6666666666666666,
              "#ed7953"
             ],
             [
              0.7777777777777778,
              "#fb9f3a"
             ],
             [
              0.8888888888888888,
              "#fdca26"
             ],
             [
              1,
              "#f0f921"
             ]
            ],
            "type": "contour"
           }
          ],
          "contourcarpet": [
           {
            "colorbar": {
             "outlinewidth": 0,
             "ticks": ""
            },
            "type": "contourcarpet"
           }
          ],
          "heatmap": [
           {
            "colorbar": {
             "outlinewidth": 0,
             "ticks": ""
            },
            "colorscale": [
             [
              0,
              "#0d0887"
             ],
             [
              0.1111111111111111,
              "#46039f"
             ],
             [
              0.2222222222222222,
              "#7201a8"
             ],
             [
              0.3333333333333333,
              "#9c179e"
             ],
             [
              0.4444444444444444,
              "#bd3786"
             ],
             [
              0.5555555555555556,
              "#d8576b"
             ],
             [
              0.6666666666666666,
              "#ed7953"
             ],
             [
              0.7777777777777778,
              "#fb9f3a"
             ],
             [
              0.8888888888888888,
              "#fdca26"
             ],
             [
              1,
              "#f0f921"
             ]
            ],
            "type": "heatmap"
           }
          ],
          "histogram": [
           {
            "marker": {
             "pattern": {
              "fillmode": "overlay",
              "size": 10,
              "solidity": 0.2
             }
            },
            "type": "histogram"
           }
          ],
          "histogram2d": [
           {
            "colorbar": {
             "outlinewidth": 0,
             "ticks": ""
            },
            "colorscale": [
             [
              0,
              "#0d0887"
             ],
             [
              0.1111111111111111,
              "#46039f"
             ],
             [
              0.2222222222222222,
              "#7201a8"
             ],
             [
              0.3333333333333333,
              "#9c179e"
             ],
             [
              0.4444444444444444,
              "#bd3786"
             ],
             [
              0.5555555555555556,
              "#d8576b"
             ],
             [
              0.6666666666666666,
              "#ed7953"
             ],
             [
              0.7777777777777778,
              "#fb9f3a"
             ],
             [
              0.8888888888888888,
              "#fdca26"
             ],
             [
              1,
              "#f0f921"
             ]
            ],
            "type": "histogram2d"
           }
          ],
          "histogram2dcontour": [
           {
            "colorbar": {
             "outlinewidth": 0,
             "ticks": ""
            },
            "colorscale": [
             [
              0,
              "#0d0887"
             ],
             [
              0.1111111111111111,
              "#46039f"
             ],
             [
              0.2222222222222222,
              "#7201a8"
             ],
             [
              0.3333333333333333,
              "#9c179e"
             ],
             [
              0.4444444444444444,
              "#bd3786"
             ],
             [
              0.5555555555555556,
              "#d8576b"
             ],
             [
              0.6666666666666666,
              "#ed7953"
             ],
             [
              0.7777777777777778,
              "#fb9f3a"
             ],
             [
              0.8888888888888888,
              "#fdca26"
             ],
             [
              1,
              "#f0f921"
             ]
            ],
            "type": "histogram2dcontour"
           }
          ],
          "mesh3d": [
           {
            "colorbar": {
             "outlinewidth": 0,
             "ticks": ""
            },
            "type": "mesh3d"
           }
          ],
          "parcoords": [
           {
            "line": {
             "colorbar": {
              "outlinewidth": 0,
              "ticks": ""
             }
            },
            "type": "parcoords"
           }
          ],
          "pie": [
           {
            "automargin": true,
            "type": "pie"
           }
          ],
          "scatter": [
           {
            "fillpattern": {
             "fillmode": "overlay",
             "size": 10,
             "solidity": 0.2
            },
            "type": "scatter"
           }
          ],
          "scatter3d": [
           {
            "line": {
             "colorbar": {
              "outlinewidth": 0,
              "ticks": ""
             }
            },
            "marker": {
             "colorbar": {
              "outlinewidth": 0,
              "ticks": ""
             }
            },
            "type": "scatter3d"
           }
          ],
          "scattercarpet": [
           {
            "marker": {
             "colorbar": {
              "outlinewidth": 0,
              "ticks": ""
             }
            },
            "type": "scattercarpet"
           }
          ],
          "scattergeo": [
           {
            "marker": {
             "colorbar": {
              "outlinewidth": 0,
              "ticks": ""
             }
            },
            "type": "scattergeo"
           }
          ],
          "scattergl": [
           {
            "marker": {
             "colorbar": {
              "outlinewidth": 0,
              "ticks": ""
             }
            },
            "type": "scattergl"
           }
          ],
          "scattermap": [
           {
            "marker": {
             "colorbar": {
              "outlinewidth": 0,
              "ticks": ""
             }
            },
            "type": "scattermap"
           }
          ],
          "scattermapbox": [
           {
            "marker": {
             "colorbar": {
              "outlinewidth": 0,
              "ticks": ""
             }
            },
            "type": "scattermapbox"
           }
          ],
          "scatterpolar": [
           {
            "marker": {
             "colorbar": {
              "outlinewidth": 0,
              "ticks": ""
             }
            },
            "type": "scatterpolar"
           }
          ],
          "scatterpolargl": [
           {
            "marker": {
             "colorbar": {
              "outlinewidth": 0,
              "ticks": ""
             }
            },
            "type": "scatterpolargl"
           }
          ],
          "scatterternary": [
           {
            "marker": {
             "colorbar": {
              "outlinewidth": 0,
              "ticks": ""
             }
            },
            "type": "scatterternary"
           }
          ],
          "surface": [
           {
            "colorbar": {
             "outlinewidth": 0,
             "ticks": ""
            },
            "colorscale": [
             [
              0,
              "#0d0887"
             ],
             [
              0.1111111111111111,
              "#46039f"
             ],
             [
              0.2222222222222222,
              "#7201a8"
             ],
             [
              0.3333333333333333,
              "#9c179e"
             ],
             [
              0.4444444444444444,
              "#bd3786"
             ],
             [
              0.5555555555555556,
              "#d8576b"
             ],
             [
              0.6666666666666666,
              "#ed7953"
             ],
             [
              0.7777777777777778,
              "#fb9f3a"
             ],
             [
              0.8888888888888888,
              "#fdca26"
             ],
             [
              1,
              "#f0f921"
             ]
            ],
            "type": "surface"
           }
          ],
          "table": [
           {
            "cells": {
             "fill": {
              "color": "#EBF0F8"
             },
             "line": {
              "color": "white"
             }
            },
            "header": {
             "fill": {
              "color": "#C8D4E3"
             },
             "line": {
              "color": "white"
             }
            },
            "type": "table"
           }
          ]
         },
         "layout": {
          "annotationdefaults": {
           "arrowcolor": "#2a3f5f",
           "arrowhead": 0,
           "arrowwidth": 1
          },
          "autotypenumbers": "strict",
          "coloraxis": {
           "colorbar": {
            "outlinewidth": 0,
            "ticks": ""
           }
          },
          "colorscale": {
           "diverging": [
            [
             0,
             "#8e0152"
            ],
            [
             0.1,
             "#c51b7d"
            ],
            [
             0.2,
             "#de77ae"
            ],
            [
             0.3,
             "#f1b6da"
            ],
            [
             0.4,
             "#fde0ef"
            ],
            [
             0.5,
             "#f7f7f7"
            ],
            [
             0.6,
             "#e6f5d0"
            ],
            [
             0.7,
             "#b8e186"
            ],
            [
             0.8,
             "#7fbc41"
            ],
            [
             0.9,
             "#4d9221"
            ],
            [
             1,
             "#276419"
            ]
           ],
           "sequential": [
            [
             0,
             "#0d0887"
            ],
            [
             0.1111111111111111,
             "#46039f"
            ],
            [
             0.2222222222222222,
             "#7201a8"
            ],
            [
             0.3333333333333333,
             "#9c179e"
            ],
            [
             0.4444444444444444,
             "#bd3786"
            ],
            [
             0.5555555555555556,
             "#d8576b"
            ],
            [
             0.6666666666666666,
             "#ed7953"
            ],
            [
             0.7777777777777778,
             "#fb9f3a"
            ],
            [
             0.8888888888888888,
             "#fdca26"
            ],
            [
             1,
             "#f0f921"
            ]
           ],
           "sequentialminus": [
            [
             0,
             "#0d0887"
            ],
            [
             0.1111111111111111,
             "#46039f"
            ],
            [
             0.2222222222222222,
             "#7201a8"
            ],
            [
             0.3333333333333333,
             "#9c179e"
            ],
            [
             0.4444444444444444,
             "#bd3786"
            ],
            [
             0.5555555555555556,
             "#d8576b"
            ],
            [
             0.6666666666666666,
             "#ed7953"
            ],
            [
             0.7777777777777778,
             "#fb9f3a"
            ],
            [
             0.8888888888888888,
             "#fdca26"
            ],
            [
             1,
             "#f0f921"
            ]
           ]
          },
          "colorway": [
           "#636efa",
           "#EF553B",
           "#00cc96",
           "#ab63fa",
           "#FFA15A",
           "#19d3f3",
           "#FF6692",
           "#B6E880",
           "#FF97FF",
           "#FECB52"
          ],
          "font": {
           "color": "#2a3f5f"
          },
          "geo": {
           "bgcolor": "white",
           "lakecolor": "white",
           "landcolor": "#E5ECF6",
           "showlakes": true,
           "showland": true,
           "subunitcolor": "white"
          },
          "hoverlabel": {
           "align": "left"
          },
          "hovermode": "closest",
          "mapbox": {
           "style": "light"
          },
          "paper_bgcolor": "white",
          "plot_bgcolor": "#E5ECF6",
          "polar": {
           "angularaxis": {
            "gridcolor": "white",
            "linecolor": "white",
            "ticks": ""
           },
           "bgcolor": "#E5ECF6",
           "radialaxis": {
            "gridcolor": "white",
            "linecolor": "white",
            "ticks": ""
           }
          },
          "scene": {
           "xaxis": {
            "backgroundcolor": "#E5ECF6",
            "gridcolor": "white",
            "gridwidth": 2,
            "linecolor": "white",
            "showbackground": true,
            "ticks": "",
            "zerolinecolor": "white"
           },
           "yaxis": {
            "backgroundcolor": "#E5ECF6",
            "gridcolor": "white",
            "gridwidth": 2,
            "linecolor": "white",
            "showbackground": true,
            "ticks": "",
            "zerolinecolor": "white"
           },
           "zaxis": {
            "backgroundcolor": "#E5ECF6",
            "gridcolor": "white",
            "gridwidth": 2,
            "linecolor": "white",
            "showbackground": true,
            "ticks": "",
            "zerolinecolor": "white"
           }
          },
          "shapedefaults": {
           "line": {
            "color": "#2a3f5f"
           }
          },
          "ternary": {
           "aaxis": {
            "gridcolor": "white",
            "linecolor": "white",
            "ticks": ""
           },
           "baxis": {
            "gridcolor": "white",
            "linecolor": "white",
            "ticks": ""
           },
           "bgcolor": "#E5ECF6",
           "caxis": {
            "gridcolor": "white",
            "linecolor": "white",
            "ticks": ""
           }
          },
          "title": {
           "x": 0.05
          },
          "xaxis": {
           "automargin": true,
           "gridcolor": "white",
           "linecolor": "white",
           "ticks": "",
           "title": {
            "standoff": 15
           },
           "zerolinecolor": "white",
           "zerolinewidth": 2
          },
          "yaxis": {
           "automargin": true,
           "gridcolor": "white",
           "linecolor": "white",
           "ticks": "",
           "title": {
            "standoff": 15
           },
           "zerolinecolor": "white",
           "zerolinewidth": 2
          }
         }
        },
        "title": {
         "text": "Spending vs Economic Indices"
        },
        "xaxis": {
         "title": {
          "text": "Year"
         }
        },
        "yaxis": {
         "title": {
          "text": "$, Billions"
         }
        }
       }
      }
     },
     "metadata": {},
     "output_type": "display_data"
    }
   ],
   "source": [
    "plot_spending_vs_econ_index(me_processed_df.loc[('TOTAL', 'DEPARTMENT TOTAL')], econ_index_df)"
   ]
  },
  {
   "cell_type": "code",
   "execution_count": 14,
   "id": "bb6b9135",
   "metadata": {},
   "outputs": [
    {
     "data": {
      "application/vnd.plotly.v1+json": {
       "config": {
        "plotlyServerURL": "https://plot.ly"
       },
       "data": [
        {
         "hovertext": [
          "DEPARTMENT OF HEALTH AND HUMAN SERVICES (Formerly DHS)",
          "DEPARTMENT OF EDUCATION",
          "DEPARTMENT OF TRANSPORTATION",
          "ALL OTHERS"
         ],
         "marker": {
          "color": "blue"
         },
         "text": [
          "7.15",
          "2.31",
          "1.39",
          "3.76"
         ],
         "textposition": "auto",
         "type": "bar",
         "x": [
          0,
          1,
          2,
          3
         ],
         "y": {
          "bdata": "a2br6NGbHEAA/dBir3MCQKJZB3fPMPY/RPlNJEIKDkA=",
          "dtype": "f8"
         }
        }
       ],
       "layout": {
        "showlegend": false,
        "template": {
         "data": {
          "bar": [
           {
            "error_x": {
             "color": "#2a3f5f"
            },
            "error_y": {
             "color": "#2a3f5f"
            },
            "marker": {
             "line": {
              "color": "#E5ECF6",
              "width": 0.5
             },
             "pattern": {
              "fillmode": "overlay",
              "size": 10,
              "solidity": 0.2
             }
            },
            "type": "bar"
           }
          ],
          "barpolar": [
           {
            "marker": {
             "line": {
              "color": "#E5ECF6",
              "width": 0.5
             },
             "pattern": {
              "fillmode": "overlay",
              "size": 10,
              "solidity": 0.2
             }
            },
            "type": "barpolar"
           }
          ],
          "carpet": [
           {
            "aaxis": {
             "endlinecolor": "#2a3f5f",
             "gridcolor": "white",
             "linecolor": "white",
             "minorgridcolor": "white",
             "startlinecolor": "#2a3f5f"
            },
            "baxis": {
             "endlinecolor": "#2a3f5f",
             "gridcolor": "white",
             "linecolor": "white",
             "minorgridcolor": "white",
             "startlinecolor": "#2a3f5f"
            },
            "type": "carpet"
           }
          ],
          "choropleth": [
           {
            "colorbar": {
             "outlinewidth": 0,
             "ticks": ""
            },
            "type": "choropleth"
           }
          ],
          "contour": [
           {
            "colorbar": {
             "outlinewidth": 0,
             "ticks": ""
            },
            "colorscale": [
             [
              0,
              "#0d0887"
             ],
             [
              0.1111111111111111,
              "#46039f"
             ],
             [
              0.2222222222222222,
              "#7201a8"
             ],
             [
              0.3333333333333333,
              "#9c179e"
             ],
             [
              0.4444444444444444,
              "#bd3786"
             ],
             [
              0.5555555555555556,
              "#d8576b"
             ],
             [
              0.6666666666666666,
              "#ed7953"
             ],
             [
              0.7777777777777778,
              "#fb9f3a"
             ],
             [
              0.8888888888888888,
              "#fdca26"
             ],
             [
              1,
              "#f0f921"
             ]
            ],
            "type": "contour"
           }
          ],
          "contourcarpet": [
           {
            "colorbar": {
             "outlinewidth": 0,
             "ticks": ""
            },
            "type": "contourcarpet"
           }
          ],
          "heatmap": [
           {
            "colorbar": {
             "outlinewidth": 0,
             "ticks": ""
            },
            "colorscale": [
             [
              0,
              "#0d0887"
             ],
             [
              0.1111111111111111,
              "#46039f"
             ],
             [
              0.2222222222222222,
              "#7201a8"
             ],
             [
              0.3333333333333333,
              "#9c179e"
             ],
             [
              0.4444444444444444,
              "#bd3786"
             ],
             [
              0.5555555555555556,
              "#d8576b"
             ],
             [
              0.6666666666666666,
              "#ed7953"
             ],
             [
              0.7777777777777778,
              "#fb9f3a"
             ],
             [
              0.8888888888888888,
              "#fdca26"
             ],
             [
              1,
              "#f0f921"
             ]
            ],
            "type": "heatmap"
           }
          ],
          "histogram": [
           {
            "marker": {
             "pattern": {
              "fillmode": "overlay",
              "size": 10,
              "solidity": 0.2
             }
            },
            "type": "histogram"
           }
          ],
          "histogram2d": [
           {
            "colorbar": {
             "outlinewidth": 0,
             "ticks": ""
            },
            "colorscale": [
             [
              0,
              "#0d0887"
             ],
             [
              0.1111111111111111,
              "#46039f"
             ],
             [
              0.2222222222222222,
              "#7201a8"
             ],
             [
              0.3333333333333333,
              "#9c179e"
             ],
             [
              0.4444444444444444,
              "#bd3786"
             ],
             [
              0.5555555555555556,
              "#d8576b"
             ],
             [
              0.6666666666666666,
              "#ed7953"
             ],
             [
              0.7777777777777778,
              "#fb9f3a"
             ],
             [
              0.8888888888888888,
              "#fdca26"
             ],
             [
              1,
              "#f0f921"
             ]
            ],
            "type": "histogram2d"
           }
          ],
          "histogram2dcontour": [
           {
            "colorbar": {
             "outlinewidth": 0,
             "ticks": ""
            },
            "colorscale": [
             [
              0,
              "#0d0887"
             ],
             [
              0.1111111111111111,
              "#46039f"
             ],
             [
              0.2222222222222222,
              "#7201a8"
             ],
             [
              0.3333333333333333,
              "#9c179e"
             ],
             [
              0.4444444444444444,
              "#bd3786"
             ],
             [
              0.5555555555555556,
              "#d8576b"
             ],
             [
              0.6666666666666666,
              "#ed7953"
             ],
             [
              0.7777777777777778,
              "#fb9f3a"
             ],
             [
              0.8888888888888888,
              "#fdca26"
             ],
             [
              1,
              "#f0f921"
             ]
            ],
            "type": "histogram2dcontour"
           }
          ],
          "mesh3d": [
           {
            "colorbar": {
             "outlinewidth": 0,
             "ticks": ""
            },
            "type": "mesh3d"
           }
          ],
          "parcoords": [
           {
            "line": {
             "colorbar": {
              "outlinewidth": 0,
              "ticks": ""
             }
            },
            "type": "parcoords"
           }
          ],
          "pie": [
           {
            "automargin": true,
            "type": "pie"
           }
          ],
          "scatter": [
           {
            "fillpattern": {
             "fillmode": "overlay",
             "size": 10,
             "solidity": 0.2
            },
            "type": "scatter"
           }
          ],
          "scatter3d": [
           {
            "line": {
             "colorbar": {
              "outlinewidth": 0,
              "ticks": ""
             }
            },
            "marker": {
             "colorbar": {
              "outlinewidth": 0,
              "ticks": ""
             }
            },
            "type": "scatter3d"
           }
          ],
          "scattercarpet": [
           {
            "marker": {
             "colorbar": {
              "outlinewidth": 0,
              "ticks": ""
             }
            },
            "type": "scattercarpet"
           }
          ],
          "scattergeo": [
           {
            "marker": {
             "colorbar": {
              "outlinewidth": 0,
              "ticks": ""
             }
            },
            "type": "scattergeo"
           }
          ],
          "scattergl": [
           {
            "marker": {
             "colorbar": {
              "outlinewidth": 0,
              "ticks": ""
             }
            },
            "type": "scattergl"
           }
          ],
          "scattermap": [
           {
            "marker": {
             "colorbar": {
              "outlinewidth": 0,
              "ticks": ""
             }
            },
            "type": "scattermap"
           }
          ],
          "scattermapbox": [
           {
            "marker": {
             "colorbar": {
              "outlinewidth": 0,
              "ticks": ""
             }
            },
            "type": "scattermapbox"
           }
          ],
          "scatterpolar": [
           {
            "marker": {
             "colorbar": {
              "outlinewidth": 0,
              "ticks": ""
             }
            },
            "type": "scatterpolar"
           }
          ],
          "scatterpolargl": [
           {
            "marker": {
             "colorbar": {
              "outlinewidth": 0,
              "ticks": ""
             }
            },
            "type": "scatterpolargl"
           }
          ],
          "scatterternary": [
           {
            "marker": {
             "colorbar": {
              "outlinewidth": 0,
              "ticks": ""
             }
            },
            "type": "scatterternary"
           }
          ],
          "surface": [
           {
            "colorbar": {
             "outlinewidth": 0,
             "ticks": ""
            },
            "colorscale": [
             [
              0,
              "#0d0887"
             ],
             [
              0.1111111111111111,
              "#46039f"
             ],
             [
              0.2222222222222222,
              "#7201a8"
             ],
             [
              0.3333333333333333,
              "#9c179e"
             ],
             [
              0.4444444444444444,
              "#bd3786"
             ],
             [
              0.5555555555555556,
              "#d8576b"
             ],
             [
              0.6666666666666666,
              "#ed7953"
             ],
             [
              0.7777777777777778,
              "#fb9f3a"
             ],
             [
              0.8888888888888888,
              "#fdca26"
             ],
             [
              1,
              "#f0f921"
             ]
            ],
            "type": "surface"
           }
          ],
          "table": [
           {
            "cells": {
             "fill": {
              "color": "#EBF0F8"
             },
             "line": {
              "color": "white"
             }
            },
            "header": {
             "fill": {
              "color": "#C8D4E3"
             },
             "line": {
              "color": "white"
             }
            },
            "type": "table"
           }
          ]
         },
         "layout": {
          "annotationdefaults": {
           "arrowcolor": "#2a3f5f",
           "arrowhead": 0,
           "arrowwidth": 1
          },
          "autotypenumbers": "strict",
          "coloraxis": {
           "colorbar": {
            "outlinewidth": 0,
            "ticks": ""
           }
          },
          "colorscale": {
           "diverging": [
            [
             0,
             "#8e0152"
            ],
            [
             0.1,
             "#c51b7d"
            ],
            [
             0.2,
             "#de77ae"
            ],
            [
             0.3,
             "#f1b6da"
            ],
            [
             0.4,
             "#fde0ef"
            ],
            [
             0.5,
             "#f7f7f7"
            ],
            [
             0.6,
             "#e6f5d0"
            ],
            [
             0.7,
             "#b8e186"
            ],
            [
             0.8,
             "#7fbc41"
            ],
            [
             0.9,
             "#4d9221"
            ],
            [
             1,
             "#276419"
            ]
           ],
           "sequential": [
            [
             0,
             "#0d0887"
            ],
            [
             0.1111111111111111,
             "#46039f"
            ],
            [
             0.2222222222222222,
             "#7201a8"
            ],
            [
             0.3333333333333333,
             "#9c179e"
            ],
            [
             0.4444444444444444,
             "#bd3786"
            ],
            [
             0.5555555555555556,
             "#d8576b"
            ],
            [
             0.6666666666666666,
             "#ed7953"
            ],
            [
             0.7777777777777778,
             "#fb9f3a"
            ],
            [
             0.8888888888888888,
             "#fdca26"
            ],
            [
             1,
             "#f0f921"
            ]
           ],
           "sequentialminus": [
            [
             0,
             "#0d0887"
            ],
            [
             0.1111111111111111,
             "#46039f"
            ],
            [
             0.2222222222222222,
             "#7201a8"
            ],
            [
             0.3333333333333333,
             "#9c179e"
            ],
            [
             0.4444444444444444,
             "#bd3786"
            ],
            [
             0.5555555555555556,
             "#d8576b"
            ],
            [
             0.6666666666666666,
             "#ed7953"
            ],
            [
             0.7777777777777778,
             "#fb9f3a"
            ],
            [
             0.8888888888888888,
             "#fdca26"
            ],
            [
             1,
             "#f0f921"
            ]
           ]
          },
          "colorway": [
           "#636efa",
           "#EF553B",
           "#00cc96",
           "#ab63fa",
           "#FFA15A",
           "#19d3f3",
           "#FF6692",
           "#B6E880",
           "#FF97FF",
           "#FECB52"
          ],
          "font": {
           "color": "#2a3f5f"
          },
          "geo": {
           "bgcolor": "white",
           "lakecolor": "white",
           "landcolor": "#E5ECF6",
           "showlakes": true,
           "showland": true,
           "subunitcolor": "white"
          },
          "hoverlabel": {
           "align": "left"
          },
          "hovermode": "closest",
          "mapbox": {
           "style": "light"
          },
          "paper_bgcolor": "white",
          "plot_bgcolor": "#E5ECF6",
          "polar": {
           "angularaxis": {
            "gridcolor": "white",
            "linecolor": "white",
            "ticks": ""
           },
           "bgcolor": "#E5ECF6",
           "radialaxis": {
            "gridcolor": "white",
            "linecolor": "white",
            "ticks": ""
           }
          },
          "scene": {
           "xaxis": {
            "backgroundcolor": "#E5ECF6",
            "gridcolor": "white",
            "gridwidth": 2,
            "linecolor": "white",
            "showbackground": true,
            "ticks": "",
            "zerolinecolor": "white"
           },
           "yaxis": {
            "backgroundcolor": "#E5ECF6",
            "gridcolor": "white",
            "gridwidth": 2,
            "linecolor": "white",
            "showbackground": true,
            "ticks": "",
            "zerolinecolor": "white"
           },
           "zaxis": {
            "backgroundcolor": "#E5ECF6",
            "gridcolor": "white",
            "gridwidth": 2,
            "linecolor": "white",
            "showbackground": true,
            "ticks": "",
            "zerolinecolor": "white"
           }
          },
          "shapedefaults": {
           "line": {
            "color": "#2a3f5f"
           }
          },
          "ternary": {
           "aaxis": {
            "gridcolor": "white",
            "linecolor": "white",
            "ticks": ""
           },
           "baxis": {
            "gridcolor": "white",
            "linecolor": "white",
            "ticks": ""
           },
           "bgcolor": "#E5ECF6",
           "caxis": {
            "gridcolor": "white",
            "linecolor": "white",
            "ticks": ""
           }
          },
          "title": {
           "x": 0.05
          },
          "xaxis": {
           "automargin": true,
           "gridcolor": "white",
           "linecolor": "white",
           "ticks": "",
           "title": {
            "standoff": 15
           },
           "zerolinecolor": "white",
           "zerolinewidth": 2
          },
          "yaxis": {
           "automargin": true,
           "gridcolor": "white",
           "linecolor": "white",
           "ticks": "",
           "title": {
            "standoff": 15
           },
           "zerolinecolor": "white",
           "zerolinewidth": 2
          }
         }
        },
        "title": {
         "text": "Departments by Spending in 2027"
        },
        "xaxis": {
         "tickangle": -45,
         "tickmode": "array",
         "ticktext": [
          "DEPARTMENT OF HEALTH\nAND HUMAN SERVICES\n(Formerly DHS)",
          "DEPARTMENT OF EDUCATION",
          "DEPARTMENT OF TRANSPORTATION",
          "ALL OTHERS"
         ],
         "tickvals": [
          0,
          1,
          2,
          3
         ],
         "title": {
          "text": "Department"
         }
        },
        "yaxis": {
         "title": {
          "text": "Spending (Billions $)"
         }
        }
       }
      }
     },
     "metadata": {},
     "output_type": "display_data"
    }
   ],
   "source": [
    "produce_department_bar_chart(me_processed_df, '2027', top_n=3, produce_all_others=True)"
   ]
  },
  {
   "cell_type": "code",
   "execution_count": 15,
   "id": "f31912bf",
   "metadata": {},
   "outputs": [],
   "source": [
    "df = me_processed_df\n",
    "year = '2025'\n",
    "to_exclude=['TOTAL']\n",
    "top_n=5\n",
    "produce_all_others=True\n",
    "\n",
    "total_df = df.xs('DEPARTMENT TOTAL', level='Funding Source').fillna(0) / 1e9\n",
    "total_for_year_df = total_df[year].sort_values(ascending=False)\n",
    "total_with_exclusions = total_for_year_df[~total_for_year_df.index.isin(to_exclude)]\n",
    "top_departments = total_with_exclusions.head(top_n)\n",
    "if produce_all_others:\n",
    "    others_sum = total_with_exclusions.iloc[top_n:].sum()\n",
    "    top_departments = pd.concat([top_departments, pd.Series({'ALL OTHERS': others_sum})])"
   ]
  },
  {
   "cell_type": "code",
   "execution_count": 16,
   "id": "a93ab842",
   "metadata": {},
   "outputs": [],
   "source": [
    "category_mapping_df = load_category_mapping(Config.CATEGORY_MAPPING_FILE)\n",
    "nh_as_reported_df = load_nh_budget_as_reported(budget_years, Config.DATA_DIR_NH)\n",
    "\n",
    "me_standardized_df = standardize_budget(me_processed_df, category_mapping_df, 'Maine')\n",
    "nh_standardized_df = standardize_budget(nh_as_reported_df, category_mapping_df, 'New Hampshire')\n"
   ]
  },
  {
   "cell_type": "code",
   "execution_count": 18,
   "id": "70901096",
   "metadata": {},
   "outputs": [
    {
     "data": {
      "text/html": [
       "<div>\n",
       "<style scoped>\n",
       "    .dataframe tbody tr th:only-of-type {\n",
       "        vertical-align: middle;\n",
       "    }\n",
       "\n",
       "    .dataframe tbody tr th {\n",
       "        vertical-align: top;\n",
       "    }\n",
       "\n",
       "    .dataframe thead tr th {\n",
       "        text-align: left;\n",
       "    }\n",
       "\n",
       "    .dataframe thead tr:last-of-type th {\n",
       "        text-align: right;\n",
       "    }\n",
       "</style>\n",
       "<table border=\"1\" class=\"dataframe\">\n",
       "  <thead>\n",
       "    <tr>\n",
       "      <th></th>\n",
       "      <th colspan=\"3\" halign=\"left\">ME</th>\n",
       "      <th colspan=\"3\" halign=\"left\">NH</th>\n",
       "      <th colspan=\"3\" halign=\"left\">Diff</th>\n",
       "    </tr>\n",
       "    <tr>\n",
       "      <th></th>\n",
       "      <th>End</th>\n",
       "      <th>Arith Change</th>\n",
       "      <th>% Change</th>\n",
       "      <th>End</th>\n",
       "      <th>Arith Change</th>\n",
       "      <th>% Change</th>\n",
       "      <th>End</th>\n",
       "      <th>Arith Change</th>\n",
       "      <th>% Change</th>\n",
       "    </tr>\n",
       "    <tr>\n",
       "      <th>Department</th>\n",
       "      <th></th>\n",
       "      <th></th>\n",
       "      <th></th>\n",
       "      <th></th>\n",
       "      <th></th>\n",
       "      <th></th>\n",
       "      <th></th>\n",
       "      <th></th>\n",
       "      <th></th>\n",
       "    </tr>\n",
       "  </thead>\n",
       "  <tbody>\n",
       "    <tr>\n",
       "      <th>ADMINISTRATION &amp; FINANCE</th>\n",
       "      <td>1068.0</td>\n",
       "      <td>374.0</td>\n",
       "      <td>53.9%</td>\n",
       "      <td>249.0</td>\n",
       "      <td>-5.0</td>\n",
       "      <td>-2.0%</td>\n",
       "      <td>819.0</td>\n",
       "      <td>379.0</td>\n",
       "      <td>55.9%</td>\n",
       "    </tr>\n",
       "    <tr>\n",
       "      <th>AGRICULTURE &amp; CONSERVATION</th>\n",
       "      <td>411.0</td>\n",
       "      <td>-31.0</td>\n",
       "      <td>-7.0%</td>\n",
       "      <td>385.0</td>\n",
       "      <td>-104.0</td>\n",
       "      <td>-21.3%</td>\n",
       "      <td>26.0</td>\n",
       "      <td>73.0</td>\n",
       "      <td>14.3%</td>\n",
       "    </tr>\n",
       "    <tr>\n",
       "      <th>APPLIED EDUCATION</th>\n",
       "      <td>19.0</td>\n",
       "      <td>4.0</td>\n",
       "      <td>26.7%</td>\n",
       "      <td>NaN</td>\n",
       "      <td>NaN</td>\n",
       "      <td>nan%</td>\n",
       "      <td>NaN</td>\n",
       "      <td>NaN</td>\n",
       "      <td>nan%</td>\n",
       "    </tr>\n",
       "    <tr>\n",
       "      <th>ARTS &amp; CULTURE</th>\n",
       "      <td>13.0</td>\n",
       "      <td>5.0</td>\n",
       "      <td>62.5%</td>\n",
       "      <td>NaN</td>\n",
       "      <td>NaN</td>\n",
       "      <td>nan%</td>\n",
       "      <td>NaN</td>\n",
       "      <td>NaN</td>\n",
       "      <td>nan%</td>\n",
       "    </tr>\n",
       "    <tr>\n",
       "      <th>ATTORNEY GENERAL</th>\n",
       "      <td>50.0</td>\n",
       "      <td>-3.0</td>\n",
       "      <td>-5.7%</td>\n",
       "      <td>193.0</td>\n",
       "      <td>-43.0</td>\n",
       "      <td>-18.2%</td>\n",
       "      <td>-143.0</td>\n",
       "      <td>40.0</td>\n",
       "      <td>12.6%</td>\n",
       "    </tr>\n",
       "    <tr>\n",
       "      <th>CHILD WELFARE</th>\n",
       "      <td>0.0</td>\n",
       "      <td>0.0</td>\n",
       "      <td>nan%</td>\n",
       "      <td>NaN</td>\n",
       "      <td>NaN</td>\n",
       "      <td>nan%</td>\n",
       "      <td>NaN</td>\n",
       "      <td>NaN</td>\n",
       "      <td>nan%</td>\n",
       "    </tr>\n",
       "    <tr>\n",
       "      <th>COMMUNITY COLLEGES</th>\n",
       "      <td>123.0</td>\n",
       "      <td>15.0</td>\n",
       "      <td>13.9%</td>\n",
       "      <td>64.0</td>\n",
       "      <td>-6.0</td>\n",
       "      <td>-8.6%</td>\n",
       "      <td>59.0</td>\n",
       "      <td>21.0</td>\n",
       "      <td>22.5%</td>\n",
       "    </tr>\n",
       "    <tr>\n",
       "      <th>COMMUNITY DEVELOPMENT</th>\n",
       "      <td>0.0</td>\n",
       "      <td>0.0</td>\n",
       "      <td>nan%</td>\n",
       "      <td>NaN</td>\n",
       "      <td>NaN</td>\n",
       "      <td>nan%</td>\n",
       "      <td>NaN</td>\n",
       "      <td>NaN</td>\n",
       "      <td>nan%</td>\n",
       "    </tr>\n",
       "    <tr>\n",
       "      <th>CORRECTIONS</th>\n",
       "      <td>218.0</td>\n",
       "      <td>-21.0</td>\n",
       "      <td>-8.8%</td>\n",
       "      <td>184.0</td>\n",
       "      <td>-11.0</td>\n",
       "      <td>-5.6%</td>\n",
       "      <td>34.0</td>\n",
       "      <td>-10.0</td>\n",
       "      <td>-3.1%</td>\n",
       "    </tr>\n",
       "    <tr>\n",
       "      <th>ECONOMIC DEVELOPMENT</th>\n",
       "      <td>240.0</td>\n",
       "      <td>129.0</td>\n",
       "      <td>116.2%</td>\n",
       "      <td>282.0</td>\n",
       "      <td>93.0</td>\n",
       "      <td>49.2%</td>\n",
       "      <td>-42.0</td>\n",
       "      <td>36.0</td>\n",
       "      <td>67.0%</td>\n",
       "    </tr>\n",
       "    <tr>\n",
       "      <th>EDUCATION</th>\n",
       "      <td>2010.0</td>\n",
       "      <td>-133.0</td>\n",
       "      <td>-6.2%</td>\n",
       "      <td>2056.0</td>\n",
       "      <td>31.0</td>\n",
       "      <td>1.5%</td>\n",
       "      <td>-46.0</td>\n",
       "      <td>-164.0</td>\n",
       "      <td>-7.7%</td>\n",
       "    </tr>\n",
       "    <tr>\n",
       "      <th>ENERGY</th>\n",
       "      <td>61.0</td>\n",
       "      <td>18.0</td>\n",
       "      <td>41.9%</td>\n",
       "      <td>147.0</td>\n",
       "      <td>-2.0</td>\n",
       "      <td>-1.3%</td>\n",
       "      <td>-86.0</td>\n",
       "      <td>20.0</td>\n",
       "      <td>43.2%</td>\n",
       "    </tr>\n",
       "    <tr>\n",
       "      <th>ETHICS &amp; ELECTIONS</th>\n",
       "      <td>4.0</td>\n",
       "      <td>0.0</td>\n",
       "      <td>0.0%</td>\n",
       "      <td>NaN</td>\n",
       "      <td>NaN</td>\n",
       "      <td>nan%</td>\n",
       "      <td>NaN</td>\n",
       "      <td>NaN</td>\n",
       "      <td>nan%</td>\n",
       "    </tr>\n",
       "    <tr>\n",
       "      <th>EXECUTIVE</th>\n",
       "      <td>23.0</td>\n",
       "      <td>0.0</td>\n",
       "      <td>0.0%</td>\n",
       "      <td>294.0</td>\n",
       "      <td>261.0</td>\n",
       "      <td>790.9%</td>\n",
       "      <td>-271.0</td>\n",
       "      <td>-261.0</td>\n",
       "      <td>-790.9%</td>\n",
       "    </tr>\n",
       "    <tr>\n",
       "      <th>FINANCIAL &amp; PROFESSIONAL REGULATION</th>\n",
       "      <td>58.0</td>\n",
       "      <td>17.0</td>\n",
       "      <td>41.5%</td>\n",
       "      <td>32.0</td>\n",
       "      <td>-3.0</td>\n",
       "      <td>-8.6%</td>\n",
       "      <td>26.0</td>\n",
       "      <td>20.0</td>\n",
       "      <td>50.0%</td>\n",
       "    </tr>\n",
       "    <tr>\n",
       "      <th>FIRE</th>\n",
       "      <td>2.0</td>\n",
       "      <td>2.0</td>\n",
       "      <td>inf%</td>\n",
       "      <td>NaN</td>\n",
       "      <td>NaN</td>\n",
       "      <td>nan%</td>\n",
       "      <td>NaN</td>\n",
       "      <td>NaN</td>\n",
       "      <td>nan%</td>\n",
       "    </tr>\n",
       "    <tr>\n",
       "      <th>FISH &amp; WILDLIFE</th>\n",
       "      <td>74.0</td>\n",
       "      <td>-6.0</td>\n",
       "      <td>-7.5%</td>\n",
       "      <td>93.0</td>\n",
       "      <td>-2.0</td>\n",
       "      <td>-2.1%</td>\n",
       "      <td>-19.0</td>\n",
       "      <td>-4.0</td>\n",
       "      <td>-5.4%</td>\n",
       "    </tr>\n",
       "    <tr>\n",
       "      <th>GOVERNMENT OVERSIGHT</th>\n",
       "      <td>6.0</td>\n",
       "      <td>0.0</td>\n",
       "      <td>0.0%</td>\n",
       "      <td>NaN</td>\n",
       "      <td>NaN</td>\n",
       "      <td>nan%</td>\n",
       "      <td>NaN</td>\n",
       "      <td>NaN</td>\n",
       "      <td>nan%</td>\n",
       "    </tr>\n",
       "    <tr>\n",
       "      <th>HEALTH &amp; HUMAN SERVICES</th>\n",
       "      <td>5912.0</td>\n",
       "      <td>-214.0</td>\n",
       "      <td>-3.5%</td>\n",
       "      <td>4421.0</td>\n",
       "      <td>-180.0</td>\n",
       "      <td>-3.9%</td>\n",
       "      <td>1491.0</td>\n",
       "      <td>-34.0</td>\n",
       "      <td>0.4%</td>\n",
       "    </tr>\n",
       "    <tr>\n",
       "      <th>HOUSING</th>\n",
       "      <td>101.0</td>\n",
       "      <td>9.0</td>\n",
       "      <td>9.8%</td>\n",
       "      <td>NaN</td>\n",
       "      <td>NaN</td>\n",
       "      <td>nan%</td>\n",
       "      <td>NaN</td>\n",
       "      <td>NaN</td>\n",
       "      <td>nan%</td>\n",
       "    </tr>\n",
       "    <tr>\n",
       "      <th>HUMAN RIGHTS</th>\n",
       "      <td>4.0</td>\n",
       "      <td>0.0</td>\n",
       "      <td>0.0%</td>\n",
       "      <td>NaN</td>\n",
       "      <td>NaN</td>\n",
       "      <td>nan%</td>\n",
       "      <td>NaN</td>\n",
       "      <td>NaN</td>\n",
       "      <td>nan%</td>\n",
       "    </tr>\n",
       "    <tr>\n",
       "      <th>INDUSTRY PROMOTION</th>\n",
       "      <td>6.0</td>\n",
       "      <td>0.0</td>\n",
       "      <td>0.0%</td>\n",
       "      <td>NaN</td>\n",
       "      <td>NaN</td>\n",
       "      <td>nan%</td>\n",
       "      <td>NaN</td>\n",
       "      <td>NaN</td>\n",
       "      <td>nan%</td>\n",
       "    </tr>\n",
       "    <tr>\n",
       "      <th>INFORMATION TECHNOLOGY</th>\n",
       "      <td>0.0</td>\n",
       "      <td>0.0</td>\n",
       "      <td>nan%</td>\n",
       "      <td>118.0</td>\n",
       "      <td>-22.0</td>\n",
       "      <td>-15.7%</td>\n",
       "      <td>-118.0</td>\n",
       "      <td>22.0</td>\n",
       "      <td>nan%</td>\n",
       "    </tr>\n",
       "    <tr>\n",
       "      <th>JUDICIAL</th>\n",
       "      <td>109.0</td>\n",
       "      <td>-13.0</td>\n",
       "      <td>-10.7%</td>\n",
       "      <td>118.0</td>\n",
       "      <td>-19.0</td>\n",
       "      <td>-13.9%</td>\n",
       "      <td>-9.0</td>\n",
       "      <td>6.0</td>\n",
       "      <td>3.2%</td>\n",
       "    </tr>\n",
       "    <tr>\n",
       "      <th>JUDICIAL COUNCIL</th>\n",
       "      <td>29.0</td>\n",
       "      <td>-17.0</td>\n",
       "      <td>-37.0%</td>\n",
       "      <td>46.0</td>\n",
       "      <td>-2.0</td>\n",
       "      <td>-4.2%</td>\n",
       "      <td>-17.0</td>\n",
       "      <td>-15.0</td>\n",
       "      <td>-32.8%</td>\n",
       "    </tr>\n",
       "    <tr>\n",
       "      <th>LABOR</th>\n",
       "      <td>325.0</td>\n",
       "      <td>-89.0</td>\n",
       "      <td>-21.5%</td>\n",
       "      <td>114.0</td>\n",
       "      <td>-14.0</td>\n",
       "      <td>-10.9%</td>\n",
       "      <td>211.0</td>\n",
       "      <td>-75.0</td>\n",
       "      <td>-10.6%</td>\n",
       "    </tr>\n",
       "    <tr>\n",
       "      <th>LEGISLATIVE</th>\n",
       "      <td>33.0</td>\n",
       "      <td>2.0</td>\n",
       "      <td>6.5%</td>\n",
       "      <td>41.0</td>\n",
       "      <td>-3.0</td>\n",
       "      <td>-6.8%</td>\n",
       "      <td>-8.0</td>\n",
       "      <td>5.0</td>\n",
       "      <td>13.3%</td>\n",
       "    </tr>\n",
       "    <tr>\n",
       "      <th>MEDICAL RESEARCH</th>\n",
       "      <td>0.0</td>\n",
       "      <td>0.0</td>\n",
       "      <td>nan%</td>\n",
       "      <td>NaN</td>\n",
       "      <td>NaN</td>\n",
       "      <td>nan%</td>\n",
       "      <td>NaN</td>\n",
       "      <td>NaN</td>\n",
       "      <td>nan%</td>\n",
       "    </tr>\n",
       "    <tr>\n",
       "      <th>MILITARY &amp; VETERANS</th>\n",
       "      <td>78.0</td>\n",
       "      <td>4.0</td>\n",
       "      <td>5.4%</td>\n",
       "      <td>57.0</td>\n",
       "      <td>-20.0</td>\n",
       "      <td>-26.0%</td>\n",
       "      <td>21.0</td>\n",
       "      <td>24.0</td>\n",
       "      <td>31.4%</td>\n",
       "    </tr>\n",
       "    <tr>\n",
       "      <th>NATURAL &amp; CULTURAL RESOURCES</th>\n",
       "      <td>7.0</td>\n",
       "      <td>-1.0</td>\n",
       "      <td>-12.5%</td>\n",
       "      <td>134.0</td>\n",
       "      <td>-3.0</td>\n",
       "      <td>-2.2%</td>\n",
       "      <td>-127.0</td>\n",
       "      <td>2.0</td>\n",
       "      <td>-10.3%</td>\n",
       "    </tr>\n",
       "    <tr>\n",
       "      <th>POLICING</th>\n",
       "      <td>135.0</td>\n",
       "      <td>-42.0</td>\n",
       "      <td>-23.7%</td>\n",
       "      <td>470.0</td>\n",
       "      <td>-11.0</td>\n",
       "      <td>-2.3%</td>\n",
       "      <td>-335.0</td>\n",
       "      <td>-31.0</td>\n",
       "      <td>-21.4%</td>\n",
       "    </tr>\n",
       "    <tr>\n",
       "      <th>RETIREMENT SYSTEM</th>\n",
       "      <td>0.0</td>\n",
       "      <td>-6.0</td>\n",
       "      <td>-100.0%</td>\n",
       "      <td>73.0</td>\n",
       "      <td>52.0</td>\n",
       "      <td>247.6%</td>\n",
       "      <td>-73.0</td>\n",
       "      <td>-58.0</td>\n",
       "      <td>-347.6%</td>\n",
       "    </tr>\n",
       "    <tr>\n",
       "      <th>REVENUE ADMINISTRATION</th>\n",
       "      <td>0.0</td>\n",
       "      <td>0.0</td>\n",
       "      <td>nan%</td>\n",
       "      <td>21.0</td>\n",
       "      <td>-6.0</td>\n",
       "      <td>-22.2%</td>\n",
       "      <td>-21.0</td>\n",
       "      <td>6.0</td>\n",
       "      <td>nan%</td>\n",
       "    </tr>\n",
       "    <tr>\n",
       "      <th>SECRETARY OF STATE</th>\n",
       "      <td>61.0</td>\n",
       "      <td>-5.0</td>\n",
       "      <td>-7.6%</td>\n",
       "      <td>18.0</td>\n",
       "      <td>-1.0</td>\n",
       "      <td>-5.3%</td>\n",
       "      <td>43.0</td>\n",
       "      <td>-4.0</td>\n",
       "      <td>-2.3%</td>\n",
       "    </tr>\n",
       "    <tr>\n",
       "      <th>STATE HOUSE</th>\n",
       "      <td>1.0</td>\n",
       "      <td>0.0</td>\n",
       "      <td>0.0%</td>\n",
       "      <td>NaN</td>\n",
       "      <td>NaN</td>\n",
       "      <td>nan%</td>\n",
       "      <td>NaN</td>\n",
       "      <td>NaN</td>\n",
       "      <td>nan%</td>\n",
       "    </tr>\n",
       "    <tr>\n",
       "      <th>STATE LIBRARIES</th>\n",
       "      <td>9.0</td>\n",
       "      <td>0.0</td>\n",
       "      <td>0.0%</td>\n",
       "      <td>NaN</td>\n",
       "      <td>NaN</td>\n",
       "      <td>nan%</td>\n",
       "      <td>NaN</td>\n",
       "      <td>NaN</td>\n",
       "      <td>nan%</td>\n",
       "    </tr>\n",
       "    <tr>\n",
       "      <th>TELECOM</th>\n",
       "      <td>13.0</td>\n",
       "      <td>5.0</td>\n",
       "      <td>62.5%</td>\n",
       "      <td>NaN</td>\n",
       "      <td>NaN</td>\n",
       "      <td>nan%</td>\n",
       "      <td>NaN</td>\n",
       "      <td>NaN</td>\n",
       "      <td>nan%</td>\n",
       "    </tr>\n",
       "    <tr>\n",
       "      <th>TRANSPORTATION</th>\n",
       "      <td>874.0</td>\n",
       "      <td>-385.0</td>\n",
       "      <td>-30.6%</td>\n",
       "      <td>1716.0</td>\n",
       "      <td>74.0</td>\n",
       "      <td>4.5%</td>\n",
       "      <td>-842.0</td>\n",
       "      <td>-459.0</td>\n",
       "      <td>-35.1%</td>\n",
       "    </tr>\n",
       "    <tr>\n",
       "      <th>TREASURY</th>\n",
       "      <td>352.0</td>\n",
       "      <td>-25.0</td>\n",
       "      <td>-6.6%</td>\n",
       "      <td>307.0</td>\n",
       "      <td>20.0</td>\n",
       "      <td>7.0%</td>\n",
       "      <td>45.0</td>\n",
       "      <td>-45.0</td>\n",
       "      <td>-13.6%</td>\n",
       "    </tr>\n",
       "    <tr>\n",
       "      <th>UNIVERSITY SYSTEM</th>\n",
       "      <td>281.0</td>\n",
       "      <td>-11.0</td>\n",
       "      <td>-3.8%</td>\n",
       "      <td>98.0</td>\n",
       "      <td>-6.0</td>\n",
       "      <td>-5.8%</td>\n",
       "      <td>183.0</td>\n",
       "      <td>-5.0</td>\n",
       "      <td>2.0%</td>\n",
       "    </tr>\n",
       "    <tr>\n",
       "      <th>EXECUTIVE COUNCIL</th>\n",
       "      <td>NaN</td>\n",
       "      <td>NaN</td>\n",
       "      <td>nan%</td>\n",
       "      <td>0.0</td>\n",
       "      <td>0.0</td>\n",
       "      <td>nan%</td>\n",
       "      <td>NaN</td>\n",
       "      <td>NaN</td>\n",
       "      <td>nan%</td>\n",
       "    </tr>\n",
       "    <tr>\n",
       "      <th>LIQUOR COMMISSION</th>\n",
       "      <td>NaN</td>\n",
       "      <td>NaN</td>\n",
       "      <td>nan%</td>\n",
       "      <td>97.0</td>\n",
       "      <td>-7.0</td>\n",
       "      <td>-6.7%</td>\n",
       "      <td>NaN</td>\n",
       "      <td>NaN</td>\n",
       "      <td>nan%</td>\n",
       "    </tr>\n",
       "    <tr>\n",
       "      <th>LOTTERY COMMISSION</th>\n",
       "      <td>NaN</td>\n",
       "      <td>NaN</td>\n",
       "      <td>nan%</td>\n",
       "      <td>11.0</td>\n",
       "      <td>-2.0</td>\n",
       "      <td>-15.4%</td>\n",
       "      <td>NaN</td>\n",
       "      <td>NaN</td>\n",
       "      <td>nan%</td>\n",
       "    </tr>\n",
       "    <tr>\n",
       "      <th>STATE RUN ENTITIES</th>\n",
       "      <td>NaN</td>\n",
       "      <td>NaN</td>\n",
       "      <td>nan%</td>\n",
       "      <td>11.0</td>\n",
       "      <td>2.0</td>\n",
       "      <td>22.2%</td>\n",
       "      <td>NaN</td>\n",
       "      <td>NaN</td>\n",
       "      <td>nan%</td>\n",
       "    </tr>\n",
       "  </tbody>\n",
       "</table>\n",
       "</div>"
      ],
      "text/plain": [
       "                                         ME                            NH  \\\n",
       "                                        End Arith Change % Change     End   \n",
       "Department                                                                  \n",
       "ADMINISTRATION & FINANCE             1068.0        374.0    53.9%   249.0   \n",
       "AGRICULTURE & CONSERVATION            411.0        -31.0    -7.0%   385.0   \n",
       "APPLIED EDUCATION                      19.0          4.0    26.7%     NaN   \n",
       "ARTS & CULTURE                         13.0          5.0    62.5%     NaN   \n",
       "ATTORNEY GENERAL                       50.0         -3.0    -5.7%   193.0   \n",
       "CHILD WELFARE                           0.0          0.0     nan%     NaN   \n",
       "COMMUNITY COLLEGES                    123.0         15.0    13.9%    64.0   \n",
       "COMMUNITY DEVELOPMENT                   0.0          0.0     nan%     NaN   \n",
       "CORRECTIONS                           218.0        -21.0    -8.8%   184.0   \n",
       "ECONOMIC DEVELOPMENT                  240.0        129.0   116.2%   282.0   \n",
       "EDUCATION                            2010.0       -133.0    -6.2%  2056.0   \n",
       "ENERGY                                 61.0         18.0    41.9%   147.0   \n",
       "ETHICS & ELECTIONS                      4.0          0.0     0.0%     NaN   \n",
       "EXECUTIVE                              23.0          0.0     0.0%   294.0   \n",
       "FINANCIAL & PROFESSIONAL REGULATION    58.0         17.0    41.5%    32.0   \n",
       "FIRE                                    2.0          2.0     inf%     NaN   \n",
       "FISH & WILDLIFE                        74.0         -6.0    -7.5%    93.0   \n",
       "GOVERNMENT OVERSIGHT                    6.0          0.0     0.0%     NaN   \n",
       "HEALTH & HUMAN SERVICES              5912.0       -214.0    -3.5%  4421.0   \n",
       "HOUSING                               101.0          9.0     9.8%     NaN   \n",
       "HUMAN RIGHTS                            4.0          0.0     0.0%     NaN   \n",
       "INDUSTRY PROMOTION                      6.0          0.0     0.0%     NaN   \n",
       "INFORMATION TECHNOLOGY                  0.0          0.0     nan%   118.0   \n",
       "JUDICIAL                              109.0        -13.0   -10.7%   118.0   \n",
       "JUDICIAL COUNCIL                       29.0        -17.0   -37.0%    46.0   \n",
       "LABOR                                 325.0        -89.0   -21.5%   114.0   \n",
       "LEGISLATIVE                            33.0          2.0     6.5%    41.0   \n",
       "MEDICAL RESEARCH                        0.0          0.0     nan%     NaN   \n",
       "MILITARY & VETERANS                    78.0          4.0     5.4%    57.0   \n",
       "NATURAL & CULTURAL RESOURCES            7.0         -1.0   -12.5%   134.0   \n",
       "POLICING                              135.0        -42.0   -23.7%   470.0   \n",
       "RETIREMENT SYSTEM                       0.0         -6.0  -100.0%    73.0   \n",
       "REVENUE ADMINISTRATION                  0.0          0.0     nan%    21.0   \n",
       "SECRETARY OF STATE                     61.0         -5.0    -7.6%    18.0   \n",
       "STATE HOUSE                             1.0          0.0     0.0%     NaN   \n",
       "STATE LIBRARIES                         9.0          0.0     0.0%     NaN   \n",
       "TELECOM                                13.0          5.0    62.5%     NaN   \n",
       "TRANSPORTATION                        874.0       -385.0   -30.6%  1716.0   \n",
       "TREASURY                              352.0        -25.0    -6.6%   307.0   \n",
       "UNIVERSITY SYSTEM                     281.0        -11.0    -3.8%    98.0   \n",
       "EXECUTIVE COUNCIL                       NaN          NaN     nan%     0.0   \n",
       "LIQUOR COMMISSION                       NaN          NaN     nan%    97.0   \n",
       "LOTTERY COMMISSION                      NaN          NaN     nan%    11.0   \n",
       "STATE RUN ENTITIES                      NaN          NaN     nan%    11.0   \n",
       "\n",
       "                                                             Diff  \\\n",
       "                                    Arith Change % Change     End   \n",
       "Department                                                          \n",
       "ADMINISTRATION & FINANCE                    -5.0    -2.0%   819.0   \n",
       "AGRICULTURE & CONSERVATION                -104.0   -21.3%    26.0   \n",
       "APPLIED EDUCATION                            NaN     nan%     NaN   \n",
       "ARTS & CULTURE                               NaN     nan%     NaN   \n",
       "ATTORNEY GENERAL                           -43.0   -18.2%  -143.0   \n",
       "CHILD WELFARE                                NaN     nan%     NaN   \n",
       "COMMUNITY COLLEGES                          -6.0    -8.6%    59.0   \n",
       "COMMUNITY DEVELOPMENT                        NaN     nan%     NaN   \n",
       "CORRECTIONS                                -11.0    -5.6%    34.0   \n",
       "ECONOMIC DEVELOPMENT                        93.0    49.2%   -42.0   \n",
       "EDUCATION                                   31.0     1.5%   -46.0   \n",
       "ENERGY                                      -2.0    -1.3%   -86.0   \n",
       "ETHICS & ELECTIONS                           NaN     nan%     NaN   \n",
       "EXECUTIVE                                  261.0   790.9%  -271.0   \n",
       "FINANCIAL & PROFESSIONAL REGULATION         -3.0    -8.6%    26.0   \n",
       "FIRE                                         NaN     nan%     NaN   \n",
       "FISH & WILDLIFE                             -2.0    -2.1%   -19.0   \n",
       "GOVERNMENT OVERSIGHT                         NaN     nan%     NaN   \n",
       "HEALTH & HUMAN SERVICES                   -180.0    -3.9%  1491.0   \n",
       "HOUSING                                      NaN     nan%     NaN   \n",
       "HUMAN RIGHTS                                 NaN     nan%     NaN   \n",
       "INDUSTRY PROMOTION                           NaN     nan%     NaN   \n",
       "INFORMATION TECHNOLOGY                     -22.0   -15.7%  -118.0   \n",
       "JUDICIAL                                   -19.0   -13.9%    -9.0   \n",
       "JUDICIAL COUNCIL                            -2.0    -4.2%   -17.0   \n",
       "LABOR                                      -14.0   -10.9%   211.0   \n",
       "LEGISLATIVE                                 -3.0    -6.8%    -8.0   \n",
       "MEDICAL RESEARCH                             NaN     nan%     NaN   \n",
       "MILITARY & VETERANS                        -20.0   -26.0%    21.0   \n",
       "NATURAL & CULTURAL RESOURCES                -3.0    -2.2%  -127.0   \n",
       "POLICING                                   -11.0    -2.3%  -335.0   \n",
       "RETIREMENT SYSTEM                           52.0   247.6%   -73.0   \n",
       "REVENUE ADMINISTRATION                      -6.0   -22.2%   -21.0   \n",
       "SECRETARY OF STATE                          -1.0    -5.3%    43.0   \n",
       "STATE HOUSE                                  NaN     nan%     NaN   \n",
       "STATE LIBRARIES                              NaN     nan%     NaN   \n",
       "TELECOM                                      NaN     nan%     NaN   \n",
       "TRANSPORTATION                              74.0     4.5%  -842.0   \n",
       "TREASURY                                    20.0     7.0%    45.0   \n",
       "UNIVERSITY SYSTEM                           -6.0    -5.8%   183.0   \n",
       "EXECUTIVE COUNCIL                            0.0     nan%     NaN   \n",
       "LIQUOR COMMISSION                           -7.0    -6.7%     NaN   \n",
       "LOTTERY COMMISSION                          -2.0   -15.4%     NaN   \n",
       "STATE RUN ENTITIES                           2.0    22.2%     NaN   \n",
       "\n",
       "                                                           \n",
       "                                    Arith Change % Change  \n",
       "Department                                                 \n",
       "ADMINISTRATION & FINANCE                   379.0    55.9%  \n",
       "AGRICULTURE & CONSERVATION                  73.0    14.3%  \n",
       "APPLIED EDUCATION                            NaN     nan%  \n",
       "ARTS & CULTURE                               NaN     nan%  \n",
       "ATTORNEY GENERAL                            40.0    12.6%  \n",
       "CHILD WELFARE                                NaN     nan%  \n",
       "COMMUNITY COLLEGES                          21.0    22.5%  \n",
       "COMMUNITY DEVELOPMENT                        NaN     nan%  \n",
       "CORRECTIONS                                -10.0    -3.1%  \n",
       "ECONOMIC DEVELOPMENT                        36.0    67.0%  \n",
       "EDUCATION                                 -164.0    -7.7%  \n",
       "ENERGY                                      20.0    43.2%  \n",
       "ETHICS & ELECTIONS                           NaN     nan%  \n",
       "EXECUTIVE                                 -261.0  -790.9%  \n",
       "FINANCIAL & PROFESSIONAL REGULATION         20.0    50.0%  \n",
       "FIRE                                         NaN     nan%  \n",
       "FISH & WILDLIFE                             -4.0    -5.4%  \n",
       "GOVERNMENT OVERSIGHT                         NaN     nan%  \n",
       "HEALTH & HUMAN SERVICES                    -34.0     0.4%  \n",
       "HOUSING                                      NaN     nan%  \n",
       "HUMAN RIGHTS                                 NaN     nan%  \n",
       "INDUSTRY PROMOTION                           NaN     nan%  \n",
       "INFORMATION TECHNOLOGY                      22.0     nan%  \n",
       "JUDICIAL                                     6.0     3.2%  \n",
       "JUDICIAL COUNCIL                           -15.0   -32.8%  \n",
       "LABOR                                      -75.0   -10.6%  \n",
       "LEGISLATIVE                                  5.0    13.3%  \n",
       "MEDICAL RESEARCH                             NaN     nan%  \n",
       "MILITARY & VETERANS                         24.0    31.4%  \n",
       "NATURAL & CULTURAL RESOURCES                 2.0   -10.3%  \n",
       "POLICING                                   -31.0   -21.4%  \n",
       "RETIREMENT SYSTEM                          -58.0  -347.6%  \n",
       "REVENUE ADMINISTRATION                       6.0     nan%  \n",
       "SECRETARY OF STATE                          -4.0    -2.3%  \n",
       "STATE HOUSE                                  NaN     nan%  \n",
       "STATE LIBRARIES                              NaN     nan%  \n",
       "TELECOM                                      NaN     nan%  \n",
       "TRANSPORTATION                            -459.0   -35.1%  \n",
       "TREASURY                                   -45.0   -13.6%  \n",
       "UNIVERSITY SYSTEM                           -5.0     2.0%  \n",
       "EXECUTIVE COUNCIL                            NaN     nan%  \n",
       "LIQUOR COMMISSION                            NaN     nan%  \n",
       "LOTTERY COMMISSION                           NaN     nan%  \n",
       "STATE RUN ENTITIES                           NaN     nan%  "
      ]
     },
     "execution_count": 18,
     "metadata": {},
     "output_type": "execute_result"
    }
   ],
   "source": [
    "create_state_comparison_through_time(me_standardized_df, nh_standardized_df, '2023', '2024')"
   ]
  },
  {
   "cell_type": "code",
   "execution_count": null,
   "id": "776af009",
   "metadata": {},
   "outputs": [],
   "source": []
  }
 ],
 "metadata": {
  "kernelspec": {
   "display_name": "base",
   "language": "python",
   "name": "python3"
  },
  "language_info": {
   "codemirror_mode": {
    "name": "ipython",
    "version": 3
   },
   "file_extension": ".py",
   "mimetype": "text/x-python",
   "name": "python",
   "nbconvert_exporter": "python",
   "pygments_lexer": "ipython3",
   "version": "3.13.5"
  }
 },
 "nbformat": 4,
 "nbformat_minor": 5
}
